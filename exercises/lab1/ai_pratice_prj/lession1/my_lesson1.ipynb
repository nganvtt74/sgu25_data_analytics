{
 "cells": [
  {
   "cell_type": "markdown",
   "id": "abbf376f-6102-442f-98b5-feaf4777cb77",
   "metadata": {},
   "source": [
    "# \"Thuc hanh tri tue nhan tao Buoi 1\"\n",
    "## \"Noi dung thuc hanh\""
   ]
  },
  {
   "cell_type": "markdown",
   "id": "8924ae5c-4861-462e-bce5-4e6a6e216390",
   "metadata": {},
   "source": [
    "### In chu ra man hinh"
   ]
  },
  {
   "cell_type": "code",
   "execution_count": 4,
   "id": "84c7f508-fb3e-4c8b-99fb-90663ff2f90a",
   "metadata": {},
   "outputs": [
    {
     "name": "stdout",
     "output_type": "stream",
     "text": [
      "Hello, Python World!\n"
     ]
    }
   ],
   "source": [
    "# lenh 1 - xuat chu\n",
    "print(\"Hello, Python World!\")"
   ]
  },
  {
   "cell_type": "code",
   "execution_count": 7,
   "id": "d0514425-da1c-4a56-b8cf-c82aee729a0c",
   "metadata": {},
   "outputs": [
    {
     "name": "stdout",
     "output_type": "stream",
     "text": [
      "Hello, Python World!\n"
     ]
    }
   ],
   "source": [
    "%run ex0_hello_world.py"
   ]
  },
  {
   "cell_type": "code",
   "execution_count": 9,
   "id": "bb8f523c-10c6-4840-a82c-40316dc1dc98",
   "metadata": {},
   "outputs": [
    {
     "name": "stdout",
     "output_type": "stream",
     "text": [
      "Hello, Python World!\n"
     ]
    }
   ],
   "source": [
    "!python ex0_hello_world.py"
   ]
  },
  {
   "cell_type": "code",
   "execution_count": 6,
   "id": "e055a4b4-9d35-4056-a8bd-5d717044518f",
   "metadata": {},
   "outputs": [
    {
     "name": "stdout",
     "output_type": "stream",
     "text": [
      "Calculator Basic\n"
     ]
    },
    {
     "name": "stdin",
     "output_type": "stream",
     "text": [
      "Moi ban nhap so a:  1\n",
      "Moi ban nhap so b:  2\n"
     ]
    },
    {
     "name": "stdout",
     "output_type": "stream",
     "text": [
      "c = 1 + 2 = 3\n"
     ]
    }
   ],
   "source": [
    "%run ex1_calc.py"
   ]
  },
  {
   "cell_type": "code",
   "execution_count": 2,
   "id": "6f9d67c4-8557-45ef-8e7c-5dab50967214",
   "metadata": {},
   "outputs": [
    {
     "name": "stdin",
     "output_type": "stream",
     "text": [
      "Nhập bán kính hình tròn:  5\n"
     ]
    },
    {
     "name": "stdout",
     "output_type": "stream",
     "text": [
      "Chu vi hình tròn = 31.41592653589793\n",
      "Diện tích hình tròn = 78.53981633974483\n"
     ]
    }
   ],
   "source": [
    "%run ex3_circle.py"
   ]
  },
  {
   "cell_type": "markdown",
   "id": "7b2fde8a-8194-4023-80d1-9e2d5b386285",
   "metadata": {},
   "source": [
    "# Ket thuc"
   ]
  }
 ],
 "metadata": {
  "kernelspec": {
   "display_name": "Python 3 (ipykernel)",
   "language": "python",
   "name": "python3"
  },
  "language_info": {
   "codemirror_mode": {
    "name": "ipython",
    "version": 3
   },
   "file_extension": ".py",
   "mimetype": "text/x-python",
   "name": "python",
   "nbconvert_exporter": "python",
   "pygments_lexer": "ipython3",
   "version": "3.13.5"
  }
 },
 "nbformat": 4,
 "nbformat_minor": 5
}
