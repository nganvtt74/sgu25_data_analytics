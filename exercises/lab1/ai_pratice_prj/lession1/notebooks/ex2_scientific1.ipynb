{
 "cells": [
  {
   "cell_type": "markdown",
   "id": "eee5e87b-4ecc-4756-b98c-26688661848e",
   "metadata": {},
   "source": [
    "# ex2_scientific1\n",
    "\n",
    "## Nội dung bài\n",
    "Hiển thị ngẫu nhiên $N=50$ hình tròn:\n",
    "+ Tâm $c_i = (x_i,y_i)$ ngẫu nhiên với $x_i, y_i \\in \\left[0, 1 \\right]$\n",
    "+ Màu sắc $color_i$ ngẫu nhiên với $color_i \\in \\left[0, 1 \\right]$\n",
    "+ Diện tích $area_i = \\pi * r_i^2$ với sinh ngẫu nhiên $r_i \\in \\left[0, 1 \\right]$\n",
    "\n",
    "## Bài làm"
   ]
  },
  {
   "cell_type": "markdown",
   "id": "2f731979-ab5c-4a7e-98c1-b29f2c538789",
   "metadata": {},
   "source": [
    "### Import thư viện"
   ]
  },
  {
   "cell_type": "code",
   "execution_count": null,
   "id": "dbc01495-542d-46d3-8de2-f6e730642015",
   "metadata": {},
   "outputs": [],
   "source": [
    "import numpy as np\n",
    "import matplotlib.pyplot as plt\n",
    "from IPython import display # hiển thị rich output"
   ]
  },
  {
   "cell_type": "markdown",
   "id": "0c806064-2e05-48f2-a7a8-04052ff51e47",
   "metadata": {},
   "source": []
  },
  {
   "cell_type": "markdown",
   "id": "10c6848a-9530-4912-bd4f-5e031815b8dc",
   "metadata": {},
   "source": [
    "### Sinh ngẫu nhiên hình tròn"
   ]
  },
  {
   "cell_type": "code",
   "execution_count": null,
   "id": "2d501d35-5ddf-449e-9b0e-bc62c67a761a",
   "metadata": {},
   "outputs": [],
   "source": [
    "%time\n",
    "# generate randomly the center(x,y) of circle, color, area\n",
    "N = 50\n",
    "x = np.random.rand(N)\n",
    "y = np.random.rand(N)\n",
    "colors = np.random.rand(N)\n",
    "area = np.pi * (15 * np.random.rand(N)) ** 2 # 0 to 15 point radii"
   ]
  },
  {
   "cell_type": "code",
   "execution_count": null,
   "id": "de76c994-8b0f-411b-ae7d-40b41c69c6a7",
   "metadata": {},
   "outputs": [],
   "source": [
    "# Mã kiểm tra dữ liệu\n",
    "print(f'+ x: len={len(x):d}, [{min(x):.2f}, {max(x):.2f}]: 10 samples [{x[0:10]}]')\n",
    "print(f'+ y: len={len(y):d}, [{min(y):.2f}, {max(y):.2f}]: 10 samples [{y[0:10]}]')\n",
    "print(f'+ colors: len={len(colors):d}, [{min(colors):.2f}, {max(colors):.2f}]: 10 samples [{colors[0:10]}]')\n",
    "print(f'+ area: len={len(area):d}, [{min(area):.2f}, {max(area):.2f}]: 10 samples [{area[0:10]}]')"
   ]
  },
  {
   "cell_type": "markdown",
   "id": "c3091f8a-addd-43bb-bb66-7a020fd60985",
   "metadata": {},
   "source": [
    "### Hiển thị đồ thị"
   ]
  },
  {
   "cell_type": "code",
   "execution_count": null,
   "id": "d2904337-1e88-4714-b814-07120b7015e5",
   "metadata": {},
   "outputs": [],
   "source": [
    "%matplotlib inline\n",
    "plt.scatter(x, y, s=area, c=colors, alpha=0.5)\n",
    "plt.show()"
   ]
  },
  {
   "cell_type": "markdown",
   "id": "9c9b5503-ad37-4783-93be-88c2cf8df0ec",
   "metadata": {},
   "source": [
    "# Kết thúc"
   ]
  }
 ],
 "metadata": {
  "kernelspec": {
   "display_name": "Python 3 (ipykernel)",
   "language": "python",
   "name": "python3"
  },
  "language_info": {
   "codemirror_mode": {
    "name": "ipython",
    "version": 3
   },
   "file_extension": ".py",
   "mimetype": "text/x-python",
   "name": "python",
   "nbconvert_exporter": "python",
   "pygments_lexer": "ipython3",
   "version": "3.13.5"
  }
 },
 "nbformat": 4,
 "nbformat_minor": 5
}
