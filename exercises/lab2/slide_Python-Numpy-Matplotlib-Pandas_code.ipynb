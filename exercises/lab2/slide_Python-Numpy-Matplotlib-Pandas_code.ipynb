{
  "cells": [
    {
      "cell_type": "markdown",
      "id": "09b30f06-167e-4e6e-a7f3-86bcde98821d",
      "metadata": {
        "id": "09b30f06-167e-4e6e-a7f3-86bcde98821d"
      },
      "source": [
        "# Python Numpy Matplotlib Pandas"
      ]
    },
    {
      "cell_type": "markdown",
      "source": [
        "## Biến - Kiểu dữ liệu - Khối lệnh"
      ],
      "metadata": {
        "id": "f8BfsRtHOTDv"
      },
      "id": "f8BfsRtHOTDv"
    },
    {
      "cell_type": "markdown",
      "source": [
        "### Biến"
      ],
      "metadata": {
        "id": "FE9rBpCjOWje"
      },
      "id": "FE9rBpCjOWje"
    },
    {
      "cell_type": "code",
      "source": [
        "# Biến\n",
        "n = 12 # biến n là kiểu nguyên\n",
        "n = n + 0.1 # biến n chuyển sang kiểu thực"
      ],
      "metadata": {
        "id": "CPsVQ5e9OXYl"
      },
      "id": "CPsVQ5e9OXYl",
      "execution_count": 1,
      "outputs": []
    },
    {
      "cell_type": "markdown",
      "source": [
        "### Dữ liệu kiểu chuỗi"
      ],
      "metadata": {
        "id": "btS2W4K6OuLx"
      },
      "id": "btS2W4K6OuLx"
    },
    {
      "cell_type": "code",
      "source": [
        "name = 'matt'\n",
        "# chuỗi trong nó có chứa dấu nháy đơn\n",
        "with_quote = \"I ain't gonna\"\n",
        "# chuỗi có nội dung nằm trên 2 dòng\n",
        "longer = \"\"\"This string has multiple lines in it\"\"\""
      ],
      "metadata": {
        "id": "fZUaB-wVOwdD"
      },
      "id": "fZUaB-wVOwdD",
      "execution_count": 3,
      "outputs": []
    },
    {
      "cell_type": "markdown",
      "source": [
        "### Chuỗi trần"
      ],
      "metadata": {
        "id": "W-uQgl0XPfy_"
      },
      "id": "W-uQgl0XPfy_"
    },
    {
      "cell_type": "code",
      "source": [
        "# Chuỗi trần\n",
        "chuoi = r'\\neu moi ngay' # chuoi tran, bo qua Escape Sequence \\n\n",
        "print(chuoi)"
      ],
      "metadata": {
        "id": "fgNBLj3-PhN-",
        "outputId": "95039779-8b6e-4af2-a336-c0b79182d116",
        "colab": {
          "base_uri": "https://localhost:8080/"
        }
      },
      "id": "fgNBLj3-PhN-",
      "execution_count": 17,
      "outputs": [
        {
          "output_type": "stream",
          "name": "stdout",
          "text": [
            "\\neu moi ngay\n"
          ]
        }
      ]
    },
    {
      "cell_type": "markdown",
      "source": [
        "### Chú thích"
      ],
      "metadata": {
        "id": "O1q2FGlrPw-c"
      },
      "id": "O1q2FGlrPw-c"
    },
    {
      "cell_type": "code",
      "source": [
        "# Comment\n",
        "# Day la cau lenh in ra chuoi"
      ],
      "metadata": {
        "id": "9ZARD5y6Pxzx"
      },
      "id": "9ZARD5y6Pxzx",
      "execution_count": 7,
      "outputs": []
    },
    {
      "cell_type": "markdown",
      "source": [
        "## Nhập và Xuất dữ liệu"
      ],
      "metadata": {
        "id": "3A94ztvtP3t9"
      },
      "id": "3A94ztvtP3t9"
    },
    {
      "cell_type": "markdown",
      "source": [
        "## Xuất dữ liệu"
      ],
      "metadata": {
        "id": "uj-usF0WP68o"
      },
      "id": "uj-usF0WP68o"
    },
    {
      "cell_type": "code",
      "source": [
        "print(42)"
      ],
      "metadata": {
        "id": "FpkyBVxYP76y",
        "outputId": "0f7602f4-c998-4bf2-9ce4-4f6f3d616906",
        "colab": {
          "base_uri": "https://localhost:8080/"
        }
      },
      "id": "FpkyBVxYP76y",
      "execution_count": 8,
      "outputs": [
        {
          "output_type": "stream",
          "name": "stdout",
          "text": [
            "42\n"
          ]
        }
      ]
    },
    {
      "cell_type": "code",
      "source": [
        "a = 1.0\n",
        "print(\"a = \", a)"
      ],
      "metadata": {
        "id": "67tpjJJZQAA5",
        "outputId": "c9309ab4-884a-4565-d03c-f7ee55363840",
        "colab": {
          "base_uri": "https://localhost:8080/"
        }
      },
      "id": "67tpjJJZQAA5",
      "execution_count": 18,
      "outputs": [
        {
          "output_type": "stream",
          "name": "stdout",
          "text": [
            "a =  1.0\n"
          ]
        }
      ]
    },
    {
      "cell_type": "code",
      "source": [
        "print(\"a = \\n\", a)"
      ],
      "metadata": {
        "id": "pNMeGZjqQJGp",
        "outputId": "db039c6c-6d0c-4f27-9497-2eab0fe7cb61",
        "colab": {
          "base_uri": "https://localhost:8080/"
        }
      },
      "id": "pNMeGZjqQJGp",
      "execution_count": 19,
      "outputs": [
        {
          "output_type": "stream",
          "name": "stdout",
          "text": [
            "a = \n",
            " 1.0\n"
          ]
        }
      ]
    },
    {
      "cell_type": "code",
      "source": [
        "print(\"a\",\"b\")"
      ],
      "metadata": {
        "id": "dKrYWXuEQ6AL",
        "outputId": "32b6228e-ce40-4af7-ed27-c5bf01e6110c",
        "colab": {
          "base_uri": "https://localhost:8080/"
        }
      },
      "id": "dKrYWXuEQ6AL",
      "execution_count": 20,
      "outputs": [
        {
          "output_type": "stream",
          "name": "stdout",
          "text": [
            "a b\n"
          ]
        }
      ]
    },
    {
      "cell_type": "code",
      "source": [
        "print(\"a\",\"b\",sep=\"\")"
      ],
      "metadata": {
        "id": "vtAu3jiTQ7n4",
        "outputId": "b38c733c-b7fa-4b2d-af0b-ea02ab5f8b5d",
        "colab": {
          "base_uri": "https://localhost:8080/"
        }
      },
      "id": "vtAu3jiTQ7n4",
      "execution_count": 21,
      "outputs": [
        {
          "output_type": "stream",
          "name": "stdout",
          "text": [
            "ab\n"
          ]
        }
      ]
    },
    {
      "cell_type": "code",
      "source": [
        "print(192,168,178,42,sep=\".\")"
      ],
      "metadata": {
        "id": "3RS-Z0jcQ8iP",
        "outputId": "2860d9c9-f60e-4e8e-afaf-80dcf63cee1c",
        "colab": {
          "base_uri": "https://localhost:8080/"
        }
      },
      "id": "3RS-Z0jcQ8iP",
      "execution_count": 22,
      "outputs": [
        {
          "output_type": "stream",
          "name": "stdout",
          "text": [
            "192.168.178.42\n"
          ]
        }
      ]
    },
    {
      "cell_type": "code",
      "source": [
        "print(\"a\",\"b\",sep=\":-)\")"
      ],
      "metadata": {
        "id": "N-L4fhsbQ-Vq",
        "outputId": "fc1c654c-4c78-4666-8cd4-0613b404b3a2",
        "colab": {
          "base_uri": "https://localhost:8080/"
        }
      },
      "id": "N-L4fhsbQ-Vq",
      "execution_count": 23,
      "outputs": [
        {
          "output_type": "stream",
          "name": "stdout",
          "text": [
            "a:-)b\n"
          ]
        }
      ]
    },
    {
      "cell_type": "markdown",
      "source": [
        "### Nhập dữ liệu"
      ],
      "metadata": {
        "id": "JQxxJoc9RBUk"
      },
      "id": "JQxxJoc9RBUk"
    },
    {
      "cell_type": "code",
      "source": [
        "# Sử dụng hàm input để nhập dữ liệu từ bàn phím\n",
        "name = input(\"What's your name? \")\n",
        "print(\"Nice to meet you \" + name + \"!\")\n",
        "age = input(\"Your age? \")\n",
        "print(\"You are already \" + age + \" years old, \" + name + \"!\")"
      ],
      "metadata": {
        "id": "g0cUk6gDRCsc",
        "outputId": "2b3c07a6-44ed-4d59-b073-eba74cd8d23b",
        "colab": {
          "base_uri": "https://localhost:8080/"
        }
      },
      "id": "g0cUk6gDRCsc",
      "execution_count": 25,
      "outputs": [
        {
          "output_type": "stream",
          "name": "stdout",
          "text": [
            "What's your name? Ngan\n",
            "Nice to meet you Ngan!\n",
            "Your age? 21\n",
            "You are already 21 years old, Ngan!\n"
          ]
        }
      ]
    },
    {
      "cell_type": "code",
      "source": [
        "# Có thể kết hợp chuyển kiểu nếu muốn tường minh\n",
        "age = int(input(\"Your age? \"))\n",
        "print(\"You are already %d years old!\", age)"
      ],
      "metadata": {
        "id": "ChmN8CfIRSt7",
        "outputId": "075e4dd2-8a2d-474b-9195-a84be4ea29f1",
        "colab": {
          "base_uri": "https://localhost:8080/"
        }
      },
      "id": "ChmN8CfIRSt7",
      "execution_count": 26,
      "outputs": [
        {
          "output_type": "stream",
          "name": "stdout",
          "text": [
            "Your age? 21\n",
            "You are already %d years old! 21\n"
          ]
        }
      ]
    },
    {
      "cell_type": "code",
      "source": [
        "# Ví dụ minh họa - Giải phương trình bậc 2\n",
        "a = float(input(\"A = \"))\n",
        "b = float(input(\"B = \"))\n",
        "c = float(input(\"C = \"))\n",
        "delta = b*b-4*a*c\n",
        "\n",
        "if delta==0:\n",
        "  print(\"Nghiem kep: x = \", str(-b/2/a))\n",
        "\n",
        "if delta<0:\n",
        "  print(\"Phuong trinh vo nghiem\")\n",
        "\n",
        "if delta>0:\n",
        "  print(\"X1 = \" + str((-b+delta**0.5)/2/a))\n",
        "  print(\"X2 = \" + str((-b-delta**0.5)/2/a))"
      ],
      "metadata": {
        "id": "vQKuQamRRZaR",
        "outputId": "97bf6c94-ac51-488b-a93c-eb6a93c2a821",
        "colab": {
          "base_uri": "https://localhost:8080/"
        }
      },
      "id": "vQKuQamRRZaR",
      "execution_count": 4,
      "outputs": [
        {
          "output_type": "stream",
          "name": "stdout",
          "text": [
            "A = 2\n",
            "B = 4\n",
            "C = 6\n",
            "Phuong trinh vo nghiem\n"
          ]
        }
      ]
    },
    {
      "cell_type": "markdown",
      "source": [
        "## Kiểu dữ liệu và phép toán\n"
      ],
      "metadata": {
        "id": "hUfSLqsOSUSU"
      },
      "id": "hUfSLqsOSUSU"
    },
    {
      "cell_type": "markdown",
      "source": [
        "### Kiểu số"
      ],
      "metadata": {
        "id": "sRZ8YzNJSWgY"
      },
      "id": "sRZ8YzNJSWgY"
    },
    {
      "cell_type": "code",
      "source": [
        "# Python viết số nguyên theo nhiều hệ cơ số\n",
        "A = 1234        # hệ cơ số 10\n",
        "B = 0xAF1       # hệ cơ số 16\n",
        "C = 0o772       # hệ cơ số 8\n",
        "D = 0b1001      # hệ cơ số 2"
      ],
      "metadata": {
        "id": "h79G7DUeSWy3"
      },
      "id": "h79G7DUeSWy3",
      "execution_count": 8,
      "outputs": []
    },
    {
      "cell_type": "code",
      "source": [
        "# Chuyển đổi từ số nguyên thành string ở các hệ cơ số khác nhau\n",
        "K = str(1234)     # chuyển thành str ở hệ cơ số 10\n",
        "L = hex(1234)     # chuyển thành str ở hệ cơ số 16\n",
        "M = oct(1234)     # chuyển thành str ở hệ cơ số 8\n",
        "N = bin(1234)     # chuyển thành str ở hệ cơ số 2"
      ],
      "metadata": {
        "id": "z4JqH7clSc_M"
      },
      "id": "z4JqH7clSc_M",
      "execution_count": 9,
      "outputs": []
    },
    {
      "cell_type": "code",
      "source": [
        "# Số thực\n",
        "X = 12.34\n",
        "Y = 314.15279e-2        # dạng số nguyên và phần mũ 10"
      ],
      "metadata": {
        "id": "3OprQ-9MSigo"
      },
      "id": "3OprQ-9MSigo",
      "execution_count": 10,
      "outputs": []
    },
    {
      "cell_type": "code",
      "source": [
        "# Số phức\n",
        "A = 3+4j\n",
        "B = 2-2j\n",
        "print(A+B)          # sẽ in ra (5+2j)"
      ],
      "metadata": {
        "id": "-t8w4TurSnov",
        "outputId": "0bc1f839-4182-417c-d85c-8d76597d7eca",
        "colab": {
          "base_uri": "https://localhost:8080/"
        }
      },
      "id": "-t8w4TurSnov",
      "execution_count": 12,
      "outputs": [
        {
          "output_type": "stream",
          "name": "stdout",
          "text": [
            "(5+2j)\n"
          ]
        }
      ]
    },
    {
      "cell_type": "markdown",
      "source": [
        "### Phép toán"
      ],
      "metadata": {
        "id": "pk6zfsd2TQR1"
      },
      "id": "pk6zfsd2TQR1"
    },
    {
      "cell_type": "code",
      "source": [
        "# Phép toán số học\n",
        "print(10 + 5)   # 15\n",
        "print(10 - 5)   # 5\n",
        "print(10 * 5)   # 50\n",
        "print(10 % 3)   # 1\n",
        "print(2 ** 3)   # 8"
      ],
      "metadata": {
        "id": "DkoOSDWuTREB",
        "outputId": "7c6a251b-6590-403b-94e9-51e0985e2db0",
        "colab": {
          "base_uri": "https://localhost:8080/"
        }
      },
      "id": "DkoOSDWuTREB",
      "execution_count": 14,
      "outputs": [
        {
          "output_type": "stream",
          "name": "stdout",
          "text": [
            "15\n",
            "5\n",
            "50\n",
            "1\n",
            "8\n"
          ]
        }
      ]
    },
    {
      "cell_type": "code",
      "source": [
        "# Phép chia\n",
        "print(10 / 3)   # 3.3333333333333335 (chia đúng)\n",
        "print(10 // 3)  # 3 (chia nguyên)"
      ],
      "metadata": {
        "id": "yqrPwlxuTuAB",
        "outputId": "f063a15e-183e-48ae-e7d3-00968348a1ae",
        "colab": {
          "base_uri": "https://localhost:8080/"
        }
      },
      "id": "yqrPwlxuTuAB",
      "execution_count": 15,
      "outputs": [
        {
          "output_type": "stream",
          "name": "stdout",
          "text": [
            "3.3333333333333335\n",
            "3\n"
          ]
        }
      ]
    },
    {
      "cell_type": "code",
      "source": [
        "# Phép logic\n",
        "print(True and False)  # False\n",
        "print(True or False)   # True\n",
        "print(not True)        # False"
      ],
      "metadata": {
        "id": "x1OEoPtzTwBQ",
        "outputId": "f319f5f6-fe86-4b2e-df50-1dc006bb6339",
        "colab": {
          "base_uri": "https://localhost:8080/"
        }
      },
      "id": "x1OEoPtzTwBQ",
      "execution_count": 16,
      "outputs": [
        {
          "output_type": "stream",
          "name": "stdout",
          "text": [
            "False\n",
            "True\n",
            "False\n"
          ]
        }
      ]
    },
    {
      "cell_type": "code",
      "source": [
        "# Mô phỏng phép xor logic\n",
        "a, b = True, False\n",
        "print(bool(a) != bool(b))  # True (xor)"
      ],
      "metadata": {
        "id": "eWq7zshpTyK3",
        "outputId": "c37d05c8-aa9b-4f3a-f92f-f4dbafbb8440",
        "colab": {
          "base_uri": "https://localhost:8080/"
        }
      },
      "id": "eWq7zshpTyK3",
      "execution_count": 17,
      "outputs": [
        {
          "output_type": "stream",
          "name": "stdout",
          "text": [
            "True\n"
          ]
        }
      ]
    },
    {
      "cell_type": "code",
      "source": [
        "# Phép so sánh\n",
        "print(5 < 10)   # True\n",
        "print(5 <= 5)   # True\n",
        "print(10 > 5)   # True\n",
        "print(10 >= 10) # True\n",
        "print(10 != 5)  # True\n",
        "print(10 == 10) # True"
      ],
      "metadata": {
        "id": "_BThwQwKTzjm",
        "outputId": "62cb8a8b-cf62-4ddd-cb25-5bfa0d91638e",
        "colab": {
          "base_uri": "https://localhost:8080/"
        }
      },
      "id": "_BThwQwKTzjm",
      "execution_count": 18,
      "outputs": [
        {
          "output_type": "stream",
          "name": "stdout",
          "text": [
            "True\n",
            "True\n",
            "True\n",
            "True\n",
            "True\n",
            "True\n"
          ]
        }
      ]
    },
    {
      "cell_type": "code",
      "source": [
        "# Phép toán bit\n",
        "print(5 & 3)   # 1 (AND bit)\n",
        "print(5 | 3)   # 7 (OR bit)\n",
        "print(5 ^ 3)   # 6 (XOR bit)\n",
        "print(~5)      # -6 (NOT bit)\n",
        "print(5 << 1)  # 10 (dịch trái)\n",
        "print(5 >> 1)  # 2  (dịch phải)"
      ],
      "metadata": {
        "id": "gPOGapqnT1V6",
        "outputId": "8f7b60fd-ff15-4c19-8711-9858d17e63a1",
        "colab": {
          "base_uri": "https://localhost:8080/"
        }
      },
      "id": "gPOGapqnT1V6",
      "execution_count": 19,
      "outputs": [
        {
          "output_type": "stream",
          "name": "stdout",
          "text": [
            "1\n",
            "7\n",
            "6\n",
            "-6\n",
            "10\n",
            "2\n"
          ]
        }
      ]
    },
    {
      "cell_type": "code",
      "source": [
        "# Phép kiểm tra tập hợp\n",
        "print(1 in [1, 2, 3])     # True\n",
        "print(4 not in [1, 2, 3]) # True"
      ],
      "metadata": {
        "id": "5EvTIW39T3QJ",
        "outputId": "6ec230b0-fb28-4f5b-8077-5e9d4076b106",
        "colab": {
          "base_uri": "https://localhost:8080/"
        }
      },
      "id": "5EvTIW39T3QJ",
      "execution_count": 20,
      "outputs": [
        {
          "output_type": "stream",
          "name": "stdout",
          "text": [
            "True\n",
            "True\n"
          ]
        }
      ]
    },
    {
      "cell_type": "markdown",
      "source": [
        "## Cấu trúc rẽ nhánh"
      ],
      "metadata": {
        "id": "ZxaqiLOBT7Pr"
      },
      "id": "ZxaqiLOBT7Pr"
    },
    {
      "cell_type": "markdown",
      "source": [
        "### Cấu trúc rẽ nhánh if-else"
      ],
      "metadata": {
        "id": "PKJEZ9p8UGN7"
      },
      "id": "PKJEZ9p8UGN7"
    },
    {
      "cell_type": "code",
      "source": [
        "# if-else\n",
        "name = input(\"What's your name? \")\n",
        "print(\"Nice to meet you \" + name + \"!\")\n",
        "age = int(input(\"Your age? \"))\n",
        "print(\"You are already\", age, \"years old,\",\n",
        "name, \"!\")\n",
        "if age>=18:\n",
        "  print(\"Đủ tuổi đi bầu cử\")\n",
        "  if age>100:\n",
        "    print(\"Có vẻ sai sai!\")\n",
        "else:\n",
        "  print(\"Nhỏ quá\")"
      ],
      "metadata": {
        "id": "K2ruQtqcUJqG",
        "outputId": "8d016b01-407c-4ad7-850b-127c23adb3b6",
        "colab": {
          "base_uri": "https://localhost:8080/"
        }
      },
      "id": "K2ruQtqcUJqG",
      "execution_count": 21,
      "outputs": [
        {
          "output_type": "stream",
          "name": "stdout",
          "text": [
            "What's your name? Ngan\n",
            "Nice to meet you Ngan!\n",
            "Your age? 21\n",
            "You are already 21 years old, Ngan !\n",
            "Đủ tuổi đi bầu cử\n"
          ]
        }
      ]
    },
    {
      "cell_type": "markdown",
      "source": [
        "### \"Phép toán\" if"
      ],
      "metadata": {
        "id": "7vuC_nIvUXGK"
      },
      "id": "7vuC_nIvUXGK"
    },
    {
      "cell_type": "code",
      "source": [
        "A = 2\n",
        "B = 3\n",
        "X = A if A > B else B     # X là max của A và B\n",
        "print(X)"
      ],
      "metadata": {
        "id": "gz-QsorCUY9N",
        "outputId": "db45fb94-38e5-4c62-98af-3c8920426176",
        "colab": {
          "base_uri": "https://localhost:8080/"
        }
      },
      "id": "gz-QsorCUY9N",
      "execution_count": 28,
      "outputs": [
        {
          "output_type": "stream",
          "name": "stdout",
          "text": [
            "3\n"
          ]
        }
      ]
    },
    {
      "cell_type": "markdown",
      "source": [
        "## Vòng lặp"
      ],
      "metadata": {
        "id": "n41TpA8eU2RB"
      },
      "id": "n41TpA8eU2RB"
    },
    {
      "cell_type": "markdown",
      "source": [
        "### Vòng lặp `while`"
      ],
      "metadata": {
        "id": "hf2nZQ_MVIFP"
      },
      "id": "hf2nZQ_MVIFP"
    },
    {
      "cell_type": "code",
      "source": [
        "# Ví dụ về vòng lặp while\n",
        "count = 1\n",
        "while count <= 5:   # Lặp cho đến khi count > 5\n",
        "    print(\"Count =\", count)\n",
        "    count += 1"
      ],
      "metadata": {
        "id": "_sQrV3UsVJAf",
        "outputId": "9cf6a635-86d5-4abb-8830-e8fddb685892",
        "colab": {
          "base_uri": "https://localhost:8080/"
        }
      },
      "id": "_sQrV3UsVJAf",
      "execution_count": 30,
      "outputs": [
        {
          "output_type": "stream",
          "name": "stdout",
          "text": [
            "Count = 1\n",
            "Count = 2\n",
            "Count = 3\n",
            "Count = 4\n",
            "Count = 5\n"
          ]
        }
      ]
    },
    {
      "cell_type": "markdown",
      "source": [
        "## Vòng lặp `for`"
      ],
      "metadata": {
        "id": "Dz3DmDwRVT2o"
      },
      "id": "Dz3DmDwRVT2o"
    },
    {
      "cell_type": "code",
      "source": [
        "# Ví dụ về vòng lặp for\n",
        "for d in range(10,20): # in các số từ 10 đến 19\n",
        "  print(d)\n",
        "for d in range(20,10,-1): # in các số từ 20 đến 11\n",
        "  print(d)"
      ],
      "metadata": {
        "id": "krjEI9pjVVXB",
        "outputId": "34138757-ce0e-4eae-fe96-2a6ab4ec7a7f",
        "colab": {
          "base_uri": "https://localhost:8080/"
        }
      },
      "id": "krjEI9pjVVXB",
      "execution_count": 33,
      "outputs": [
        {
          "output_type": "stream",
          "name": "stdout",
          "text": [
            "10\n",
            "11\n",
            "12\n",
            "13\n",
            "14\n",
            "15\n",
            "16\n",
            "17\n",
            "18\n",
            "19\n",
            "20\n",
            "19\n",
            "18\n",
            "17\n",
            "16\n",
            "15\n",
            "14\n",
            "13\n",
            "12\n",
            "11\n"
          ]
        }
      ]
    },
    {
      "cell_type": "markdown",
      "source": [
        "## Hàm"
      ],
      "metadata": {
        "id": "8TWfKTzpV0S6"
      },
      "id": "8TWfKTzpV0S6"
    },
    {
      "cell_type": "code",
      "source": [
        "# Ví dụ về hàm tính tích 2 số\n",
        "def tich(a, b = 1):\n",
        "  return a*b"
      ],
      "metadata": {
        "id": "IWFKTMZ1V03U"
      },
      "id": "IWFKTMZ1V03U",
      "execution_count": 36,
      "outputs": []
    },
    {
      "cell_type": "code",
      "source": [
        "# Thực hiện hàm tính tích 2 số\n",
        "print(tich(10, 20)) # 200\n",
        "print(tich(10)) # 10\n",
        "print(tich(a=5)) # 5\n",
        "print(tich(b=6, a=5)) # 30"
      ],
      "metadata": {
        "id": "I1HtWtrXV9zG",
        "outputId": "850c10c4-0d51-4c4a-c579-99d6638c4b81",
        "colab": {
          "base_uri": "https://localhost:8080/"
        }
      },
      "id": "I1HtWtrXV9zG",
      "execution_count": 38,
      "outputs": [
        {
          "output_type": "stream",
          "name": "stdout",
          "text": [
            "200\n",
            "10\n",
            "5\n",
            "30\n"
          ]
        }
      ]
    },
    {
      "cell_type": "markdown",
      "source": [
        "## String (chuỗi)"
      ],
      "metadata": {
        "id": "rzyoVZSZXcA6"
      },
      "id": "rzyoVZSZXcA6"
    },
    {
      "cell_type": "markdown",
      "source": [
        "### Kiểu chuỗi"
      ],
      "metadata": {
        "id": "DzBrdWWAXfBg"
      },
      "id": "DzBrdWWAXfBg"
    },
    {
      "cell_type": "markdown",
      "source": [
        "#### Phép toán với chuỗi"
      ],
      "metadata": {
        "id": "Lu_GctI4X7Yu"
      },
      "id": "Lu_GctI4X7Yu"
    },
    {
      "cell_type": "code",
      "source": [
        "# Phép nỗi chuỗi (+)\n",
        "s = \"Good\" + \" \" + \"Morning!\"\n",
        "print(s)"
      ],
      "metadata": {
        "id": "A-CEwf0yXf2u",
        "outputId": "93c38a34-c971-4b96-f12d-b723ec62a796",
        "colab": {
          "base_uri": "https://localhost:8080/"
        }
      },
      "id": "A-CEwf0yXf2u",
      "execution_count": 46,
      "outputs": [
        {
          "output_type": "stream",
          "name": "stdout",
          "text": [
            "Good Morning!\n"
          ]
        }
      ]
    },
    {
      "cell_type": "code",
      "source": [
        "# Phép nhân bản (*)\n",
        "s = \"AB\" * 3 # số nguyên\n",
        "print(s)"
      ],
      "metadata": {
        "id": "gY4LoDIOXiSM",
        "outputId": "7e05d2d1-ee38-4329-f440-40e6956652e3",
        "colab": {
          "base_uri": "https://localhost:8080/"
        }
      },
      "id": "gY4LoDIOXiSM",
      "execution_count": 47,
      "outputs": [
        {
          "output_type": "stream",
          "name": "stdout",
          "text": [
            "ABABAB\n"
          ]
        }
      ]
    },
    {
      "cell_type": "code",
      "source": [
        "# Kiểm tra nội dung\n",
        "s in '1ABABABCD' # True"
      ],
      "metadata": {
        "id": "cPj2MUWjXtSe",
        "outputId": "dcf7c792-1e98-475b-e3ac-e18c600edaf6",
        "colab": {
          "base_uri": "https://localhost:8080/"
        }
      },
      "id": "cPj2MUWjXtSe",
      "execution_count": 48,
      "outputs": [
        {
          "output_type": "execute_result",
          "data": {
            "text/plain": [
              "True"
            ]
          },
          "metadata": {},
          "execution_count": 48
        }
      ]
    },
    {
      "cell_type": "markdown",
      "source": [
        "### Cắt chuỗi"
      ],
      "metadata": {
        "id": "pMwWVDaQYHaL"
      },
      "id": "pMwWVDaQYHaL"
    },
    {
      "cell_type": "code",
      "source": [
        "# Ví dụ về cắt chuỗi\n",
        "\n",
        "s = '0123456789'\n",
        "\n",
        "print(s[3:6])\n",
        "# 345  (lấy từ index 3 đến 5)\n",
        "\n",
        "print(s[3:])\n",
        "# 3456789  (từ index 3 đến hết)\n",
        "\n",
        "print(s[:6])\n",
        "# 012345  (từ đầu đến index 5)\n",
        "\n",
        "print(s[-7:-4])\n",
        "# 345  (từ index -7 đến -5)\n",
        "\n",
        "print(s[-4:-7])\n",
        "#  (chuỗi rỗng vì start > end và step mặc định là +1)\n",
        "\n",
        "print(s[-4:-7:-1])\n",
        "# 654  (đi ngược từ -4 đến -6)\n",
        "\n",
        "print(s[:len(s)])\n",
        "# 0123456789  (toàn bộ chuỗi)\n",
        "\n",
        "print(s[:len(s)-1])\n",
        "# 012345678  (toàn bộ trừ ký tự cuối)\n",
        "\n",
        "print(s[:])\n",
        "# 0123456789  (toàn bộ chuỗi)\n",
        "\n",
        "print(s[len(s)::-1])\n",
        "# 9876543210  (đảo ngược chuỗi, có dư 1 index out nhưng Python vẫn xử lý)\n",
        "\n",
        "print(s[len(s)-1::-1])\n",
        "# 9876543210  (đảo ngược chuỗi chính xác)\n",
        "\n",
        "print(s[len(s)-2::-1])\n",
        "# 876543210  (đảo ngược chuỗi trừ ký tự cuối '9')"
      ],
      "metadata": {
        "id": "yUodn8BmYIjK",
        "outputId": "2ff5bf1f-886e-41d1-a38c-7df897c31b50",
        "colab": {
          "base_uri": "https://localhost:8080/"
        }
      },
      "id": "yUodn8BmYIjK",
      "execution_count": 52,
      "outputs": [
        {
          "output_type": "stream",
          "name": "stdout",
          "text": [
            "345\n",
            "3456789\n",
            "012345\n",
            "345\n",
            "\n",
            "654\n",
            "0123456789\n",
            "012345678\n",
            "0123456789\n",
            "9876543210\n",
            "9876543210\n",
            "876543210\n"
          ]
        }
      ]
    },
    {
      "cell_type": "markdown",
      "source": [
        "### Định dạng chuỗi"
      ],
      "metadata": {
        "id": "-mFDV1UUYjUR"
      },
      "id": "-mFDV1UUYjUR"
    },
    {
      "cell_type": "code",
      "source": [
        "# Ví dụ về định dạng chuỗi\n",
        "\n",
        "print(\"Chao %s, gio la %d gio\" % ('txnam', 10))\n",
        "# Chao txnam, gio la 10 gio\n",
        "# %s -> chuỗi, %d -> số nguyên\n",
        "\n",
        "print(\"Can bac 2 cua 2 = %f\" % (2**0.5))\n",
        "# Can bac 2 cua 2 = 1.414214\n",
        "# %f -> số thực (float) mặc định 6 chữ số thập phân\n",
        "\n",
        "print(\"Can bac 2 cua 2 = %10.3f\" % (2**0.5))\n",
        "# Can bac 2 cua 2 =      1.414\n",
        "# %10.3f -> độ rộng 10, lấy 3 số thập phân, căn phải\n",
        "\n",
        "print(\"Can bac 2 cua 2 = %10f\" % (2**0.5))\n",
        "# Can bac 2 cua 2 =   1.414214\n",
        "# %10f -> độ rộng 10, mặc định 6 chữ số thập phân\n",
        "\n",
        "print(\"Can bac 2 cua 2 = %.7f\" % (2**0.5))\n",
        "# Can bac 2 cua 2 = 1.4142136\n",
        "# %.7f -> lấy 7 chữ số thập phân\n"
      ],
      "metadata": {
        "id": "K4AfkwaHYrOr",
        "outputId": "369f26da-d41e-4259-9d4a-0e22aea766ba",
        "colab": {
          "base_uri": "https://localhost:8080/"
        }
      },
      "id": "K4AfkwaHYrOr",
      "execution_count": 51,
      "outputs": [
        {
          "output_type": "stream",
          "name": "stdout",
          "text": [
            "Chao txnam, gio la 10 gio\n",
            "Can bac 2 cua 2 = 1.414214\n",
            "Can bac 2 cua 2 =      1.414\n",
            "Can bac 2 cua 2 =   1.414214\n",
            "Can bac 2 cua 2 = 1.4142136\n"
          ]
        }
      ]
    },
    {
      "cell_type": "markdown",
      "source": [
        "#### Định dạng chuỗi ở dạng f-string"
      ],
      "metadata": {
        "id": "_5NJo_i0ZNVi"
      },
      "id": "_5NJo_i0ZNVi"
    },
    {
      "cell_type": "code",
      "source": [
        "# Định dạng chuỗi ở dạng f-string\n",
        "myname = 'DHNTT'\n",
        "s = f'This is {myname}.' # 'This is DHNTT.'\n",
        "w = f'{s} {myname}' # 'This is DHNTT. DHNTT '\n",
        "z = f'{{s}} {s}' # '{s} This is DHNTT.'"
      ],
      "metadata": {
        "id": "8_O8U9vhY22t"
      },
      "id": "8_O8U9vhY22t",
      "execution_count": 53,
      "outputs": []
    },
    {
      "cell_type": "markdown",
      "source": [
        "#### Định dạng bằng format"
      ],
      "metadata": {
        "id": "EYw9z301ZTzY"
      },
      "id": "EYw9z301ZTzY"
    },
    {
      "cell_type": "code",
      "source": [
        "# Định dạng bằng format\n",
        "\n",
        "# điền lần lượt từng giá trị vào giữa cặp ngoặc nhọn\n",
        "'a: {}, b: {}, c: {}'.format(1, 2, 3)\n",
        "# điền nhưng không lần lượt\n",
        "'a: {1}, b: {2}, c: {0}'.format('one', 'two', 'three')\n",
        "'two same values: {0}, {0}'.format(1, 2)\n",
        "# điền và chỉ định từng giá trị\n",
        "'1: {one}, 2: {two}'.format(one=111, two=222)"
      ],
      "metadata": {
        "id": "8zX3h_65ZB8z",
        "outputId": "ebab2da1-96ce-4fc4-c325-5847c1066327",
        "colab": {
          "base_uri": "https://localhost:8080/",
          "height": 36
        }
      },
      "id": "8zX3h_65ZB8z",
      "execution_count": 54,
      "outputs": [
        {
          "output_type": "execute_result",
          "data": {
            "text/plain": [
              "'1: 111, 2: 222'"
            ],
            "application/vnd.google.colaboratory.intrinsic+json": {
              "type": "string"
            }
          },
          "metadata": {},
          "execution_count": 54
        }
      ]
    },
    {
      "cell_type": "code",
      "source": [
        "# Định dạng bằng format cho phép căn lề phong phú\n",
        "\n",
        "# căn giữa: ' aaaa '\n",
        "'{:^10}'.format('aaaa')\n",
        "# căn lề trái: 'aaaa '\n",
        "'{:<10}'.format('aaaa')\n",
        "# căn lề phải ' aaaa'\n",
        "'{:>10}'.format('aaaa')\n",
        "# căn lề phải, thay khoảng trắng bằng -: '------aaaa'\n",
        "'{:->10}'.format('aaaa')\n",
        "# căn lề trái, thay khoảng trắng *: 'aaa******'\n",
        "'{:*<10}'.format('aaaa')\n",
        "# căn giữa, thay khoảng trắng bằng +: '+++aaaa+++'\n",
        "'{:+^10}'.format('aaaa')"
      ],
      "metadata": {
        "id": "FE16CGD9ZIlq",
        "outputId": "d9cac57b-be6e-40ea-c73b-a61f1bc15b5b",
        "colab": {
          "base_uri": "https://localhost:8080/",
          "height": 36
        }
      },
      "id": "FE16CGD9ZIlq",
      "execution_count": 55,
      "outputs": [
        {
          "output_type": "execute_result",
          "data": {
            "text/plain": [
              "'+++aaaa+++'"
            ],
            "application/vnd.google.colaboratory.intrinsic+json": {
              "type": "string"
            }
          },
          "metadata": {},
          "execution_count": 55
        }
      ]
    },
    {
      "cell_type": "markdown",
      "source": [
        "### Các phương thức của chuỗi"
      ],
      "metadata": {
        "id": "acxu1SDyZvxC"
      },
      "id": "acxu1SDyZvxC"
    },
    {
      "cell_type": "markdown",
      "source": [
        "#### Các phương thức chỉnh dạng"
      ],
      "metadata": {
        "id": "ar7eT0TfaJH4"
      },
      "id": "ar7eT0TfaJH4"
    },
    {
      "cell_type": "code",
      "source": [
        "# Các phương thức chỉnh dạng\n",
        "s = \"hElLo worLD\"\n",
        "\n",
        "print(s.capitalize())  # Hello world\n",
        "print(s.upper())       # HELLO WORLD\n",
        "print(s.lower())       # hello world\n",
        "print(s.swapcase())    # HeLlO WORld\n",
        "print(s.title())       # Hello World"
      ],
      "metadata": {
        "id": "2rfjoGnGaXy3",
        "outputId": "bb3a0375-4665-4777-c73e-4cdb7e250064",
        "colab": {
          "base_uri": "https://localhost:8080/"
        }
      },
      "id": "2rfjoGnGaXy3",
      "execution_count": 57,
      "outputs": [
        {
          "output_type": "stream",
          "name": "stdout",
          "text": [
            "Hello world\n",
            "HELLO WORLD\n",
            "hello world\n",
            "HeLlO WORld\n",
            "Hello World\n"
          ]
        }
      ]
    },
    {
      "cell_type": "markdown",
      "source": [
        "#### Các phương thức căn lề"
      ],
      "metadata": {
        "id": "LHDNk6PxaJEm"
      },
      "id": "LHDNk6PxaJEm"
    },
    {
      "cell_type": "code",
      "source": [
        "# Các phương thức căn lề\n",
        "s = \"hi\"\n",
        "\n",
        "print(s.center(10, \"-\"))  # ----hi----\n",
        "print(s.rjust(10, \"*\"))   # ********hi\n",
        "print(s.ljust(10, \".\"))   # hi........"
      ],
      "metadata": {
        "id": "dyTnphrdadI3",
        "outputId": "0cba8af7-07e0-4aa4-a5fb-91e4b3927d11",
        "colab": {
          "base_uri": "https://localhost:8080/"
        }
      },
      "id": "dyTnphrdadI3",
      "execution_count": 58,
      "outputs": [
        {
          "output_type": "stream",
          "name": "stdout",
          "text": [
            "----hi----\n",
            "********hi\n",
            "hi........\n"
          ]
        }
      ]
    },
    {
      "cell_type": "markdown",
      "source": [
        "#### Các phương thức cắt phần dư"
      ],
      "metadata": {
        "id": "PysxnTi7aJAX"
      },
      "id": "PysxnTi7aJAX"
    },
    {
      "cell_type": "code",
      "source": [
        "# Các phương thức cắt phần dư\n",
        "s = \"  hello  \"\n",
        "print(s.strip())   # \"hello\"\n",
        "print(s.rstrip())  # \"  hello\"\n",
        "print(s.lstrip())  # \"hello  \"\n",
        "\n",
        "s2 = \"--hi--\"\n",
        "print(s2.strip(\"-\"))   # \"hi\"\n",
        "print(s2.rstrip(\"-\"))  # \"--hi\"\n",
        "print(s2.lstrip(\"-\"))  # \"hi--\""
      ],
      "metadata": {
        "id": "yM5Q7USIaou0",
        "outputId": "9b436581-81b4-446b-da92-6e267a455f1f",
        "colab": {
          "base_uri": "https://localhost:8080/"
        }
      },
      "id": "yM5Q7USIaou0",
      "execution_count": 59,
      "outputs": [
        {
          "output_type": "stream",
          "name": "stdout",
          "text": [
            "hello\n",
            "  hello\n",
            "hello  \n",
            "hi\n",
            "--hi\n",
            "hi--\n"
          ]
        }
      ]
    },
    {
      "cell_type": "markdown",
      "source": [
        "#### Tách chuỗi"
      ],
      "metadata": {
        "id": "OSGCL82paI8i"
      },
      "id": "OSGCL82paI8i"
    },
    {
      "cell_type": "code",
      "source": [
        "# Tách chuỗi\n",
        "s = \"a,b,c,d\"\n",
        "print(s.split(\",\"))     # ['a', 'b', 'c', 'd']\n",
        "print(s.rsplit(\",\", 2)) # ['a,b', 'c', 'd']"
      ],
      "metadata": {
        "id": "qDV0JL5Vat_h",
        "outputId": "196e2a6e-0ed3-4591-93d9-aff2e7434eab",
        "colab": {
          "base_uri": "https://localhost:8080/"
        }
      },
      "id": "qDV0JL5Vat_h",
      "execution_count": 60,
      "outputs": [
        {
          "output_type": "stream",
          "name": "stdout",
          "text": [
            "['a', 'b', 'c', 'd']\n",
            "['a,b', 'c', 'd']\n"
          ]
        }
      ]
    },
    {
      "cell_type": "markdown",
      "source": [
        "#### Các phương thức khác"
      ],
      "metadata": {
        "id": "JJANFDaHaIpq"
      },
      "id": "JJANFDaHaIpq"
    },
    {
      "cell_type": "code",
      "source": [
        "# join\n",
        "print(\"-\".join([\"1\", \"2\", \"3\"]))  # \"1-2-3\"\n",
        "\n",
        "# replace\n",
        "print(\"hello world\".replace(\"world\", \"Python\"))  # hello Python\n",
        "\n",
        "# count\n",
        "print(\"banana\".count(\"a\"))  # 3\n",
        "\n",
        "# startswith / endswith\n",
        "print(\"hello\".startswith(\"he\"))  # True\n",
        "print(\"hello\".endswith(\"lo\"))    # True\n",
        "\n",
        "# find / rfind\n",
        "print(\"banana\".find(\"na\"))   # 2\n",
        "print(\"banana\".rfind(\"na\"))  # 4\n",
        "\n",
        "# islower, isupper, istitle, isdigit, isspace\n",
        "print(\"hello\".islower())   # True\n",
        "print(\"HELLO\".isupper())   # True\n",
        "print(\"Hello World\".istitle())  # True\n",
        "print(\"123\".isdigit())     # True\n",
        "print(\"   \".isspace())     # True"
      ],
      "metadata": {
        "id": "DXNPQ60pay9h",
        "outputId": "7c837adf-7d61-4069-812c-ee7369087a1b",
        "colab": {
          "base_uri": "https://localhost:8080/"
        }
      },
      "id": "DXNPQ60pay9h",
      "execution_count": 61,
      "outputs": [
        {
          "output_type": "stream",
          "name": "stdout",
          "text": [
            "1-2-3\n",
            "hello Python\n",
            "3\n",
            "True\n",
            "True\n",
            "2\n",
            "4\n",
            "True\n",
            "True\n",
            "True\n",
            "True\n",
            "True\n"
          ]
        }
      ]
    },
    {
      "cell_type": "markdown",
      "source": [
        "## List (danh sách)"
      ],
      "metadata": {
        "id": "ybVVh2Kna-ED"
      },
      "id": "ybVVh2Kna-ED"
    },
    {
      "cell_type": "markdown",
      "source": [
        "### Khởi tạo list"
      ],
      "metadata": {
        "id": "ZxnZoS8ObTU0"
      },
      "id": "ZxnZoS8ObTU0"
    },
    {
      "cell_type": "code",
      "source": [
        "# Tạo list bằng constructor\n",
        "l1 = list([1, 2, 3, 4]) # list 4 số nguyên\n",
        "l2 = list('abc') # list 3 chuỗi con\n",
        "l3 = list() # list rỗng"
      ],
      "metadata": {
        "id": "MI-0uOtcbUcc"
      },
      "id": "MI-0uOtcbUcc",
      "execution_count": 63,
      "outputs": []
    },
    {
      "cell_type": "code",
      "source": [
        "# Tạo list bằng list comprehension\n",
        "# list 1000 số nguyên từ 0 đến 999\n",
        "X = [n for n in range(1000)]\n",
        "# list gồm 10 list con là các cặp [x, x2]\n",
        "# với x chạy từ 0 đến 9\n",
        "Y = [[x, x*x] for x in range(10)]"
      ],
      "metadata": {
        "id": "Y4QjqSeNbZrm"
      },
      "id": "Y4QjqSeNbZrm",
      "execution_count": 64,
      "outputs": []
    },
    {
      "cell_type": "markdown",
      "source": [
        "### Phép toán, chỉ mục và cắt"
      ],
      "metadata": {
        "id": "nD8gPT4Ubcw-"
      },
      "id": "nD8gPT4Ubcw-"
    },
    {
      "cell_type": "code",
      "source": [
        "# Ví dụ về việc nội dung của list có thể thay đổi\n",
        "l1 = list([1, 2, 3, 4])\n",
        "l1[-1] = list('abc')\n",
        "print(l1)"
      ],
      "metadata": {
        "id": "vG2844KXbehq",
        "outputId": "f6928185-27dc-4dc5-c80e-590086b24917",
        "colab": {
          "base_uri": "https://localhost:8080/"
        }
      },
      "id": "vG2844KXbehq",
      "execution_count": 66,
      "outputs": [
        {
          "output_type": "stream",
          "name": "stdout",
          "text": [
            "[1, 2, 3, ['a', 'b', 'c']]\n"
          ]
        }
      ]
    },
    {
      "cell_type": "markdown",
      "source": [
        "### Các phương thức của list"
      ],
      "metadata": {
        "id": "vj8WaYXub6Vt"
      },
      "id": "vj8WaYXub6Vt"
    },
    {
      "cell_type": "markdown",
      "source": [
        "#### `count(sub, [start, [end]])`"
      ],
      "metadata": {
        "id": "QZhCnvs1cDnf"
      },
      "id": "QZhCnvs1cDnf"
    },
    {
      "cell_type": "code",
      "source": [
        "# count(sub, [start, [end]])\n",
        "x = [1, 2, 2, 3, 2, 4]\n",
        "print(x.count(2))   # 3 (số lần số 2 xuất hiện)"
      ],
      "metadata": {
        "id": "edgNMXstcErv",
        "outputId": "cf5460bb-add3-4f3d-d206-0fd9155a49fe",
        "colab": {
          "base_uri": "https://localhost:8080/"
        }
      },
      "id": "edgNMXstcErv",
      "execution_count": 67,
      "outputs": [
        {
          "output_type": "stream",
          "name": "stdout",
          "text": [
            "3\n"
          ]
        }
      ]
    },
    {
      "cell_type": "markdown",
      "source": [
        "#### `index(sub[, start[, end]])`"
      ],
      "metadata": {
        "id": "NVd5aqXFcINc"
      },
      "id": "NVd5aqXFcINc"
    },
    {
      "cell_type": "code",
      "source": [
        "# index(sub[, start[, end]])\n",
        "x = [10, 20, 30, 20]\n",
        "print(x.index(20))  # 1 (vị trí đầu tiên có 20)"
      ],
      "metadata": {
        "id": "ug_n0qhdcK2E",
        "outputId": "60358d85-6fbd-4820-9ac8-d31f518845b1",
        "colab": {
          "base_uri": "https://localhost:8080/"
        }
      },
      "id": "ug_n0qhdcK2E",
      "execution_count": 68,
      "outputs": [
        {
          "output_type": "stream",
          "name": "stdout",
          "text": [
            "1\n"
          ]
        }
      ]
    },
    {
      "cell_type": "markdown",
      "source": [
        "#### `clear()`"
      ],
      "metadata": {
        "id": "R5YOCfo3cNOu"
      },
      "id": "R5YOCfo3cNOu"
    },
    {
      "cell_type": "code",
      "source": [
        "# clear()\n",
        "x = [1, 2, 3]\n",
        "x.clear()\n",
        "print(x)  # []"
      ],
      "metadata": {
        "id": "tPxzoRescPdK",
        "outputId": "9d30a0d4-e3be-4926-cb52-9a9a97688a81",
        "colab": {
          "base_uri": "https://localhost:8080/"
        }
      },
      "id": "tPxzoRescPdK",
      "execution_count": 69,
      "outputs": [
        {
          "output_type": "stream",
          "name": "stdout",
          "text": [
            "[]\n"
          ]
        }
      ]
    },
    {
      "cell_type": "markdown",
      "source": [
        "#### `append(x)`"
      ],
      "metadata": {
        "id": "OZwT9Y49cUZI"
      },
      "id": "OZwT9Y49cUZI"
    },
    {
      "cell_type": "code",
      "source": [
        "# append(x)\n",
        "x = [1, 2]\n",
        "x.append(3)\n",
        "print(x)  # [1, 2, 3]"
      ],
      "metadata": {
        "id": "YQC8t4vmcW8H",
        "outputId": "ad757e41-7b64-4c1b-bb98-d1fab4846695",
        "colab": {
          "base_uri": "https://localhost:8080/"
        }
      },
      "id": "YQC8t4vmcW8H",
      "execution_count": 70,
      "outputs": [
        {
          "output_type": "stream",
          "name": "stdout",
          "text": [
            "[1, 2, 3]\n"
          ]
        }
      ]
    },
    {
      "cell_type": "markdown",
      "source": [
        "#### `extend(x)`"
      ],
      "metadata": {
        "id": "LhBHVda9caD4"
      },
      "id": "LhBHVda9caD4"
    },
    {
      "cell_type": "code",
      "source": [
        "# extend(x)\n",
        "x = [1, 2]\n",
        "x.extend([3, 4])\n",
        "print(x)  # [1, 2, 3, 4]"
      ],
      "metadata": {
        "id": "xE5318IOccGw",
        "outputId": "3ac06028-4840-4f57-874b-453a24e16751",
        "colab": {
          "base_uri": "https://localhost:8080/"
        }
      },
      "id": "xE5318IOccGw",
      "execution_count": 71,
      "outputs": [
        {
          "output_type": "stream",
          "name": "stdout",
          "text": [
            "[1, 2, 3, 4]\n"
          ]
        }
      ]
    },
    {
      "cell_type": "markdown",
      "source": [
        "#### `insert(p, x)`"
      ],
      "metadata": {
        "id": "iatYMzCGcg0b"
      },
      "id": "iatYMzCGcg0b"
    },
    {
      "cell_type": "code",
      "source": [
        "# insert(p, x)\n",
        "x = [1, 3, 4]\n",
        "x.insert(1, 2)\n",
        "print(x)  # [1, 2, 3, 4]"
      ],
      "metadata": {
        "id": "svRATCnzcecY",
        "outputId": "6a83a991-e249-430e-ded4-b1c5fa4f1843",
        "colab": {
          "base_uri": "https://localhost:8080/"
        }
      },
      "id": "svRATCnzcecY",
      "execution_count": 72,
      "outputs": [
        {
          "output_type": "stream",
          "name": "stdout",
          "text": [
            "[1, 2, 3, 4]\n"
          ]
        }
      ]
    },
    {
      "cell_type": "markdown",
      "source": [
        "#### `pop(p)`"
      ],
      "metadata": {
        "id": "Q2XQ-wC2ct27"
      },
      "id": "Q2XQ-wC2ct27"
    },
    {
      "cell_type": "code",
      "source": [
        "# pop(p)\n",
        "x = [10, 20, 30]\n",
        "print(x.pop())   # 30 (bỏ phần tử cuối)\n",
        "print(x)         # [10, 20]\n",
        "print(x.pop(0))  # 10 (bỏ phần tử tại vị trí 0)\n",
        "print(x)         # [20]"
      ],
      "metadata": {
        "id": "XV9mwVCjcj-Y",
        "outputId": "41503603-c5ca-43b8-a177-972c1ff5f732",
        "colab": {
          "base_uri": "https://localhost:8080/"
        }
      },
      "id": "XV9mwVCjcj-Y",
      "execution_count": 74,
      "outputs": [
        {
          "output_type": "stream",
          "name": "stdout",
          "text": [
            "30\n",
            "[10, 20]\n",
            "10\n",
            "[20]\n"
          ]
        }
      ]
    },
    {
      "cell_type": "markdown",
      "source": [
        "#### `copy()`"
      ],
      "metadata": {
        "id": "_-xxZUvxcwzX"
      },
      "id": "_-xxZUvxcwzX"
    },
    {
      "cell_type": "code",
      "source": [
        "# copy()\n",
        "x = [1, 2, 3]\n",
        "y = x.copy()\n",
        "print(y)   # [1, 2, 3]"
      ],
      "metadata": {
        "id": "cg0IVsvJczEZ",
        "outputId": "d7253fe4-ad9d-45d3-a139-a5978c079846",
        "colab": {
          "base_uri": "https://localhost:8080/"
        }
      },
      "id": "cg0IVsvJczEZ",
      "execution_count": 75,
      "outputs": [
        {
          "output_type": "stream",
          "name": "stdout",
          "text": [
            "[1, 2, 3]\n"
          ]
        }
      ]
    },
    {
      "cell_type": "markdown",
      "source": [
        "#### `remove(x)`"
      ],
      "metadata": {
        "id": "Anr0NueAc3XF"
      },
      "id": "Anr0NueAc3XF"
    },
    {
      "cell_type": "code",
      "source": [
        "# remove(x)\n",
        "x = [1, 2, 3, 2]\n",
        "x.remove(2)\n",
        "print(x)  # [1, 3, 2] (chỉ xóa số 2 đầu tiên)"
      ],
      "metadata": {
        "id": "TZUlOntec4Q5",
        "outputId": "cc4bed27-aa17-4371-9054-bf3b8c082ce9",
        "colab": {
          "base_uri": "https://localhost:8080/"
        }
      },
      "id": "TZUlOntec4Q5",
      "execution_count": 76,
      "outputs": [
        {
          "output_type": "stream",
          "name": "stdout",
          "text": [
            "[1, 3, 2]\n"
          ]
        }
      ]
    },
    {
      "cell_type": "markdown",
      "source": [
        "#### `reverse()`"
      ],
      "metadata": {
        "id": "xcc3BInpc76c"
      },
      "id": "xcc3BInpc76c"
    },
    {
      "cell_type": "code",
      "source": [
        "# reverse()\n",
        "x = [1, 2, 3]\n",
        "x.reverse()\n",
        "print(x)  # [3, 2, 1]"
      ],
      "metadata": {
        "id": "orRu-BH2c80O",
        "outputId": "3e55e56d-a769-4341-b7eb-0a0411c5dde9",
        "colab": {
          "base_uri": "https://localhost:8080/"
        }
      },
      "id": "orRu-BH2c80O",
      "execution_count": 77,
      "outputs": [
        {
          "output_type": "stream",
          "name": "stdout",
          "text": [
            "[3, 2, 1]\n"
          ]
        }
      ]
    },
    {
      "cell_type": "markdown",
      "source": [
        "#### `sort(key=None, reverse=False)`"
      ],
      "metadata": {
        "id": "Dv3dL9LPdAa6"
      },
      "id": "Dv3dL9LPdAa6"
    },
    {
      "cell_type": "code",
      "source": [
        "# sort(key=None, reverse=False)\n",
        "x = [5, 2, 9, 1]\n",
        "x.sort()\n",
        "print(x)  # [1, 2, 5, 9]\n",
        "\n",
        "x.sort(reverse=True)\n",
        "print(x)  # [9, 5, 2, 1]\n",
        "\n",
        "names = [\"Nguyen\", \"van\", \"An\"]\n",
        "names.sort(key=str.lower)\n",
        "print(names)  # ['An', 'Nguyen', 'van']"
      ],
      "metadata": {
        "id": "yeWBQR-LdBMc",
        "outputId": "24d6e0ab-450d-4e49-868d-6b13a37d31a1",
        "colab": {
          "base_uri": "https://localhost:8080/"
        }
      },
      "id": "yeWBQR-LdBMc",
      "execution_count": 78,
      "outputs": [
        {
          "output_type": "stream",
          "name": "stdout",
          "text": [
            "[1, 2, 5, 9]\n",
            "[9, 5, 2, 1]\n",
            "['An', 'Nguyen', 'van']\n"
          ]
        }
      ]
    },
    {
      "cell_type": "markdown",
      "source": [
        "## Tuple (hàng)"
      ],
      "metadata": {
        "id": "B2yMZnqLdFwT"
      },
      "id": "B2yMZnqLdFwT"
    },
    {
      "cell_type": "markdown",
      "source": [
        "### Tuple là một dạng readonly list"
      ],
      "metadata": {
        "id": "yct-RcoKdLGI"
      },
      "id": "yct-RcoKdLGI"
    },
    {
      "cell_type": "code",
      "source": [
        "# tuple 5 số nguyên\n",
        "t1 = (1, 2, 3, 4, 5)\n",
        "print(t1)\n",
        "\n",
        "# tuple 4 chuỗi\n",
        "t2 = ('a', 'b', 'c', 'd')\n",
        "print(t2)\n",
        "\n",
        "# tuple hỗn hợp\n",
        "t3 = (1, 'one', [2, 'two'])\n",
        "print(t3)\n",
        "\n",
        "# tuple 1 phần tử (phải có dấu phẩy)\n",
        "t4 = (1,)\n",
        "print(t4)\n",
        "\n",
        "# tuple rỗng\n",
        "t5 = ()\n",
        "print(t5)"
      ],
      "metadata": {
        "id": "KFXlMMM0dNj3",
        "outputId": "a0124a4c-55a9-40a0-c7e4-f4ef55a36c23",
        "colab": {
          "base_uri": "https://localhost:8080/"
        }
      },
      "id": "KFXlMMM0dNj3",
      "execution_count": 80,
      "outputs": [
        {
          "output_type": "stream",
          "name": "stdout",
          "text": [
            "(1, 2, 3, 4, 5)\n",
            "('a', 'b', 'c', 'd')\n",
            "(1, 'one', [2, 'two'])\n",
            "(1,)\n",
            "()\n"
          ]
        }
      ]
    },
    {
      "cell_type": "markdown",
      "source": [
        "## Range (miền)"
      ],
      "metadata": {
        "id": "GaC1HqDrdaqy"
      },
      "id": "GaC1HqDrdaqy"
    },
    {
      "cell_type": "code",
      "source": [
        "# range(stop) -> từ 0 đến 4\n",
        "r1 = range(5)\n",
        "print(list(r1))   # [0, 1, 2, 3, 4]\n",
        "\n",
        "# range(start, stop, step)\n",
        "r2 = range(2, 10, 2)\n",
        "print(list(r2))   # [2, 4, 6, 8]\n",
        "\n",
        "# range với step âm (đếm ngược)\n",
        "r3 = range(10, 5, -1)\n",
        "print(list(r3))   # [10, 9, 8, 7, 6]\n",
        "\n",
        "# Range hỗ trợ chỉ mục\n",
        "print(r2[1])      # 4\n",
        "print(r2[-1])     # 8\n",
        "\n",
        "# Range hỗ trợ cắt (slicing)\n",
        "print(list(r2[1:3]))  # [4, 6]\n",
        "\n",
        "# So sánh với tuple: tuple chứa tất cả giá trị, range thì không\n",
        "t = tuple(range(2, 10, 2))\n",
        "print(t)          # (2, 4, 6, 8)\n"
      ],
      "metadata": {
        "id": "BskPQuZYdczs",
        "outputId": "fd0a0082-68fc-4ca0-81d5-c0d1a891e582",
        "colab": {
          "base_uri": "https://localhost:8080/"
        }
      },
      "id": "BskPQuZYdczs",
      "execution_count": 81,
      "outputs": [
        {
          "output_type": "stream",
          "name": "stdout",
          "text": [
            "[0, 1, 2, 3, 4]\n",
            "[2, 4, 6, 8]\n",
            "[10, 9, 8, 7, 6]\n",
            "4\n",
            "8\n",
            "[4, 6]\n",
            "(2, 4, 6, 8)\n"
          ]
        }
      ]
    },
    {
      "cell_type": "markdown",
      "source": [
        "## Set (tập hợp) và Frozenset (tập hợp tĩnh)"
      ],
      "metadata": {
        "id": "ZYc17vfSdt2Y"
      },
      "id": "ZYc17vfSdt2Y"
    },
    {
      "cell_type": "markdown",
      "source": [
        "### Khởi tạo Set"
      ],
      "metadata": {
        "id": "NjF3xha1d60Z"
      },
      "id": "NjF3xha1d60Z"
    },
    {
      "cell_type": "code",
      "source": [
        "# Tạo set bằng constructor\n",
        "s1 = set([1, 2, 3, 4]) # {1, 2, 3, 4}\n",
        "s2 = set((1, 1, 1)) # {1}\n",
        "s3 = s1 - s2 # {2, 3, 4}\n",
        "s4 = set(range(1,100)) # {1, 2, 3,..., 98, 99}"
      ],
      "metadata": {
        "id": "5yUN3N9ld76u"
      },
      "id": "5yUN3N9ld76u",
      "execution_count": 83,
      "outputs": []
    },
    {
      "cell_type": "code",
      "source": [],
      "metadata": {
        "id": "P6i5EytDeYiX"
      },
      "id": "P6i5EytDeYiX",
      "execution_count": null,
      "outputs": []
    }
  ],
  "metadata": {
    "kernelspec": {
      "display_name": "Python 3 (ipykernel)",
      "language": "python",
      "name": "python3"
    },
    "language_info": {
      "codemirror_mode": {
        "name": "ipython",
        "version": 3
      },
      "file_extension": ".py",
      "mimetype": "text/x-python",
      "name": "python",
      "nbconvert_exporter": "python",
      "pygments_lexer": "ipython3",
      "version": "3.13.5"
    },
    "colab": {
      "provenance": []
    }
  },
  "nbformat": 4,
  "nbformat_minor": 5
}