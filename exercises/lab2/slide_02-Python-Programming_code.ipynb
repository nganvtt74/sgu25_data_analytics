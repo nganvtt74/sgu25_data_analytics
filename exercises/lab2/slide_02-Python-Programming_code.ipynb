{
 "cells": [
  {
   "cell_type": "markdown",
   "id": "c4be55a5-8f72-4a89-94b4-74ffd789a10b",
   "metadata": {},
   "source": [
    "# 02 - PYTHON PROGRAMMING"
   ]
  },
  {
   "cell_type": "markdown",
   "id": "b2b6ab5c-3cdf-4216-9774-a5cb3987ff2b",
   "metadata": {},
   "source": [
    "## Python Hello World"
   ]
  },
  {
   "cell_type": "code",
   "execution_count": 10,
   "id": "5f9930a4-158d-44f6-aacc-058643c49ac5",
   "metadata": {},
   "outputs": [
    {
     "name": "stdout",
     "output_type": "stream",
     "text": [
      "Hello World\n"
     ]
    }
   ],
   "source": [
    "# print Hello World in Python\n",
    "print(\"Hello World\")"
   ]
  },
  {
   "cell_type": "markdown",
   "id": "c923e955-bdff-472b-862b-ec611ab664da",
   "metadata": {},
   "source": [
    "## Python Syntax"
   ]
  },
  {
   "cell_type": "code",
   "execution_count": 4,
   "id": "3efeab22-16b1-409d-ac20-3b1280fb6cc0",
   "metadata": {},
   "outputs": [],
   "source": [
    "# comment "
   ]
  },
  {
   "cell_type": "markdown",
   "id": "66c271eb-2393-4810-ad5b-2cc826509da7",
   "metadata": {},
   "source": [
    "### Indentation - the spaces at the beginning of a code line 4 spaces"
   ]
  },
  {
   "cell_type": "code",
   "execution_count": 12,
   "id": "1493bd01-a18c-4447-8ac5-843bf04d18f1",
   "metadata": {},
   "outputs": [
    {
     "name": "stdout",
     "output_type": "stream",
     "text": [
      "Pass\n"
     ]
    }
   ],
   "source": [
    "# Indentation\n",
    "score = 80\n",
    "if score >= 60:\n",
    "    print(\"Pass\")"
   ]
  },
  {
   "cell_type": "markdown",
   "id": "40f6dabf-8cee-417b-96c8-7ed9b3c7af6e",
   "metadata": {},
   "source": [
    "## Python Variables"
   ]
  },
  {
   "cell_type": "code",
   "execution_count": 13,
   "id": "7db4b1ef-9650-4ecf-8616-e1ccd7144c00",
   "metadata": {},
   "outputs": [],
   "source": [
    "# Python Variables\n",
    "x = 2\n",
    "price = 2.5\n",
    "word = 'Hello'\n",
    "\n",
    "word = 'Hello'\n",
    "word = \"Hello\"\n",
    "word = '''Hello'''"
   ]
  },
  {
   "cell_type": "markdown",
   "id": "943e31f7-2d63-49d5-a87e-7dd2b51f124d",
   "metadata": {},
   "source": [
    "### Independent Variable"
   ]
  },
  {
   "cell_type": "code",
   "execution_count": 18,
   "id": "e01b5bad-2a24-4ba2-9639-990eaa3d9eb3",
   "metadata": {},
   "outputs": [],
   "source": [
    "# Independent Variable\n",
    "x = 2"
   ]
  },
  {
   "cell_type": "markdown",
   "id": "270dac7e-2873-4b64-8910-292cc80bbf58",
   "metadata": {},
   "source": [
    "### Dependent Variable"
   ]
  },
  {
   "cell_type": "code",
   "execution_count": 19,
   "id": "d20273cb-0fb6-492b-a00b-ed299639fba0",
   "metadata": {},
   "outputs": [],
   "source": [
    "# Dependent Variable\n",
    "y = x + 1"
   ]
  },
  {
   "cell_type": "markdown",
   "id": "181589e5-467d-4e39-9340-548e966980d3",
   "metadata": {},
   "source": [
    "## Python version"
   ]
  },
  {
   "cell_type": "code",
   "execution_count": 16,
   "id": "3d001c74-1870-4877-87a1-0c570a8eb44e",
   "metadata": {},
   "outputs": [
    {
     "name": "stdout",
     "output_type": "stream",
     "text": [
      "Python Version: 3.13.5\n"
     ]
    }
   ],
   "source": [
    "# Python_version()\n",
    "from platform import python_version\n",
    "print(\"Python Version:\", python_version())"
   ]
  },
  {
   "cell_type": "markdown",
   "id": "19d4ac2d-e4cd-45ad-8646-bfba33c5fa90",
   "metadata": {},
   "source": [
    "## Python Data Types"
   ]
  },
  {
   "cell_type": "code",
   "execution_count": 29,
   "id": "f341d034-4acc-43a3-adfe-bdb94df4b2ab",
   "metadata": {},
   "outputs": [],
   "source": [
    "# Python Data Types\n",
    "x = \"Hello World\"   # str\n",
    "x = 2               # int\n",
    "x = 2.5             # float\n",
    "x = 7j              # complex"
   ]
  },
  {
   "cell_type": "code",
   "execution_count": 26,
   "id": "4b2f92e2-837f-426e-a442-74664c1cdb00",
   "metadata": {},
   "outputs": [],
   "source": [
    "# Python Data Types\n",
    "x = [\"apple\", \"banana\", \"cherry\"]             # list\n",
    "x = (\"apple\", \"banana\", \"cherry\")             # tuple\n",
    "x = range(6)                                  # range\n",
    "x = {\"name\" : \"Tom\", \"age\" : 20}              # dict\n",
    "x = {\"apple\", \"banana\", \"cherry\"}             # set\n",
    "x = frozenset({\"apple\", \"banana\", \"cherry\"})  # frozenset"
   ]
  },
  {
   "cell_type": "code",
   "execution_count": 28,
   "id": "c842ccf9-f573-4849-844b-25b605cbcd8c",
   "metadata": {},
   "outputs": [],
   "source": [
    "# Python Data Types\n",
    "x = True                 # bool\n",
    "x = b\"Hello\"             # bytes\n",
    "x = bytearray(5)         # bytearray\n",
    "x = memoryview(bytes(5)) # memoryview\n",
    "x = None                 # NoneType"
   ]
  },
  {
   "cell_type": "markdown",
   "id": "06bb39cd-89ab-4e7a-8185-a8d07dab8683",
   "metadata": {},
   "source": [
    "## Python Casting"
   ]
  },
  {
   "cell_type": "code",
   "execution_count": 31,
   "id": "967dd641-f1ce-4ac0-aff6-fde348765558",
   "metadata": {},
   "outputs": [
    {
     "name": "stdout",
     "output_type": "stream",
     "text": [
      "3 <class 'str'>\n",
      "3 <class 'int'>\n",
      "3.0 <class 'float'>\n"
     ]
    }
   ],
   "source": [
    "# Python Casting\n",
    "x = str(3)         # x will be '3'\n",
    "y = int(3)         # y will be 3\n",
    "z = float(3)       # z will be 3.0\n",
    "print(x, type(x))\n",
    "print(y, type(y))\n",
    "print(z, type(z))"
   ]
  },
  {
   "cell_type": "markdown",
   "id": "9ebfcf56-0cde-454c-9a59-4b6027a6d66b",
   "metadata": {},
   "source": [
    "## Python Numbers"
   ]
  },
  {
   "cell_type": "code",
   "execution_count": 33,
   "id": "348c11b1-047f-4660-bb1c-6745e99211af",
   "metadata": {},
   "outputs": [
    {
     "name": "stdout",
     "output_type": "stream",
     "text": [
      "2 <class 'int'>\n",
      "3.4 <class 'float'>\n",
      "7j <class 'complex'>\n"
     ]
    }
   ],
   "source": [
    "# Python Numbers\n",
    "x = 2             # int\n",
    "y = 3.4           # float\n",
    "z = 7j            # complex\n",
    "print(x, type(x))\n",
    "print(y, type(y))\n",
    "print(z, type(z))"
   ]
  },
  {
   "cell_type": "markdown",
   "id": "bba3fa10-22c3-487f-a1ff-d000f058ba53",
   "metadata": {},
   "source": [
    "## Python Operators"
   ]
  },
  {
   "cell_type": "markdown",
   "id": "69829eb2-a1dd-4f9f-8a4b-aaa9f6201594",
   "metadata": {},
   "source": [
    "### Operator Name Example"
   ]
  },
  {
   "cell_type": "markdown",
   "id": "ddd7a114-3aa2-4f9d-aef1-edcebf8b9c5a",
   "metadata": {},
   "source": [
    "#### Addition +"
   ]
  },
  {
   "cell_type": "code",
   "execution_count": 38,
   "id": "c2282eef-932e-4c4d-b446-925be2ee62ea",
   "metadata": {},
   "outputs": [
    {
     "name": "stdout",
     "output_type": "stream",
     "text": [
      "7 + 2 = 9\n"
     ]
    }
   ],
   "source": [
    "# + Addition 7 + 2 = 9\n",
    "print('7 + 2 =', 7 + 2)"
   ]
  },
  {
   "cell_type": "markdown",
   "id": "b2590ccb-60e2-4e06-ba33-fbd1315fbc26",
   "metadata": {},
   "source": [
    "#### Subtraction -"
   ]
  },
  {
   "cell_type": "code",
   "execution_count": 40,
   "id": "025a2050-b656-4f80-be0c-f081677d2c09",
   "metadata": {},
   "outputs": [
    {
     "name": "stdout",
     "output_type": "stream",
     "text": [
      "7 - 2 = 5\n"
     ]
    }
   ],
   "source": [
    "# - Subtraction 7 - 2 = 5\n",
    "print('7 - 2 =', 7 - 2)"
   ]
  },
  {
   "cell_type": "markdown",
   "id": "708811a8-8a8e-4aca-948e-db2068be5b09",
   "metadata": {},
   "source": [
    "#### Multiplication *"
   ]
  },
  {
   "cell_type": "code",
   "execution_count": 41,
   "id": "1ce9cd50-dd04-40d5-9727-8b4f15d36358",
   "metadata": {},
   "outputs": [
    {
     "name": "stdout",
     "output_type": "stream",
     "text": [
      "7 * 2 = 14\n"
     ]
    }
   ],
   "source": [
    "# * Multiplication 7 * 2 = 14\n",
    "print('7 * 2 =', 7 * 2)"
   ]
  },
  {
   "cell_type": "markdown",
   "id": "19984a08-039f-43d9-8507-08d528d861bc",
   "metadata": {},
   "source": [
    "#### Division /"
   ]
  },
  {
   "cell_type": "code",
   "execution_count": 42,
   "id": "412ab3dc-0d53-4287-b5d2-07b85fe63cc0",
   "metadata": {},
   "outputs": [
    {
     "name": "stdout",
     "output_type": "stream",
     "text": [
      "7 / 2 = 3.5\n"
     ]
    }
   ],
   "source": [
    "# / Division 7 / 2 = 3.5\n",
    "print('7 / 2 =', 7 / 2)"
   ]
  },
  {
   "cell_type": "markdown",
   "id": "3608aa47-a6bd-4c96-b518-b77ef5705490",
   "metadata": {},
   "source": [
    "#### Floor division // (Quotient)"
   ]
  },
  {
   "cell_type": "code",
   "execution_count": 43,
   "id": "9b9c9c70-62ab-4b56-9311-52eae7332ba4",
   "metadata": {},
   "outputs": [
    {
     "name": "stdout",
     "output_type": "stream",
     "text": [
      "7 // 2 = 3\n"
     ]
    }
   ],
   "source": [
    "# // Floor division 7 // 2 = 3 (Quotient)\n",
    "print('7 // 2 =', 7 // 2)"
   ]
  },
  {
   "cell_type": "markdown",
   "id": "ff7a69b9-f7d7-42e8-b829-adaa975f2154",
   "metadata": {},
   "source": [
    "#### Modulus % (Remainder)"
   ]
  },
  {
   "cell_type": "code",
   "execution_count": 44,
   "id": "1cd1fda4-b81c-4102-bfe4-b60d8fab3245",
   "metadata": {},
   "outputs": [
    {
     "name": "stdout",
     "output_type": "stream",
     "text": [
      "7 % 2 = 1\n"
     ]
    }
   ],
   "source": [
    "# % Modulus 7 % 2 = 1 (Remainder)\n",
    "print('7 % 2 =', 7 % 2)"
   ]
  },
  {
   "cell_type": "markdown",
   "id": "573c3f73-df7b-46ed-9eee-534d56ae393a",
   "metadata": {},
   "source": [
    "#### Exponentiation **"
   ]
  },
  {
   "cell_type": "code",
   "execution_count": 45,
   "id": "0106fa8f-32d9-440d-83de-9db8a6078cc2",
   "metadata": {},
   "outputs": [
    {
     "name": "stdout",
     "output_type": "stream",
     "text": [
      "7 ** 2 = 49\n"
     ]
    }
   ],
   "source": [
    "# ** Exponentiation 7 ** 2 = 49\n",
    "print('7 ** 2 =', 7 ** 2)"
   ]
  },
  {
   "cell_type": "markdown",
   "id": "bfeb1ec7-f867-4e3b-852a-a76cfcc6d21e",
   "metadata": {},
   "source": [
    "## Python Booleans: True or False"
   ]
  },
  {
   "cell_type": "code",
   "execution_count": 50,
   "id": "35ae7ba1-4815-4f9c-b442-5888d3490ada",
   "metadata": {},
   "outputs": [
    {
     "name": "stdout",
     "output_type": "stream",
     "text": [
      "True\n",
      "False\n",
      "False\n"
     ]
    }
   ],
   "source": [
    "# Python Booleans: True or False\n",
    "print(3 > 2)\n",
    "print(3 == 2)\n",
    "print(3 < 2)"
   ]
  },
  {
   "cell_type": "markdown",
   "id": "205e1e09-4bc1-4256-8585-a24feebd6777",
   "metadata": {},
   "source": [
    "## Python BMI Calculator"
   ]
  },
  {
   "cell_type": "code",
   "execution_count": 53,
   "id": "359d5245-dfbf-4f4e-ba49-79d6e3519ee1",
   "metadata": {},
   "outputs": [
    {
     "name": "stdout",
     "output_type": "stream",
     "text": [
      "Your BMI is: 20.8\n"
     ]
    }
   ],
   "source": [
    "# BMI Calculator in Python\n",
    "height_cm = 170\n",
    "weight_kg = 60\n",
    "height_m = height_cm/100\n",
    "BMI = (weight_kg/(height_m**2))\n",
    "\n",
    "print(\"Your BMI is: \" + str(round(BMI,1)))"
   ]
  },
  {
   "cell_type": "markdown",
   "id": "1c9db15c-9996-47d2-944a-4ae79ca9f1fb",
   "metadata": {},
   "source": [
    "# Future value of a specified principal amount, rate of interest, and a number of years"
   ]
  },
  {
   "cell_type": "markdown",
   "id": "17b22d69-0536-45c2-8b08-e9782e795b8f",
   "metadata": {},
   "source": [
    "## How much is your $100 worth after 7 years?"
   ]
  },
  {
   "cell_type": "code",
   "execution_count": 54,
   "id": "4f5acb38-bce9-4230-baae-376694aec2bb",
   "metadata": {},
   "outputs": [
    {
     "name": "stdout",
     "output_type": "stream",
     "text": [
      "fv =  194.87\n"
     ]
    }
   ],
   "source": [
    "# How much is your $100 worth after 7 years?\n",
    "fv = 100 * 1.1 ** 7\n",
    "print('fv = ', round(fv, 2))\n",
    "# output = 194.87"
   ]
  },
  {
   "cell_type": "markdown",
   "id": "c761502e-316d-46fc-9773-d4408a32e1fa",
   "metadata": {},
   "source": [
    "## Future Value"
   ]
  },
  {
   "cell_type": "code",
   "execution_count": 55,
   "id": "ac4b2ee2-ec6d-4486-9f63-28f6fb721265",
   "metadata": {},
   "outputs": [
    {
     "name": "stdout",
     "output_type": "stream",
     "text": [
      "194.87\n"
     ]
    }
   ],
   "source": [
    "# Future Value\n",
    "pv = 100\n",
    "r = 0.1\n",
    "n = 7\n",
    "fv = pv * ((1 + (r)) ** n)\n",
    "print(round(fv, 2))"
   ]
  },
  {
   "cell_type": "code",
   "execution_count": 56,
   "id": "5afcece3-33b0-4547-aa89-9793cd6b318c",
   "metadata": {},
   "outputs": [
    {
     "name": "stdout",
     "output_type": "stream",
     "text": [
      "194.87\n"
     ]
    }
   ],
   "source": [
    "# Future Value\n",
    "amount = 100\n",
    "interest = 10 #10% = 0.01 * 10\n",
    "years = 7\n",
    "\n",
    "future_value = amount * ((1 + (0.01 * interest)) ** years)\n",
    "print(round(future_value, 2))"
   ]
  },
  {
   "cell_type": "markdown",
   "id": "c5909761-ff4d-44c6-8f4f-25ebf02a0540",
   "metadata": {},
   "source": [
    "# Python Data Structures"
   ]
  },
  {
   "cell_type": "markdown",
   "id": "9d662a7f-7e64-4c56-8c0a-7f69a2b4b970",
   "metadata": {},
   "source": [
    "## Python Data Types"
   ]
  },
  {
   "cell_type": "code",
   "execution_count": 59,
   "id": "09e81f26-59db-493c-ae2b-21d3e9c6ceaa",
   "metadata": {},
   "outputs": [],
   "source": [
    "# Python Data Types\n",
    "x = [\"apple\", \"banana\", \"cherry\"]   # list\n",
    "x = (\"apple\", \"banana\", \"cherry\")   # tuple\n",
    "x = {\"name\" : \"Tom\", \"age\" : 20}    # dict\n",
    "x = {\"apple\", \"banana\", \"cherry\"}   # set"
   ]
  },
  {
   "cell_type": "markdown",
   "id": "10aeb27b-2e0b-4b8f-be3c-83235a03e5d4",
   "metadata": {},
   "source": [
    "## Python Collections"
   ]
  },
  {
   "cell_type": "markdown",
   "id": "0bb5a2e8-398e-4bd1-bb67-2dea621db897",
   "metadata": {},
   "source": [
    "### List[]"
   ]
  },
  {
   "cell_type": "code",
   "execution_count": 62,
   "id": "4a0b2132-ddb0-48e2-8aba-559ebed32d97",
   "metadata": {},
   "outputs": [
    {
     "name": "stdout",
     "output_type": "stream",
     "text": [
      "4\n",
      "60\n",
      "70\n",
      "90\n"
     ]
    }
   ],
   "source": [
    "# List[]\n",
    "x = [60, 70, 80, 90]\n",
    "print(len(x))\n",
    "print(x[0])\n",
    "print(x[1])\n",
    "print(x[-1])"
   ]
  },
  {
   "cell_type": "markdown",
   "id": "36085567-09c9-4566-ac1f-94d312386bcf",
   "metadata": {},
   "source": [
    "### Tuples()"
   ]
  },
  {
   "cell_type": "code",
   "execution_count": 64,
   "id": "084c4a22-7c13-4f8c-b881-add532621ea0",
   "metadata": {},
   "outputs": [
    {
     "name": "stdout",
     "output_type": "stream",
     "text": [
      "10\n",
      "20\n",
      "30\n",
      "50\n"
     ]
    }
   ],
   "source": [
    "# Tuples()\n",
    "x = (10, 20, 30, 40, 50)\n",
    "print(x[0])\n",
    "print(x[1])\n",
    "print(x[2])\n",
    "print(x[-1])"
   ]
  },
  {
   "cell_type": "markdown",
   "id": "b8fe7a10-1734-47d3-9c78-9b0fe99f1a03",
   "metadata": {},
   "source": [
    "### Set{}"
   ]
  },
  {
   "cell_type": "code",
   "execution_count": 66,
   "id": "abeb8c1b-49d6-4652-8d81-1e3fd2436642",
   "metadata": {},
   "outputs": [
    {
     "name": "stdout",
     "output_type": "stream",
     "text": [
      "True\n",
      "False\n",
      "True\n",
      "3\n",
      "3\n",
      "2\n"
     ]
    }
   ],
   "source": [
    "# Set{}\n",
    "animals = {'cat', 'dog'}\n",
    "print('cat' in animals)\n",
    "print('fish' in animals)\n",
    "animals.add('fish')\n",
    "print('fish' in animals)\n",
    "print(len(animals))\n",
    "animals.add('cat')\n",
    "print(len(animals))\n",
    "animals.remove('cat')\n",
    "print(len(animals))"
   ]
  },
  {
   "cell_type": "markdown",
   "id": "95749fd1-3487-48d0-a150-132adde7bdb3",
   "metadata": {},
   "source": [
    "### Dictionary {key : value}"
   ]
  },
  {
   "cell_type": "markdown",
   "id": "ae9e9298-27a2-4f0a-ab4d-688af3f9cd29",
   "metadata": {},
   "source": [
    "#### Python Dictionary\n",
    "Key => Value  \n",
    "'EN' => 'English'  \n",
    "'FR' => 'French'"
   ]
  },
  {
   "cell_type": "code",
   "execution_count": 68,
   "id": "302b5f04-ad50-4a7a-8001-b2bd9ce475b6",
   "metadata": {},
   "outputs": [
    {
     "name": "stdout",
     "output_type": "stream",
     "text": [
      "English\n"
     ]
    }
   ],
   "source": [
    "# Python Dictionary\n",
    "k = { 'EN':'English','FR':'French' }\n",
    "print(k['EN'])"
   ]
  },
  {
   "cell_type": "markdown",
   "id": "e9fb6a7c-db87-46e1-a1e9-ac741a72fd49",
   "metadata": {},
   "source": [
    "## Python Data Structures"
   ]
  },
  {
   "cell_type": "code",
   "execution_count": 69,
   "id": "dab13c83-1ee7-4dd0-8d1f-ecaa3b6e5be9",
   "metadata": {},
   "outputs": [],
   "source": [
    "fruits = [\"apple\", \"banana\", \"cherry\"]  # lists []\n",
    "colors = (\"red\", \"green\", \"blue\")       # tuples ()\n",
    "animals = {'cat', 'dog'}                # sets {}\n",
    "person = {\"name\" : \"Tom\", \"age\" : 20}   # dictionaries {}"
   ]
  },
  {
   "cell_type": "markdown",
   "id": "dfeea74a-f9bb-49a9-a66e-4d2d4425d05e",
   "metadata": {},
   "source": [
    "## Python for Finance Applications"
   ]
  },
  {
   "cell_type": "markdown",
   "id": "6e281b02-3f85-4090-be71-481d411d7ec2",
   "metadata": {},
   "source": [
    "### Python Lists"
   ]
  },
  {
   "cell_type": "code",
   "execution_count": 70,
   "id": "de2c7f94-03d6-4a86-b10a-be0b33cfb4a3",
   "metadata": {},
   "outputs": [
    {
     "name": "stdout",
     "output_type": "stream",
     "text": [
      "Total expenses: 293.5\n"
     ]
    }
   ],
   "source": [
    "# Python Lists\n",
    "expenses = [72.50, 80.75, 50.00, 90.25]\n",
    "total_expenses = sum(expenses)\n",
    "print(\"Total expenses:\", total_expenses)"
   ]
  },
  {
   "cell_type": "markdown",
   "id": "74f319ec-d84f-4fa4-af9d-3bf2d427ebcd",
   "metadata": {},
   "source": [
    "### Python Tuples"
   ]
  },
  {
   "cell_type": "code",
   "execution_count": 72,
   "id": "1889d034-e167-4adf-8554-6adea207dab8",
   "metadata": {},
   "outputs": [
    {
     "name": "stdout",
     "output_type": "stream",
     "text": [
      "Account name: Cash Account number: 1001\n",
      "Account name: Accounts Receivable Account number: 1002\n",
      "Account name: Inventory Account number: 1003\n"
     ]
    }
   ],
   "source": [
    "# Python Tuples\n",
    "accounts = ((\"Cash\", 1001), (\"Accounts Receivable\", 1002), (\"Inventory\", 1003))\n",
    "for account in accounts:\n",
    "    print(\"Account name:\", account[0], \"Account number:\", account[1])"
   ]
  },
  {
   "cell_type": "markdown",
   "id": "b8169588-8c40-4b13-82b1-6d741586b69f",
   "metadata": {},
   "source": [
    "### Python Sets"
   ]
  },
  {
   "cell_type": "code",
   "execution_count": 74,
   "id": "c6f485be-a72e-47c0-8582-ea81e2b02026",
   "metadata": {},
   "outputs": [
    {
     "name": "stdout",
     "output_type": "stream",
     "text": [
      "Account number 1004 is not in use.\n"
     ]
    }
   ],
   "source": [
    "# Python Sets\n",
    "account_numbers = {1001, 1002, 1003}\n",
    "new_account_number = 1004\n",
    "if new_account_number not in account_numbers:\n",
    "    print(\"Account number\", new_account_number, \"is not in use.\")"
   ]
  },
  {
   "cell_type": "markdown",
   "id": "52580549-ceee-4d7d-a601-9f36669ec122",
   "metadata": {},
   "source": [
    "### Python Dictionaries"
   ]
  },
  {
   "cell_type": "code",
   "execution_count": 75,
   "id": "82125967-7124-4923-92f8-5bd653df10ee",
   "metadata": {},
   "outputs": [
    {
     "name": "stdout",
     "output_type": "stream",
     "text": [
      "Account number: 1001\n",
      "Account name: Cash\n",
      "Account balance: 500.0\n",
      "Account type: Asset\n",
      "Account number: 1002\n",
      "Account name: Accounts Receivable\n",
      "Account balance: 1000.0\n",
      "Account type: Asset\n",
      "Account number: 2001\n",
      "Account name: Accounts Payable\n",
      "Account balance: 750.0\n",
      "Account type: Liability\n"
     ]
    }
   ],
   "source": [
    "# Python Dictionaries\n",
    "accounts = {\"1001\": {\"name\": \"Cash\", \"balance\": 500.00, \"type\": \"Asset\"},\n",
    "\"1002\": {\"name\": \"Accounts Receivable\", \"balance\": 1000.00, \"type\": \"Asset\"},\n",
    "\"2001\": {\"name\": \"Accounts Payable\", \"balance\": 750.00, \"type\": \"Liability\"}}\n",
    "for account_number, account_info in accounts.items():\n",
    "    print(\"Account number:\", account_number)\n",
    "    print(\"Account name:\", account_info[\"name\"])\n",
    "    print(\"Account balance:\", account_info[\"balance\"])\n",
    "    print(\"Account type:\", account_info[\"type\"])"
   ]
  },
  {
   "cell_type": "markdown",
   "id": "0e667583-c7fa-4fe8-86ba-fc3e3b6ac6ad",
   "metadata": {},
   "source": [
    "# Python Control Logic and Loops"
   ]
  },
  {
   "cell_type": "markdown",
   "id": "b8dde291-758b-4e07-949e-082904ce5257",
   "metadata": {},
   "source": [
    "## Python if"
   ]
  },
  {
   "cell_type": "code",
   "execution_count": 79,
   "id": "008917cd-4b4f-4f93-a11c-ecb5eea2229d",
   "metadata": {},
   "outputs": [
    {
     "name": "stdout",
     "output_type": "stream",
     "text": [
      "Pass\n"
     ]
    }
   ],
   "source": [
    "# Python if\n",
    "score = 80\n",
    "if score >=60 :\n",
    "    print(\"Pass\")"
   ]
  },
  {
   "cell_type": "markdown",
   "id": "2f2c34a4-7006-45b4-ad3f-40935f494888",
   "metadata": {},
   "source": [
    "## Python if else"
   ]
  },
  {
   "cell_type": "code",
   "execution_count": 81,
   "id": "e713578b-28bb-4138-9b4d-4050bb1c4fd3",
   "metadata": {},
   "outputs": [
    {
     "name": "stdout",
     "output_type": "stream",
     "text": [
      "Pass\n"
     ]
    }
   ],
   "source": [
    "# Python if else\n",
    "score = 80\n",
    "if score >=60 :\n",
    "    print(\"Pass\")\n",
    "else:\n",
    "    print(\"Fail\")"
   ]
  },
  {
   "cell_type": "markdown",
   "id": "e4cb6403-4531-4806-89d1-5588a4f11d82",
   "metadata": {},
   "source": [
    "## Python if elif else"
   ]
  },
  {
   "cell_type": "code",
   "execution_count": 82,
   "id": "f9baebcb-a2aa-44d2-a730-b5e7af5f0b05",
   "metadata": {},
   "outputs": [
    {
     "name": "stdout",
     "output_type": "stream",
     "text": [
      "A\n"
     ]
    }
   ],
   "source": [
    "# Python if elif else\n",
    "score = 95\n",
    "if score >= 90 :\n",
    "    print(\"A\")\n",
    "elif score >=60 :\n",
    "    print(\"Pass\")\n",
    "else:\n",
    "    print(\"Fail\")"
   ]
  },
  {
   "cell_type": "code",
   "execution_count": 87,
   "id": "984767e5-5839-4d72-b73f-c3c8391e0573",
   "metadata": {},
   "outputs": [
    {
     "name": "stdout",
     "output_type": "stream",
     "text": [
      "A\n"
     ]
    }
   ],
   "source": [
    "# Python if elif else\n",
    "score = 90\n",
    "grade = \"\"\n",
    "if score >=90:\n",
    "    grade = \"A\"\n",
    "elif score >= 80:\n",
    "    grade = \"B\"\n",
    "elif score >= 70:\n",
    "    grade = \"C\"\n",
    "elif score >= 60:\n",
    "    grade = \"D\"\n",
    "else:\n",
    "    grade = \"E\"\n",
    "print(grade)"
   ]
  },
  {
   "cell_type": "markdown",
   "id": "936501f2-3cd1-4043-9d7d-7fc97235ebcf",
   "metadata": {},
   "source": [
    "## Python for Loops"
   ]
  },
  {
   "cell_type": "code",
   "execution_count": 89,
   "id": "3a2acb4b-f47f-48e5-8576-0c7a6dff9ac7",
   "metadata": {},
   "outputs": [
    {
     "name": "stdout",
     "output_type": "stream",
     "text": [
      "1\n",
      "2\n",
      "3\n",
      "4\n",
      "5\n"
     ]
    }
   ],
   "source": [
    "# Python for Loops\n",
    "for i in range(1,6):\n",
    "    print(i)"
   ]
  },
  {
   "cell_type": "code",
   "execution_count": null,
   "id": "b44ceff0-df48-4877-a34a-ad2f92f409ae",
   "metadata": {},
   "outputs": [
    {
     "name": "stdout",
     "output_type": "stream",
     "text": [
      "1  *  1  =  1\n",
      "1  *  2  =  2\n",
      "1  *  3  =  3\n",
      "1  *  4  =  4\n",
      "1  *  5  =  5\n",
      "1  *  6  =  6\n",
      "1  *  7  =  7\n",
      "1  *  8  =  8\n",
      "1  *  9  =  9\n",
      "2  *  1  =  2\n",
      "2  *  2  =  4\n",
      "2  *  3  =  6\n",
      "2  *  4  =  8\n",
      "2  *  5  =  10\n",
      "2  *  6  =  12\n",
      "2  *  7  =  14\n",
      "2  *  8  =  16\n",
      "2  *  9  =  18\n",
      "3  *  1  =  3\n",
      "3  *  2  =  6\n",
      "3  *  3  =  9\n",
      "3  *  4  =  12\n",
      "3  *  5  =  15\n",
      "3  *  6  =  18\n",
      "3  *  7  =  21\n",
      "3  *  8  =  24\n",
      "3  *  9  =  27\n",
      "4  *  1  =  4\n",
      "4  *  2  =  8\n",
      "4  *  3  =  12\n",
      "4  *  4  =  16\n",
      "4  *  5  =  20\n",
      "4  *  6  =  24\n",
      "4  *  7  =  28\n",
      "4  *  8  =  32\n",
      "4  *  9  =  36\n",
      "5  *  1  =  5\n",
      "5  *  2  =  10\n",
      "5  *  3  =  15\n",
      "5  *  4  =  20\n",
      "5  *  5  =  25\n",
      "5  *  6  =  30\n",
      "5  *  7  =  35\n",
      "5  *  8  =  40\n",
      "5  *  9  =  45\n",
      "6  *  1  =  6\n",
      "6  *  2  =  12\n",
      "6  *  3  =  18\n",
      "6  *  4  =  24\n",
      "6  *  5  =  30\n",
      "6  *  6  =  36\n",
      "6  *  7  =  42\n",
      "6  *  8  =  48\n",
      "6  *  9  =  54\n",
      "7  *  1  =  7\n",
      "7  *  2  =  14\n",
      "7  *  3  =  21\n",
      "7  *  4  =  28\n",
      "7  *  5  =  35\n",
      "7  *  6  =  42\n",
      "7  *  7  =  49\n",
      "7  *  8  =  56\n",
      "7  *  9  =  63\n",
      "8  *  1  =  8\n",
      "8  *  2  =  16\n",
      "8  *  3  =  24\n",
      "8  *  4  =  32\n",
      "8  *  5  =  40\n",
      "8  *  6  =  48\n",
      "8  *  7  =  56\n",
      "8  *  8  =  64\n",
      "8  *  9  =  72\n",
      "9  *  1  =  9\n",
      "9  *  2  =  18\n",
      "9  *  3  =  27\n",
      "9  *  4  =  36\n",
      "9  *  5  =  45\n",
      "9  *  6  =  54\n",
      "9  *  7  =  63\n",
      "9  *  8  =  72\n",
      "9  *  9  =  81\n"
     ]
    }
   ],
   "source": [
    "# for loops\n",
    "for i in range(1,10):\n",
    "    for j in range(1,10):\n",
    "        print(i, ' * ' , j , ' = ', i*j)"
   ]
  },
  {
   "cell_type": "markdown",
   "id": "cc6c915c-b008-45c7-9241-df8566d4891f",
   "metadata": {},
   "source": [
    "## Python while Loops"
   ]
  },
  {
   "cell_type": "code",
   "execution_count": 92,
   "id": "12b7bb72-2a46-4cf0-9b77-a1e0309a3769",
   "metadata": {},
   "outputs": [
    {
     "name": "stdout",
     "output_type": "stream",
     "text": [
      "10\n",
      "11\n",
      "12\n",
      "13\n",
      "14\n",
      "15\n",
      "16\n",
      "17\n",
      "18\n",
      "19\n"
     ]
    }
   ],
   "source": [
    "# while loops\n",
    "age = 10\n",
    "while age < 20:\n",
    "    print(age)\n",
    "    age = age + 1"
   ]
  },
  {
   "cell_type": "markdown",
   "id": "841ed4e8-a5ed-4963-9461-5b5733b72635",
   "metadata": {},
   "source": [
    "# Python Functions"
   ]
  },
  {
   "cell_type": "markdown",
   "id": "6daf4d9e-f75b-4d65-9393-a5af1232c65c",
   "metadata": {},
   "source": [
    "## Python Function def"
   ]
  },
  {
   "cell_type": "code",
   "execution_count": 93,
   "id": "8bb17371-a763-4fd4-abc8-d277f8c152c5",
   "metadata": {},
   "outputs": [
    {
     "name": "stdout",
     "output_type": "stream",
     "text": [
      "194.87\n"
     ]
    }
   ],
   "source": [
    "# Python Function def\n",
    "# indentation for blocks. four spaces\n",
    "def getfv(pv, r, n):\n",
    "    fv = pv * ((1 + (r)) ** n)\n",
    "    return fv\n",
    "fv = getfv(100, 0.1, 7)\n",
    "print(round(fv, 2))"
   ]
  },
  {
   "cell_type": "markdown",
   "id": "bf40166c-2147-4388-a506-d5006da3f641",
   "metadata": {},
   "source": [
    "# Future value of a specified principal amount, rate of interest, and a number of years"
   ]
  },
  {
   "cell_type": "markdown",
   "id": "65cc9117-1d2f-4e9e-91ac-8c502b6f9906",
   "metadata": {},
   "source": [
    "## How much is your $100 worth after 7 years?"
   ]
  },
  {
   "cell_type": "code",
   "execution_count": 96,
   "id": "df45266f-e643-4710-9ef7-b3c0b9305a2c",
   "metadata": {},
   "outputs": [
    {
     "name": "stdout",
     "output_type": "stream",
     "text": [
      "fv =  194.87\n"
     ]
    }
   ],
   "source": [
    "# How much is your $100 worth after 7 years?\n",
    "fv = 100 * 1.1 ** 7\n",
    "print('fv = ', round(fv, 2))\n",
    "# output = 194.87"
   ]
  },
  {
   "cell_type": "markdown",
   "id": "1c52843f-1e18-475a-83ac-c2af772ac27e",
   "metadata": {},
   "source": [
    "## Future Value"
   ]
  },
  {
   "cell_type": "code",
   "execution_count": 98,
   "id": "65fc8712-8f2a-4067-a2da-a495f77b6f71",
   "metadata": {},
   "outputs": [
    {
     "name": "stdout",
     "output_type": "stream",
     "text": [
      "194.87\n"
     ]
    }
   ],
   "source": [
    "# Future Value\n",
    "pv = 100\n",
    "r = 0.1\n",
    "n = 7\n",
    "fv = pv * ((1 + (r)) ** n)\n",
    "print(round(fv, 2))"
   ]
  },
  {
   "cell_type": "code",
   "execution_count": 99,
   "id": "9d3f386a-3bfe-4f0d-bb64-c2b81557d3d5",
   "metadata": {},
   "outputs": [
    {
     "name": "stdout",
     "output_type": "stream",
     "text": [
      "194.87\n"
     ]
    }
   ],
   "source": [
    "# Future Value\n",
    "amount = 100\n",
    "interest = 10 #10% = 0.01 * 10\n",
    "years = 7\n",
    "\n",
    "future_value = amount * ((1 + (0.01 * interest)) ** years)\n",
    "print(round(future_value, 2))"
   ]
  },
  {
   "cell_type": "markdown",
   "id": "545c79ca-f92f-489b-89b0-dbe11bafad29",
   "metadata": {},
   "source": [
    "## Python Function"
   ]
  },
  {
   "cell_type": "code",
   "execution_count": 102,
   "id": "bed9383d-b257-4066-b030-a52ec1eb6b38",
   "metadata": {},
   "outputs": [
    {
     "name": "stdout",
     "output_type": "stream",
     "text": [
      "194.87\n"
     ]
    }
   ],
   "source": [
    "# Python Function def\n",
    "# indentation for blocks. four spaces\n",
    "def getfv(pv, r, n):\n",
    "    fv = pv * ((1 + (r)) ** n)\n",
    "    return fv\n",
    "fv = getfv(100, 0.1, 7)\n",
    "print(round(fv, 2))"
   ]
  },
  {
   "cell_type": "markdown",
   "id": "bddc16f5-1dd3-420a-9c9b-f6109bbfd9a5",
   "metadata": {},
   "source": [
    "# Python Classes/Objects `class MyClass:`"
   ]
  },
  {
   "cell_type": "markdown",
   "id": "205385ed-5d18-4fff-9f59-c1d0c58b3c40",
   "metadata": {},
   "source": [
    "## Python Classes/Objects"
   ]
  },
  {
   "cell_type": "markdown",
   "id": "d8e1cb08-c39d-4c03-a185-b765888c45a5",
   "metadata": {},
   "source": [
    "### `class MyClass:`"
   ]
  },
  {
   "cell_type": "code",
   "execution_count": 114,
   "id": "7a30a54f-0732-4693-82c5-7038732d43fa",
   "metadata": {},
   "outputs": [
    {
     "name": "stdout",
     "output_type": "stream",
     "text": [
      "5\n"
     ]
    }
   ],
   "source": [
    "# Python class\n",
    "class MyClass:\n",
    "    x = 5\n",
    "\n",
    "c1 = MyClass()\n",
    "print(c1.x)"
   ]
  },
  {
   "cell_type": "markdown",
   "id": "32ca5fd3-e318-4685-b2e6-6762c39c6121",
   "metadata": {},
   "source": [
    "### `class Person:`"
   ]
  },
  {
   "cell_type": "code",
   "execution_count": 118,
   "id": "a573195f-2174-4705-8036-29c95a7f7112",
   "metadata": {},
   "outputs": [
    {
     "name": "stdout",
     "output_type": "stream",
     "text": [
      "Alan\n",
      "20\n"
     ]
    }
   ],
   "source": [
    "# Python class\n",
    "class Person:\n",
    "    def __init__(self, name, age):\n",
    "        self.name = name\n",
    "        self.age = age\n",
    "\n",
    "p1 = Person(\"Alan\", 20)\n",
    "\n",
    "print(p1.name)\n",
    "print(p1.age)"
   ]
  },
  {
   "cell_type": "code",
   "execution_count": 115,
   "id": "ebe2350d-c64d-46d0-823d-b26a61c4cbf8",
   "metadata": {},
   "outputs": [
    {
     "name": "stdout",
     "output_type": "stream",
     "text": [
      "Hello my name is Alan\n"
     ]
    }
   ],
   "source": [
    "# Python class\n",
    "class Person:\n",
    "    def __init__(self, name, age):\n",
    "        self.name = name\n",
    "        self.age = age\n",
    "    def myfunc(self):\n",
    "        print(\"Hello my name is \" + self.name)\n",
    "\n",
    "p1 = Person(\"Alan\", 20)\n",
    "p1.myfunc()"
   ]
  },
  {
   "cell_type": "code",
   "execution_count": 116,
   "id": "99cfd677-cb6b-4cd5-aa0a-cc122a7a7f1c",
   "metadata": {},
   "outputs": [
    {
     "name": "stdout",
     "output_type": "stream",
     "text": [
      "Hello my name is Alan\n",
      "Alan\n",
      "20\n"
     ]
    }
   ],
   "source": [
    "# Python class\n",
    "class Person:\n",
    "    def __init__(self, name, age):\n",
    "        self.name = name\n",
    "        self.age = age\n",
    "    def myfunc(self):\n",
    "        print(\"Hello my name is \" + self.name)\n",
    "\n",
    "p1 = Person(\"Alan\", 20)\n",
    "p1.myfunc()\n",
    "print(p1.name)\n",
    "print(p1.age)"
   ]
  },
  {
   "cell_type": "markdown",
   "id": "475cd214-762d-44bd-843b-1000e3d511e6",
   "metadata": {},
   "source": [
    "### `class Vehicle:`"
   ]
  },
  {
   "cell_type": "code",
   "execution_count": 122,
   "id": "3d50b218-011d-408e-a4f4-17c9b8819592",
   "metadata": {},
   "outputs": [],
   "source": [
    "# Python class\n",
    "class Vehicle:\n",
    "    name = \"\"\n",
    "    kind = \"car\"\n",
    "    color = \"\"\n",
    "    value = 100.00\n",
    "    def description(self):\n",
    "        desc_str = \"%s is a %s %s worth $%.2f.\" %(self.name, self.color, self.kind, self.value)\n",
    "        return desc_str"
   ]
  },
  {
   "cell_type": "code",
   "execution_count": null,
   "id": "794bbc3a-1867-42cc-a9e3-41adb626959e",
   "metadata": {},
   "outputs": [
    {
     "name": "stdout",
     "output_type": "stream",
     "text": [
      "Fer is a red convertible worth $60000.00.\n",
      "Fer\n",
      "Jump is a blue van worth $10000.00.\n",
      "Jump\n"
     ]
    }
   ],
   "source": [
    "# Python class\n",
    "class Vehicle:\n",
    "    name = \"\"\n",
    "    kind = \"car\"\n",
    "    color = \"\"\n",
    "    value = 100.00\n",
    "    def description(self):\n",
    "        desc_str = \"%s is a %s %s worth $%.2f.\" % (self.name, self.color, self.kind, self.value)\n",
    "        return desc_str\n",
    "\n",
    "car1 = Vehicle()\n",
    "car1.name = \"Fer\"\n",
    "car1.color = \"red\"\n",
    "car1.kind = \"convertible\"\n",
    "car1.value = 60000.00\n",
    "\n",
    "car2 = Vehicle()\n",
    "car2.name = \"Jump\"\n",
    "car2.color = \"blue\"\n",
    "car2.kind = \"van\"\n",
    "car2.value = 10000.00\n",
    "\n",
    "print(car1.description())\n",
    "print(car1.name)\n",
    "print(car2.description())\n",
    "print(car2.name)"
   ]
  },
  {
   "cell_type": "markdown",
   "id": "4568376e-e6f0-4291-8892-b0b8c7af5959",
   "metadata": {},
   "source": [
    "# Python Modules"
   ]
  },
  {
   "cell_type": "code",
   "execution_count": 130,
   "id": "0a17d4cc-b4f6-472b-875d-018bc7f204da",
   "metadata": {},
   "outputs": [
    {
     "name": "stdout",
     "output_type": "stream",
     "text": [
      "Hello, Alan\n"
     ]
    }
   ],
   "source": [
    "# Python Modules\n",
    "import mymodule\n",
    "mymodule.greeting(\"Alan\")"
   ]
  },
  {
   "cell_type": "markdown",
   "id": "25fd869c-6f4b-4d4f-a820-f6221b896b57",
   "metadata": {},
   "source": [
    "## Python File Input/Output"
   ]
  },
  {
   "cell_type": "code",
   "execution_count": 131,
   "id": "84487ccf-c53a-4e81-aeb0-e865d37a7ea5",
   "metadata": {},
   "outputs": [
    {
     "name": "stdout",
     "output_type": "stream",
     "text": [
      "Hello World\n",
      "This is Python File Input Output\n"
     ]
    }
   ],
   "source": [
    "# Python File Input / Output\n",
    "with open('myfile.txt', 'w') as file: \n",
    "    file.write('Hello World\\nThis is Python File Input Output')\n",
    "\n",
    "with open('myfile.txt', 'r') as file:\n",
    "    text = file.read()\n",
    "    print(text)"
   ]
  },
  {
   "cell_type": "code",
   "execution_count": 132,
   "id": "40da8c08-8468-48e3-b7d6-f350745200d6",
   "metadata": {},
   "outputs": [
    {
     "name": "stdout",
     "output_type": "stream",
     "text": [
      "mymodule.py\n",
      "def greeting(name):\n",
      "    print(\"Hello, \" + name)\n",
      "    \n"
     ]
    }
   ],
   "source": [
    "# Python File Input / Output\n",
    "filename = 'mymodule.py'\n",
    "with open(filename, 'w') as file:\n",
    "    text = '''def greeting(name):\n",
    "    print(\"Hello, \" + name)\n",
    "    '''\n",
    "    file.write(text)\n",
    "\n",
    "with open(filename, 'r') as file:\n",
    "    text = file.read()\n",
    "\n",
    "print(filename)\n",
    "print(text)"
   ]
  },
  {
   "cell_type": "markdown",
   "id": "2ed6aa8d-f13e-462c-831d-6aa3ea850ccb",
   "metadata": {},
   "source": [
    "## Python main() function"
   ]
  },
  {
   "cell_type": "code",
   "execution_count": 133,
   "id": "a3f30056-518f-474c-9fde-bff71d3149ee",
   "metadata": {},
   "outputs": [
    {
     "name": "stdout",
     "output_type": "stream",
     "text": [
      "Hello World!\n"
     ]
    }
   ],
   "source": [
    "#Python main() function\n",
    "def main():\n",
    "    print(\"Hello World!\")\n",
    "if __name__ == \"__main__\":\n",
    "    main()"
   ]
  },
  {
   "cell_type": "markdown",
   "id": "f48f2704-61c3-4993-8eee-d6554fd900bf",
   "metadata": {},
   "source": [
    "# Files and Exception Handling"
   ]
  },
  {
   "cell_type": "markdown",
   "id": "1afa98ed-2d37-4b65-be78-cbb221ae637b",
   "metadata": {},
   "source": [
    "## Python Files (File Handling)"
   ]
  },
  {
   "cell_type": "code",
   "execution_count": 134,
   "id": "78a61c80-ce8c-4508-bd0d-225f287f27ea",
   "metadata": {},
   "outputs": [
    {
     "name": "stdout",
     "output_type": "stream",
     "text": [
      "Hello World\n"
     ]
    }
   ],
   "source": [
    "f = open(\"myfile.txt\", \"w\")\n",
    "f.write(\"Hello World\")\n",
    "f.close()\n",
    "\n",
    "f = open(\"myfile.txt\", \"r\")\n",
    "text = f.read()\n",
    "print(text)\n",
    "f.close()"
   ]
  },
  {
   "cell_type": "code",
   "execution_count": 135,
   "id": "2522a4b2-8a09-44d7-9b94-98f6f534f06e",
   "metadata": {},
   "outputs": [
    {
     "name": "stdout",
     "output_type": "stream",
     "text": [
      "Hello World\n"
     ]
    }
   ],
   "source": [
    "# Python File Input / Output\n",
    "with open('myfile.txt', 'w') as file:\n",
    "    file.write('Hello World')\n",
    "    \n",
    "with open('myfile.txt', 'r') as file:\n",
    "    text = file.read()\n",
    "print(text)"
   ]
  },
  {
   "cell_type": "code",
   "execution_count": 136,
   "id": "86836914-a415-4844-9cf9-2e8ba710daca",
   "metadata": {},
   "outputs": [
    {
     "name": "stdout",
     "output_type": "stream",
     "text": [
      "Hello World\n",
      "Python File IO\n"
     ]
    }
   ],
   "source": [
    "# Python File Input / Output\n",
    "with open('myfile.txt', 'w') as file:\n",
    "    file.write('Hello World\\nPython File IO')\n",
    "\n",
    "with open('myfile.txt', 'r') as file:\n",
    "    text = file.read()\n",
    "print(text)"
   ]
  },
  {
   "cell_type": "code",
   "execution_count": 137,
   "id": "955e4be5-a55b-44bc-a4d7-0f2e77d13bf2",
   "metadata": {},
   "outputs": [
    {
     "name": "stdout",
     "output_type": "stream",
     "text": [
      "Hello World\n",
      "Python File IO\n",
      "New line\n"
     ]
    }
   ],
   "source": [
    "# Python File Input / Output\n",
    "with open('myfile.txt', 'a+') as file:\n",
    "    file.write('\\n' + 'New line')\n",
    "\n",
    "with open('myfile.txt', 'r') as file:\n",
    "    text = file.read()\n",
    "print(text)"
   ]
  },
  {
   "cell_type": "code",
   "execution_count": 155,
   "id": "570abed9-7a21-4cdf-81b9-f9e2de357cd1",
   "metadata": {},
   "outputs": [
    {
     "name": "stderr",
     "output_type": "stream",
     "text": [
      "'ls' is not recognized as an internal or external command,\n",
      "operable program or batch file.\n"
     ]
    }
   ],
   "source": [
    "# !ls list files\n",
    "!ls"
   ]
  },
  {
   "cell_type": "markdown",
   "id": "d17d73ab-2a5e-43d9-9867-5a35a0284833",
   "metadata": {},
   "source": [
    "### Python OS, IO, files, and Google Drive"
   ]
  },
  {
   "cell_type": "code",
   "execution_count": 146,
   "id": "cb75afdd-a998-4871-b18b-9cafe569bf81",
   "metadata": {},
   "outputs": [
    {
     "name": "stdout",
     "output_type": "stream",
     "text": [
      "C:\\Users\\THANHNGAN\\Desktop\\Ut\\Github\\sgu25_data_analytics\\exercises\\lab2\n"
     ]
    }
   ],
   "source": [
    "import os\n",
    "\n",
    "cwd = os.getcwd()\n",
    "print(cwd)"
   ]
  },
  {
   "cell_type": "markdown",
   "id": "d94f17ad-74b9-4775-a7e9-d370dcdb9614",
   "metadata": {},
   "source": [
    "### `os.listdir()`"
   ]
  },
  {
   "cell_type": "code",
   "execution_count": 151,
   "id": "31214005-cdcc-4b3a-9b61-7652d69b115f",
   "metadata": {},
   "outputs": [
    {
     "data": {
      "text/plain": [
       "['.ipynb_checkpoints',\n",
       " 'myfile.txt',\n",
       " 'mymodule.py',\n",
       " 'slide_02-Python-Programming_code.ipynb',\n",
       " '__pycache__']"
      ]
     },
     "execution_count": 151,
     "metadata": {},
     "output_type": "execute_result"
    }
   ],
   "source": [
    "# List all files\n",
    "os.listdir(cwd)"
   ]
  },
  {
   "cell_type": "markdown",
   "id": "c36f34cf-9a51-476b-8cb1-2b8b6f335867",
   "metadata": {},
   "source": [
    "### `os.path.join()`"
   ]
  },
  {
   "cell_type": "code",
   "execution_count": 156,
   "id": "2c89a91b-7631-4df5-bb42-f09c23dc1b8f",
   "metadata": {},
   "outputs": [
    {
     "name": "stdout",
     "output_type": "stream",
     "text": [
      "C:\\Users\\THANHNGAN\\Desktop\\Ut\\Github\\sgu25_data_analytics\\exercises\\lab2\\sample_data\n"
     ]
    },
    {
     "ename": "FileNotFoundError",
     "evalue": "[WinError 3] The system cannot find the path specified: 'C:\\\\Users\\\\THANHNGAN\\\\Desktop\\\\Ut\\\\Github\\\\sgu25_data_analytics\\\\exercises\\\\lab2\\\\sample_data'",
     "output_type": "error",
     "traceback": [
      "\u001b[1;31m---------------------------------------------------------------------------\u001b[0m",
      "\u001b[1;31mFileNotFoundError\u001b[0m                         Traceback (most recent call last)",
      "Cell \u001b[1;32mIn[156], line 4\u001b[0m\n\u001b[0;32m      1\u001b[0m path \u001b[38;5;241m=\u001b[39m os\u001b[38;5;241m.\u001b[39mpath\u001b[38;5;241m.\u001b[39mjoin(cwd,\u001b[38;5;124m'\u001b[39m\u001b[38;5;124msample_data\u001b[39m\u001b[38;5;124m'\u001b[39m)\n\u001b[0;32m      3\u001b[0m \u001b[38;5;28mprint\u001b[39m(path)\n\u001b[1;32m----> 4\u001b[0m os\u001b[38;5;241m.\u001b[39mlistdir(path)\n",
      "\u001b[1;31mFileNotFoundError\u001b[0m: [WinError 3] The system cannot find the path specified: 'C:\\\\Users\\\\THANHNGAN\\\\Desktop\\\\Ut\\\\Github\\\\sgu25_data_analytics\\\\exercises\\\\lab2\\\\sample_data'"
     ]
    }
   ],
   "source": [
    "path = os.path.join(cwd,'sample_data')\n",
    "\n",
    "print(path)\n",
    "os.listdir(path)"
   ]
  },
  {
   "cell_type": "code",
   "execution_count": null,
   "id": "87bcbf52-02fe-4c13-93a6-78620abf4bb6",
   "metadata": {},
   "outputs": [],
   "source": []
  }
 ],
 "metadata": {
  "kernelspec": {
   "display_name": "Python 3 (ipykernel)",
   "language": "python",
   "name": "python3"
  },
  "language_info": {
   "codemirror_mode": {
    "name": "ipython",
    "version": 3
   },
   "file_extension": ".py",
   "mimetype": "text/x-python",
   "name": "python",
   "nbconvert_exporter": "python",
   "pygments_lexer": "ipython3",
   "version": "3.13.5"
  }
 },
 "nbformat": 4,
 "nbformat_minor": 5
}
