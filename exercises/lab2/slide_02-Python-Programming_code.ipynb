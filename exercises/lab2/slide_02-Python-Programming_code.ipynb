{
  "cells": [
    {
      "cell_type": "markdown",
      "id": "c4be55a5-8f72-4a89-94b4-74ffd789a10b",
      "metadata": {
        "id": "c4be55a5-8f72-4a89-94b4-74ffd789a10b"
      },
      "source": [
        "# 02 - PYTHON PROGRAMMING"
      ]
    },
    {
      "cell_type": "markdown",
      "id": "b2b6ab5c-3cdf-4216-9774-a5cb3987ff2b",
      "metadata": {
        "id": "b2b6ab5c-3cdf-4216-9774-a5cb3987ff2b"
      },
      "source": [
        "## Python Hello World"
      ]
    },
    {
      "cell_type": "code",
      "execution_count": null,
      "id": "5f9930a4-158d-44f6-aacc-058643c49ac5",
      "metadata": {
        "id": "5f9930a4-158d-44f6-aacc-058643c49ac5",
        "outputId": "7f613bc3-3ae1-48fd-8532-b1d54b70c1ba"
      },
      "outputs": [
        {
          "name": "stdout",
          "output_type": "stream",
          "text": [
            "Hello World\n"
          ]
        }
      ],
      "source": [
        "# print Hello World in Python\n",
        "print(\"Hello World\")"
      ]
    },
    {
      "cell_type": "markdown",
      "id": "c923e955-bdff-472b-862b-ec611ab664da",
      "metadata": {
        "id": "c923e955-bdff-472b-862b-ec611ab664da"
      },
      "source": [
        "## Python Syntax"
      ]
    },
    {
      "cell_type": "code",
      "execution_count": null,
      "id": "3efeab22-16b1-409d-ac20-3b1280fb6cc0",
      "metadata": {
        "id": "3efeab22-16b1-409d-ac20-3b1280fb6cc0"
      },
      "outputs": [],
      "source": [
        "# comment"
      ]
    },
    {
      "cell_type": "markdown",
      "id": "66c271eb-2393-4810-ad5b-2cc826509da7",
      "metadata": {
        "id": "66c271eb-2393-4810-ad5b-2cc826509da7"
      },
      "source": [
        "### Indentation - the spaces at the beginning of a code line 4 spaces"
      ]
    },
    {
      "cell_type": "code",
      "execution_count": null,
      "id": "1493bd01-a18c-4447-8ac5-843bf04d18f1",
      "metadata": {
        "id": "1493bd01-a18c-4447-8ac5-843bf04d18f1",
        "outputId": "9b6f113a-7b9c-4605-892d-0f754d8763d7"
      },
      "outputs": [
        {
          "name": "stdout",
          "output_type": "stream",
          "text": [
            "Pass\n"
          ]
        }
      ],
      "source": [
        "# Indentation\n",
        "score = 80\n",
        "if score >= 60:\n",
        "    print(\"Pass\")"
      ]
    },
    {
      "cell_type": "markdown",
      "id": "40f6dabf-8cee-417b-96c8-7ed9b3c7af6e",
      "metadata": {
        "id": "40f6dabf-8cee-417b-96c8-7ed9b3c7af6e"
      },
      "source": [
        "## Python Variables"
      ]
    },
    {
      "cell_type": "code",
      "execution_count": null,
      "id": "7db4b1ef-9650-4ecf-8616-e1ccd7144c00",
      "metadata": {
        "id": "7db4b1ef-9650-4ecf-8616-e1ccd7144c00"
      },
      "outputs": [],
      "source": [
        "# Python Variables\n",
        "x = 2\n",
        "price = 2.5\n",
        "word = 'Hello'\n",
        "\n",
        "word = 'Hello'\n",
        "word = \"Hello\"\n",
        "word = '''Hello'''"
      ]
    },
    {
      "cell_type": "markdown",
      "id": "943e31f7-2d63-49d5-a87e-7dd2b51f124d",
      "metadata": {
        "id": "943e31f7-2d63-49d5-a87e-7dd2b51f124d"
      },
      "source": [
        "### Independent Variable"
      ]
    },
    {
      "cell_type": "code",
      "execution_count": null,
      "id": "e01b5bad-2a24-4ba2-9639-990eaa3d9eb3",
      "metadata": {
        "id": "e01b5bad-2a24-4ba2-9639-990eaa3d9eb3"
      },
      "outputs": [],
      "source": [
        "# Independent Variable\n",
        "x = 2"
      ]
    },
    {
      "cell_type": "markdown",
      "id": "270dac7e-2873-4b64-8910-292cc80bbf58",
      "metadata": {
        "id": "270dac7e-2873-4b64-8910-292cc80bbf58"
      },
      "source": [
        "### Dependent Variable"
      ]
    },
    {
      "cell_type": "code",
      "execution_count": null,
      "id": "d20273cb-0fb6-492b-a00b-ed299639fba0",
      "metadata": {
        "id": "d20273cb-0fb6-492b-a00b-ed299639fba0"
      },
      "outputs": [],
      "source": [
        "# Dependent Variable\n",
        "y = x + 1"
      ]
    },
    {
      "cell_type": "markdown",
      "id": "181589e5-467d-4e39-9340-548e966980d3",
      "metadata": {
        "id": "181589e5-467d-4e39-9340-548e966980d3"
      },
      "source": [
        "## Python version"
      ]
    },
    {
      "cell_type": "code",
      "execution_count": null,
      "id": "3d001c74-1870-4877-87a1-0c570a8eb44e",
      "metadata": {
        "id": "3d001c74-1870-4877-87a1-0c570a8eb44e",
        "outputId": "84314cfd-8b15-4810-eae7-f19ee5316fc5"
      },
      "outputs": [
        {
          "name": "stdout",
          "output_type": "stream",
          "text": [
            "Python Version: 3.13.5\n"
          ]
        }
      ],
      "source": [
        "# Python_version()\n",
        "from platform import python_version\n",
        "print(\"Python Version:\", python_version())"
      ]
    },
    {
      "cell_type": "markdown",
      "id": "19d4ac2d-e4cd-45ad-8646-bfba33c5fa90",
      "metadata": {
        "id": "19d4ac2d-e4cd-45ad-8646-bfba33c5fa90"
      },
      "source": [
        "## Python Data Types"
      ]
    },
    {
      "cell_type": "code",
      "execution_count": null,
      "id": "f341d034-4acc-43a3-adfe-bdb94df4b2ab",
      "metadata": {
        "id": "f341d034-4acc-43a3-adfe-bdb94df4b2ab"
      },
      "outputs": [],
      "source": [
        "# Python Data Types\n",
        "x = \"Hello World\"   # str\n",
        "x = 2               # int\n",
        "x = 2.5             # float\n",
        "x = 7j              # complex"
      ]
    },
    {
      "cell_type": "code",
      "execution_count": null,
      "id": "4b2f92e2-837f-426e-a442-74664c1cdb00",
      "metadata": {
        "id": "4b2f92e2-837f-426e-a442-74664c1cdb00"
      },
      "outputs": [],
      "source": [
        "# Python Data Types\n",
        "x = [\"apple\", \"banana\", \"cherry\"]             # list\n",
        "x = (\"apple\", \"banana\", \"cherry\")             # tuple\n",
        "x = range(6)                                  # range\n",
        "x = {\"name\" : \"Tom\", \"age\" : 20}              # dict\n",
        "x = {\"apple\", \"banana\", \"cherry\"}             # set\n",
        "x = frozenset({\"apple\", \"banana\", \"cherry\"})  # frozenset"
      ]
    },
    {
      "cell_type": "code",
      "execution_count": null,
      "id": "c842ccf9-f573-4849-844b-25b605cbcd8c",
      "metadata": {
        "id": "c842ccf9-f573-4849-844b-25b605cbcd8c"
      },
      "outputs": [],
      "source": [
        "# Python Data Types\n",
        "x = True                 # bool\n",
        "x = b\"Hello\"             # bytes\n",
        "x = bytearray(5)         # bytearray\n",
        "x = memoryview(bytes(5)) # memoryview\n",
        "x = None                 # NoneType"
      ]
    },
    {
      "cell_type": "markdown",
      "id": "06bb39cd-89ab-4e7a-8185-a8d07dab8683",
      "metadata": {
        "id": "06bb39cd-89ab-4e7a-8185-a8d07dab8683"
      },
      "source": [
        "## Python Casting"
      ]
    },
    {
      "cell_type": "code",
      "execution_count": null,
      "id": "967dd641-f1ce-4ac0-aff6-fde348765558",
      "metadata": {
        "id": "967dd641-f1ce-4ac0-aff6-fde348765558",
        "outputId": "ae75e8f6-2de6-4134-e63f-b3ee2c63982c"
      },
      "outputs": [
        {
          "name": "stdout",
          "output_type": "stream",
          "text": [
            "3 <class 'str'>\n",
            "3 <class 'int'>\n",
            "3.0 <class 'float'>\n"
          ]
        }
      ],
      "source": [
        "# Python Casting\n",
        "x = str(3)         # x will be '3'\n",
        "y = int(3)         # y will be 3\n",
        "z = float(3)       # z will be 3.0\n",
        "print(x, type(x))\n",
        "print(y, type(y))\n",
        "print(z, type(z))"
      ]
    },
    {
      "cell_type": "markdown",
      "id": "9ebfcf56-0cde-454c-9a59-4b6027a6d66b",
      "metadata": {
        "id": "9ebfcf56-0cde-454c-9a59-4b6027a6d66b"
      },
      "source": [
        "## Python Numbers"
      ]
    },
    {
      "cell_type": "code",
      "execution_count": null,
      "id": "348c11b1-047f-4660-bb1c-6745e99211af",
      "metadata": {
        "id": "348c11b1-047f-4660-bb1c-6745e99211af",
        "outputId": "7a4545c4-8a76-4054-c4db-c7537fbc6842"
      },
      "outputs": [
        {
          "name": "stdout",
          "output_type": "stream",
          "text": [
            "2 <class 'int'>\n",
            "3.4 <class 'float'>\n",
            "7j <class 'complex'>\n"
          ]
        }
      ],
      "source": [
        "# Python Numbers\n",
        "x = 2             # int\n",
        "y = 3.4           # float\n",
        "z = 7j            # complex\n",
        "print(x, type(x))\n",
        "print(y, type(y))\n",
        "print(z, type(z))"
      ]
    },
    {
      "cell_type": "markdown",
      "id": "bba3fa10-22c3-487f-a1ff-d000f058ba53",
      "metadata": {
        "id": "bba3fa10-22c3-487f-a1ff-d000f058ba53"
      },
      "source": [
        "## Python Operators"
      ]
    },
    {
      "cell_type": "markdown",
      "id": "69829eb2-a1dd-4f9f-8a4b-aaa9f6201594",
      "metadata": {
        "id": "69829eb2-a1dd-4f9f-8a4b-aaa9f6201594"
      },
      "source": [
        "### Operator Name Example"
      ]
    },
    {
      "cell_type": "markdown",
      "id": "ddd7a114-3aa2-4f9d-aef1-edcebf8b9c5a",
      "metadata": {
        "id": "ddd7a114-3aa2-4f9d-aef1-edcebf8b9c5a"
      },
      "source": [
        "#### Addition +"
      ]
    },
    {
      "cell_type": "code",
      "execution_count": null,
      "id": "c2282eef-932e-4c4d-b446-925be2ee62ea",
      "metadata": {
        "id": "c2282eef-932e-4c4d-b446-925be2ee62ea",
        "outputId": "96effc95-c744-42ec-a67e-ea50a38fe70c"
      },
      "outputs": [
        {
          "name": "stdout",
          "output_type": "stream",
          "text": [
            "7 + 2 = 9\n"
          ]
        }
      ],
      "source": [
        "# + Addition 7 + 2 = 9\n",
        "print('7 + 2 =', 7 + 2)"
      ]
    },
    {
      "cell_type": "markdown",
      "id": "b2590ccb-60e2-4e06-ba33-fbd1315fbc26",
      "metadata": {
        "id": "b2590ccb-60e2-4e06-ba33-fbd1315fbc26"
      },
      "source": [
        "#### Subtraction -"
      ]
    },
    {
      "cell_type": "code",
      "execution_count": null,
      "id": "025a2050-b656-4f80-be0c-f081677d2c09",
      "metadata": {
        "id": "025a2050-b656-4f80-be0c-f081677d2c09",
        "outputId": "622b0031-7189-48b0-ef48-e2d117dae6a8"
      },
      "outputs": [
        {
          "name": "stdout",
          "output_type": "stream",
          "text": [
            "7 - 2 = 5\n"
          ]
        }
      ],
      "source": [
        "# - Subtraction 7 - 2 = 5\n",
        "print('7 - 2 =', 7 - 2)"
      ]
    },
    {
      "cell_type": "markdown",
      "id": "708811a8-8a8e-4aca-948e-db2068be5b09",
      "metadata": {
        "id": "708811a8-8a8e-4aca-948e-db2068be5b09"
      },
      "source": [
        "#### Multiplication *"
      ]
    },
    {
      "cell_type": "code",
      "execution_count": null,
      "id": "1ce9cd50-dd04-40d5-9727-8b4f15d36358",
      "metadata": {
        "id": "1ce9cd50-dd04-40d5-9727-8b4f15d36358",
        "outputId": "803b7e0f-c763-43ea-a5d4-e337de266f6f"
      },
      "outputs": [
        {
          "name": "stdout",
          "output_type": "stream",
          "text": [
            "7 * 2 = 14\n"
          ]
        }
      ],
      "source": [
        "# * Multiplication 7 * 2 = 14\n",
        "print('7 * 2 =', 7 * 2)"
      ]
    },
    {
      "cell_type": "markdown",
      "id": "19984a08-039f-43d9-8507-08d528d861bc",
      "metadata": {
        "id": "19984a08-039f-43d9-8507-08d528d861bc"
      },
      "source": [
        "#### Division /"
      ]
    },
    {
      "cell_type": "code",
      "execution_count": null,
      "id": "412ab3dc-0d53-4287-b5d2-07b85fe63cc0",
      "metadata": {
        "id": "412ab3dc-0d53-4287-b5d2-07b85fe63cc0",
        "outputId": "9f1adf9e-5396-43a2-c0a0-bbda449813ba"
      },
      "outputs": [
        {
          "name": "stdout",
          "output_type": "stream",
          "text": [
            "7 / 2 = 3.5\n"
          ]
        }
      ],
      "source": [
        "# / Division 7 / 2 = 3.5\n",
        "print('7 / 2 =', 7 / 2)"
      ]
    },
    {
      "cell_type": "markdown",
      "id": "3608aa47-a6bd-4c96-b518-b77ef5705490",
      "metadata": {
        "id": "3608aa47-a6bd-4c96-b518-b77ef5705490"
      },
      "source": [
        "#### Floor division // (Quotient)"
      ]
    },
    {
      "cell_type": "code",
      "execution_count": null,
      "id": "9b9c9c70-62ab-4b56-9311-52eae7332ba4",
      "metadata": {
        "id": "9b9c9c70-62ab-4b56-9311-52eae7332ba4",
        "outputId": "b4595d9e-81d8-4e9e-b825-866df5245c61"
      },
      "outputs": [
        {
          "name": "stdout",
          "output_type": "stream",
          "text": [
            "7 // 2 = 3\n"
          ]
        }
      ],
      "source": [
        "# // Floor division 7 // 2 = 3 (Quotient)\n",
        "print('7 // 2 =', 7 // 2)"
      ]
    },
    {
      "cell_type": "markdown",
      "id": "ff7a69b9-f7d7-42e8-b829-adaa975f2154",
      "metadata": {
        "id": "ff7a69b9-f7d7-42e8-b829-adaa975f2154"
      },
      "source": [
        "#### Modulus % (Remainder)"
      ]
    },
    {
      "cell_type": "code",
      "execution_count": null,
      "id": "1cd1fda4-b81c-4102-bfe4-b60d8fab3245",
      "metadata": {
        "id": "1cd1fda4-b81c-4102-bfe4-b60d8fab3245",
        "outputId": "4d5130b8-19b2-4e68-8e5c-8e85e0a92840"
      },
      "outputs": [
        {
          "name": "stdout",
          "output_type": "stream",
          "text": [
            "7 % 2 = 1\n"
          ]
        }
      ],
      "source": [
        "# % Modulus 7 % 2 = 1 (Remainder)\n",
        "print('7 % 2 =', 7 % 2)"
      ]
    },
    {
      "cell_type": "markdown",
      "id": "573c3f73-df7b-46ed-9eee-534d56ae393a",
      "metadata": {
        "id": "573c3f73-df7b-46ed-9eee-534d56ae393a"
      },
      "source": [
        "#### Exponentiation **"
      ]
    },
    {
      "cell_type": "code",
      "execution_count": null,
      "id": "0106fa8f-32d9-440d-83de-9db8a6078cc2",
      "metadata": {
        "id": "0106fa8f-32d9-440d-83de-9db8a6078cc2",
        "outputId": "e5d5efb2-9f3d-45b5-c380-91e646b76747"
      },
      "outputs": [
        {
          "name": "stdout",
          "output_type": "stream",
          "text": [
            "7 ** 2 = 49\n"
          ]
        }
      ],
      "source": [
        "# ** Exponentiation 7 ** 2 = 49\n",
        "print('7 ** 2 =', 7 ** 2)"
      ]
    },
    {
      "cell_type": "markdown",
      "id": "bfeb1ec7-f867-4e3b-852a-a76cfcc6d21e",
      "metadata": {
        "id": "bfeb1ec7-f867-4e3b-852a-a76cfcc6d21e"
      },
      "source": [
        "## Python Booleans: True or False"
      ]
    },
    {
      "cell_type": "code",
      "execution_count": null,
      "id": "35ae7ba1-4815-4f9c-b442-5888d3490ada",
      "metadata": {
        "id": "35ae7ba1-4815-4f9c-b442-5888d3490ada",
        "outputId": "2c292688-8a27-4d38-ecef-0fa935377fd6"
      },
      "outputs": [
        {
          "name": "stdout",
          "output_type": "stream",
          "text": [
            "True\n",
            "False\n",
            "False\n"
          ]
        }
      ],
      "source": [
        "# Python Booleans: True or False\n",
        "print(3 > 2)\n",
        "print(3 == 2)\n",
        "print(3 < 2)"
      ]
    },
    {
      "cell_type": "markdown",
      "id": "205e1e09-4bc1-4256-8585-a24feebd6777",
      "metadata": {
        "id": "205e1e09-4bc1-4256-8585-a24feebd6777"
      },
      "source": [
        "## Python BMI Calculator"
      ]
    },
    {
      "cell_type": "code",
      "execution_count": null,
      "id": "359d5245-dfbf-4f4e-ba49-79d6e3519ee1",
      "metadata": {
        "id": "359d5245-dfbf-4f4e-ba49-79d6e3519ee1",
        "outputId": "f44a3766-58e8-497b-b40e-d0cb281d5b6c"
      },
      "outputs": [
        {
          "name": "stdout",
          "output_type": "stream",
          "text": [
            "Your BMI is: 20.8\n"
          ]
        }
      ],
      "source": [
        "# BMI Calculator in Python\n",
        "height_cm = 170\n",
        "weight_kg = 60\n",
        "height_m = height_cm/100\n",
        "BMI = (weight_kg/(height_m**2))\n",
        "\n",
        "print(\"Your BMI is: \" + str(round(BMI,1)))"
      ]
    },
    {
      "cell_type": "markdown",
      "id": "1c9db15c-9996-47d2-944a-4ae79ca9f1fb",
      "metadata": {
        "id": "1c9db15c-9996-47d2-944a-4ae79ca9f1fb"
      },
      "source": [
        "# Future value of a specified principal amount, rate of interest, and a number of years"
      ]
    },
    {
      "cell_type": "markdown",
      "id": "17b22d69-0536-45c2-8b08-e9782e795b8f",
      "metadata": {
        "id": "17b22d69-0536-45c2-8b08-e9782e795b8f"
      },
      "source": [
        "## How much is your $100 worth after 7 years?"
      ]
    },
    {
      "cell_type": "code",
      "execution_count": null,
      "id": "4f5acb38-bce9-4230-baae-376694aec2bb",
      "metadata": {
        "id": "4f5acb38-bce9-4230-baae-376694aec2bb",
        "outputId": "80fc89fd-d703-4bee-feee-cd2a42110e87"
      },
      "outputs": [
        {
          "name": "stdout",
          "output_type": "stream",
          "text": [
            "fv =  194.87\n"
          ]
        }
      ],
      "source": [
        "# How much is your $100 worth after 7 years?\n",
        "fv = 100 * 1.1 ** 7\n",
        "print('fv = ', round(fv, 2))\n",
        "# output = 194.87"
      ]
    },
    {
      "cell_type": "markdown",
      "id": "c761502e-316d-46fc-9773-d4408a32e1fa",
      "metadata": {
        "id": "c761502e-316d-46fc-9773-d4408a32e1fa"
      },
      "source": [
        "## Future Value"
      ]
    },
    {
      "cell_type": "code",
      "execution_count": null,
      "id": "ac4b2ee2-ec6d-4486-9f63-28f6fb721265",
      "metadata": {
        "id": "ac4b2ee2-ec6d-4486-9f63-28f6fb721265",
        "outputId": "494015fc-1735-4f9a-85e4-1f6a59b54ad0"
      },
      "outputs": [
        {
          "name": "stdout",
          "output_type": "stream",
          "text": [
            "194.87\n"
          ]
        }
      ],
      "source": [
        "# Future Value\n",
        "pv = 100\n",
        "r = 0.1\n",
        "n = 7\n",
        "fv = pv * ((1 + (r)) ** n)\n",
        "print(round(fv, 2))"
      ]
    },
    {
      "cell_type": "code",
      "execution_count": null,
      "id": "5afcece3-33b0-4547-aa89-9793cd6b318c",
      "metadata": {
        "id": "5afcece3-33b0-4547-aa89-9793cd6b318c",
        "outputId": "b151e47a-c693-42c4-dd74-1485bda83930"
      },
      "outputs": [
        {
          "name": "stdout",
          "output_type": "stream",
          "text": [
            "194.87\n"
          ]
        }
      ],
      "source": [
        "# Future Value\n",
        "amount = 100\n",
        "interest = 10 #10% = 0.01 * 10\n",
        "years = 7\n",
        "\n",
        "future_value = amount * ((1 + (0.01 * interest)) ** years)\n",
        "print(round(future_value, 2))"
      ]
    },
    {
      "cell_type": "markdown",
      "id": "c5909761-ff4d-44c6-8f4f-25ebf02a0540",
      "metadata": {
        "id": "c5909761-ff4d-44c6-8f4f-25ebf02a0540"
      },
      "source": [
        "# Python Data Structures"
      ]
    },
    {
      "cell_type": "markdown",
      "id": "9d662a7f-7e64-4c56-8c0a-7f69a2b4b970",
      "metadata": {
        "id": "9d662a7f-7e64-4c56-8c0a-7f69a2b4b970"
      },
      "source": [
        "## Python Data Types"
      ]
    },
    {
      "cell_type": "code",
      "execution_count": null,
      "id": "09e81f26-59db-493c-ae2b-21d3e9c6ceaa",
      "metadata": {
        "id": "09e81f26-59db-493c-ae2b-21d3e9c6ceaa"
      },
      "outputs": [],
      "source": [
        "# Python Data Types\n",
        "x = [\"apple\", \"banana\", \"cherry\"]   # list\n",
        "x = (\"apple\", \"banana\", \"cherry\")   # tuple\n",
        "x = {\"name\" : \"Tom\", \"age\" : 20}    # dict\n",
        "x = {\"apple\", \"banana\", \"cherry\"}   # set"
      ]
    },
    {
      "cell_type": "markdown",
      "id": "10aeb27b-2e0b-4b8f-be3c-83235a03e5d4",
      "metadata": {
        "id": "10aeb27b-2e0b-4b8f-be3c-83235a03e5d4"
      },
      "source": [
        "## Python Collections"
      ]
    },
    {
      "cell_type": "markdown",
      "id": "0bb5a2e8-398e-4bd1-bb67-2dea621db897",
      "metadata": {
        "id": "0bb5a2e8-398e-4bd1-bb67-2dea621db897"
      },
      "source": [
        "### List[]"
      ]
    },
    {
      "cell_type": "code",
      "execution_count": null,
      "id": "4a0b2132-ddb0-48e2-8aba-559ebed32d97",
      "metadata": {
        "id": "4a0b2132-ddb0-48e2-8aba-559ebed32d97",
        "outputId": "b6ae9882-9c03-4711-bc54-5fbca499b4f0"
      },
      "outputs": [
        {
          "name": "stdout",
          "output_type": "stream",
          "text": [
            "4\n",
            "60\n",
            "70\n",
            "90\n"
          ]
        }
      ],
      "source": [
        "# List[]\n",
        "x = [60, 70, 80, 90]\n",
        "print(len(x))\n",
        "print(x[0])\n",
        "print(x[1])\n",
        "print(x[-1])"
      ]
    },
    {
      "cell_type": "markdown",
      "id": "36085567-09c9-4566-ac1f-94d312386bcf",
      "metadata": {
        "id": "36085567-09c9-4566-ac1f-94d312386bcf"
      },
      "source": [
        "### Tuples()"
      ]
    },
    {
      "cell_type": "code",
      "execution_count": null,
      "id": "084c4a22-7c13-4f8c-b881-add532621ea0",
      "metadata": {
        "id": "084c4a22-7c13-4f8c-b881-add532621ea0",
        "outputId": "fefd5bc2-b011-43ff-9492-9ad30cb1ce7c"
      },
      "outputs": [
        {
          "name": "stdout",
          "output_type": "stream",
          "text": [
            "10\n",
            "20\n",
            "30\n",
            "50\n"
          ]
        }
      ],
      "source": [
        "# Tuples()\n",
        "x = (10, 20, 30, 40, 50)\n",
        "print(x[0])\n",
        "print(x[1])\n",
        "print(x[2])\n",
        "print(x[-1])"
      ]
    },
    {
      "cell_type": "markdown",
      "id": "b8fe7a10-1734-47d3-9c78-9b0fe99f1a03",
      "metadata": {
        "id": "b8fe7a10-1734-47d3-9c78-9b0fe99f1a03"
      },
      "source": [
        "### Set{}"
      ]
    },
    {
      "cell_type": "code",
      "execution_count": null,
      "id": "abeb8c1b-49d6-4652-8d81-1e3fd2436642",
      "metadata": {
        "id": "abeb8c1b-49d6-4652-8d81-1e3fd2436642",
        "outputId": "e53d84f3-f67c-4cc9-ba88-9dc714151516"
      },
      "outputs": [
        {
          "name": "stdout",
          "output_type": "stream",
          "text": [
            "True\n",
            "False\n",
            "True\n",
            "3\n",
            "3\n",
            "2\n"
          ]
        }
      ],
      "source": [
        "# Set{}\n",
        "animals = {'cat', 'dog'}\n",
        "print('cat' in animals)\n",
        "print('fish' in animals)\n",
        "animals.add('fish')\n",
        "print('fish' in animals)\n",
        "print(len(animals))\n",
        "animals.add('cat')\n",
        "print(len(animals))\n",
        "animals.remove('cat')\n",
        "print(len(animals))"
      ]
    },
    {
      "cell_type": "markdown",
      "id": "95749fd1-3487-48d0-a150-132adde7bdb3",
      "metadata": {
        "id": "95749fd1-3487-48d0-a150-132adde7bdb3"
      },
      "source": [
        "### Dictionary {key : value}"
      ]
    },
    {
      "cell_type": "markdown",
      "id": "ae9e9298-27a2-4f0a-ab4d-688af3f9cd29",
      "metadata": {
        "id": "ae9e9298-27a2-4f0a-ab4d-688af3f9cd29"
      },
      "source": [
        "#### Python Dictionary\n",
        "Key => Value  \n",
        "'EN' => 'English'  \n",
        "'FR' => 'French'"
      ]
    },
    {
      "cell_type": "code",
      "execution_count": null,
      "id": "302b5f04-ad50-4a7a-8001-b2bd9ce475b6",
      "metadata": {
        "id": "302b5f04-ad50-4a7a-8001-b2bd9ce475b6",
        "outputId": "a4a50f8d-8977-462d-c66b-4f699ced321e"
      },
      "outputs": [
        {
          "name": "stdout",
          "output_type": "stream",
          "text": [
            "English\n"
          ]
        }
      ],
      "source": [
        "# Python Dictionary\n",
        "k = { 'EN':'English','FR':'French' }\n",
        "print(k['EN'])"
      ]
    },
    {
      "cell_type": "markdown",
      "id": "e9fb6a7c-db87-46e1-a1e9-ac741a72fd49",
      "metadata": {
        "id": "e9fb6a7c-db87-46e1-a1e9-ac741a72fd49"
      },
      "source": [
        "## Python Data Structures"
      ]
    },
    {
      "cell_type": "code",
      "execution_count": null,
      "id": "dab13c83-1ee7-4dd0-8d1f-ecaa3b6e5be9",
      "metadata": {
        "id": "dab13c83-1ee7-4dd0-8d1f-ecaa3b6e5be9"
      },
      "outputs": [],
      "source": [
        "fruits = [\"apple\", \"banana\", \"cherry\"]  # lists []\n",
        "colors = (\"red\", \"green\", \"blue\")       # tuples ()\n",
        "animals = {'cat', 'dog'}                # sets {}\n",
        "person = {\"name\" : \"Tom\", \"age\" : 20}   # dictionaries {}"
      ]
    },
    {
      "cell_type": "markdown",
      "id": "dfeea74a-f9bb-49a9-a66e-4d2d4425d05e",
      "metadata": {
        "id": "dfeea74a-f9bb-49a9-a66e-4d2d4425d05e"
      },
      "source": [
        "## Python for Finance Applications"
      ]
    },
    {
      "cell_type": "markdown",
      "id": "6e281b02-3f85-4090-be71-481d411d7ec2",
      "metadata": {
        "id": "6e281b02-3f85-4090-be71-481d411d7ec2"
      },
      "source": [
        "### Python Lists"
      ]
    },
    {
      "cell_type": "code",
      "execution_count": null,
      "id": "de2c7f94-03d6-4a86-b10a-be0b33cfb4a3",
      "metadata": {
        "id": "de2c7f94-03d6-4a86-b10a-be0b33cfb4a3",
        "outputId": "23984dae-8fc2-4cb4-9c26-a7e2ab7d17a7"
      },
      "outputs": [
        {
          "name": "stdout",
          "output_type": "stream",
          "text": [
            "Total expenses: 293.5\n"
          ]
        }
      ],
      "source": [
        "# Python Lists\n",
        "expenses = [72.50, 80.75, 50.00, 90.25]\n",
        "total_expenses = sum(expenses)\n",
        "print(\"Total expenses:\", total_expenses)"
      ]
    },
    {
      "cell_type": "markdown",
      "id": "74f319ec-d84f-4fa4-af9d-3bf2d427ebcd",
      "metadata": {
        "id": "74f319ec-d84f-4fa4-af9d-3bf2d427ebcd"
      },
      "source": [
        "### Python Tuples"
      ]
    },
    {
      "cell_type": "code",
      "execution_count": null,
      "id": "1889d034-e167-4adf-8554-6adea207dab8",
      "metadata": {
        "id": "1889d034-e167-4adf-8554-6adea207dab8",
        "outputId": "c3e2a8b1-4f7b-42de-b997-bf3d8afe53dd"
      },
      "outputs": [
        {
          "name": "stdout",
          "output_type": "stream",
          "text": [
            "Account name: Cash Account number: 1001\n",
            "Account name: Accounts Receivable Account number: 1002\n",
            "Account name: Inventory Account number: 1003\n"
          ]
        }
      ],
      "source": [
        "# Python Tuples\n",
        "accounts = ((\"Cash\", 1001), (\"Accounts Receivable\", 1002), (\"Inventory\", 1003))\n",
        "for account in accounts:\n",
        "    print(\"Account name:\", account[0], \"Account number:\", account[1])"
      ]
    },
    {
      "cell_type": "markdown",
      "id": "b8169588-8c40-4b13-82b1-6d741586b69f",
      "metadata": {
        "id": "b8169588-8c40-4b13-82b1-6d741586b69f"
      },
      "source": [
        "### Python Sets"
      ]
    },
    {
      "cell_type": "code",
      "execution_count": null,
      "id": "c6f485be-a72e-47c0-8582-ea81e2b02026",
      "metadata": {
        "id": "c6f485be-a72e-47c0-8582-ea81e2b02026",
        "outputId": "bafe906e-26f1-49c4-f2f2-a82769776610"
      },
      "outputs": [
        {
          "name": "stdout",
          "output_type": "stream",
          "text": [
            "Account number 1004 is not in use.\n"
          ]
        }
      ],
      "source": [
        "# Python Sets\n",
        "account_numbers = {1001, 1002, 1003}\n",
        "new_account_number = 1004\n",
        "if new_account_number not in account_numbers:\n",
        "    print(\"Account number\", new_account_number, \"is not in use.\")"
      ]
    },
    {
      "cell_type": "markdown",
      "id": "52580549-ceee-4d7d-a601-9f36669ec122",
      "metadata": {
        "id": "52580549-ceee-4d7d-a601-9f36669ec122"
      },
      "source": [
        "### Python Dictionaries"
      ]
    },
    {
      "cell_type": "code",
      "execution_count": null,
      "id": "82125967-7124-4923-92f8-5bd653df10ee",
      "metadata": {
        "id": "82125967-7124-4923-92f8-5bd653df10ee",
        "outputId": "5a5b0755-10af-48da-fb15-9c6d1dbbf6c0"
      },
      "outputs": [
        {
          "name": "stdout",
          "output_type": "stream",
          "text": [
            "Account number: 1001\n",
            "Account name: Cash\n",
            "Account balance: 500.0\n",
            "Account type: Asset\n",
            "Account number: 1002\n",
            "Account name: Accounts Receivable\n",
            "Account balance: 1000.0\n",
            "Account type: Asset\n",
            "Account number: 2001\n",
            "Account name: Accounts Payable\n",
            "Account balance: 750.0\n",
            "Account type: Liability\n"
          ]
        }
      ],
      "source": [
        "# Python Dictionaries\n",
        "accounts = {\"1001\": {\"name\": \"Cash\", \"balance\": 500.00, \"type\": \"Asset\"},\n",
        "\"1002\": {\"name\": \"Accounts Receivable\", \"balance\": 1000.00, \"type\": \"Asset\"},\n",
        "\"2001\": {\"name\": \"Accounts Payable\", \"balance\": 750.00, \"type\": \"Liability\"}}\n",
        "for account_number, account_info in accounts.items():\n",
        "    print(\"Account number:\", account_number)\n",
        "    print(\"Account name:\", account_info[\"name\"])\n",
        "    print(\"Account balance:\", account_info[\"balance\"])\n",
        "    print(\"Account type:\", account_info[\"type\"])"
      ]
    },
    {
      "cell_type": "markdown",
      "id": "0e667583-c7fa-4fe8-86ba-fc3e3b6ac6ad",
      "metadata": {
        "id": "0e667583-c7fa-4fe8-86ba-fc3e3b6ac6ad"
      },
      "source": [
        "# Python Control Logic and Loops"
      ]
    },
    {
      "cell_type": "markdown",
      "id": "b8dde291-758b-4e07-949e-082904ce5257",
      "metadata": {
        "id": "b8dde291-758b-4e07-949e-082904ce5257"
      },
      "source": [
        "## Python if"
      ]
    },
    {
      "cell_type": "code",
      "execution_count": null,
      "id": "008917cd-4b4f-4f93-a11c-ecb5eea2229d",
      "metadata": {
        "id": "008917cd-4b4f-4f93-a11c-ecb5eea2229d",
        "outputId": "528597d4-171a-4c69-c11e-61ef1a3f44ca"
      },
      "outputs": [
        {
          "name": "stdout",
          "output_type": "stream",
          "text": [
            "Pass\n"
          ]
        }
      ],
      "source": [
        "# Python if\n",
        "score = 80\n",
        "if score >=60 :\n",
        "    print(\"Pass\")"
      ]
    },
    {
      "cell_type": "markdown",
      "id": "2f2c34a4-7006-45b4-ad3f-40935f494888",
      "metadata": {
        "id": "2f2c34a4-7006-45b4-ad3f-40935f494888"
      },
      "source": [
        "## Python if else"
      ]
    },
    {
      "cell_type": "code",
      "execution_count": null,
      "id": "e713578b-28bb-4138-9b4d-4050bb1c4fd3",
      "metadata": {
        "id": "e713578b-28bb-4138-9b4d-4050bb1c4fd3",
        "outputId": "5d3b2f55-2b49-4914-b55d-8ffdfcbc7588"
      },
      "outputs": [
        {
          "name": "stdout",
          "output_type": "stream",
          "text": [
            "Pass\n"
          ]
        }
      ],
      "source": [
        "# Python if else\n",
        "score = 80\n",
        "if score >=60 :\n",
        "    print(\"Pass\")\n",
        "else:\n",
        "    print(\"Fail\")"
      ]
    },
    {
      "cell_type": "markdown",
      "id": "e4cb6403-4531-4806-89d1-5588a4f11d82",
      "metadata": {
        "id": "e4cb6403-4531-4806-89d1-5588a4f11d82"
      },
      "source": [
        "## Python if elif else"
      ]
    },
    {
      "cell_type": "code",
      "execution_count": null,
      "id": "f9baebcb-a2aa-44d2-a730-b5e7af5f0b05",
      "metadata": {
        "id": "f9baebcb-a2aa-44d2-a730-b5e7af5f0b05",
        "outputId": "05dcdd32-b7ce-49fa-f349-7c3ce3f81dd9"
      },
      "outputs": [
        {
          "name": "stdout",
          "output_type": "stream",
          "text": [
            "A\n"
          ]
        }
      ],
      "source": [
        "# Python if elif else\n",
        "score = 95\n",
        "if score >= 90 :\n",
        "    print(\"A\")\n",
        "elif score >=60 :\n",
        "    print(\"Pass\")\n",
        "else:\n",
        "    print(\"Fail\")"
      ]
    },
    {
      "cell_type": "code",
      "execution_count": null,
      "id": "984767e5-5839-4d72-b73f-c3c8391e0573",
      "metadata": {
        "id": "984767e5-5839-4d72-b73f-c3c8391e0573",
        "outputId": "1f2c272d-1056-4e64-9b95-313e95d7214d"
      },
      "outputs": [
        {
          "name": "stdout",
          "output_type": "stream",
          "text": [
            "A\n"
          ]
        }
      ],
      "source": [
        "# Python if elif else\n",
        "score = 90\n",
        "grade = \"\"\n",
        "if score >=90:\n",
        "    grade = \"A\"\n",
        "elif score >= 80:\n",
        "    grade = \"B\"\n",
        "elif score >= 70:\n",
        "    grade = \"C\"\n",
        "elif score >= 60:\n",
        "    grade = \"D\"\n",
        "else:\n",
        "    grade = \"E\"\n",
        "print(grade)"
      ]
    },
    {
      "cell_type": "markdown",
      "id": "936501f2-3cd1-4043-9d7d-7fc97235ebcf",
      "metadata": {
        "id": "936501f2-3cd1-4043-9d7d-7fc97235ebcf"
      },
      "source": [
        "## Python for Loops"
      ]
    },
    {
      "cell_type": "code",
      "execution_count": null,
      "id": "3a2acb4b-f47f-48e5-8576-0c7a6dff9ac7",
      "metadata": {
        "id": "3a2acb4b-f47f-48e5-8576-0c7a6dff9ac7",
        "outputId": "fc440182-17db-4a29-9016-610a7c4d5a70"
      },
      "outputs": [
        {
          "name": "stdout",
          "output_type": "stream",
          "text": [
            "1\n",
            "2\n",
            "3\n",
            "4\n",
            "5\n"
          ]
        }
      ],
      "source": [
        "# Python for Loops\n",
        "for i in range(1,6):\n",
        "    print(i)"
      ]
    },
    {
      "cell_type": "code",
      "execution_count": null,
      "id": "b44ceff0-df48-4877-a34a-ad2f92f409ae",
      "metadata": {
        "id": "b44ceff0-df48-4877-a34a-ad2f92f409ae",
        "outputId": "8e31ef72-44e4-4704-e646-d94e4996dd3b"
      },
      "outputs": [
        {
          "name": "stdout",
          "output_type": "stream",
          "text": [
            "1  *  1  =  1\n",
            "1  *  2  =  2\n",
            "1  *  3  =  3\n",
            "1  *  4  =  4\n",
            "1  *  5  =  5\n",
            "1  *  6  =  6\n",
            "1  *  7  =  7\n",
            "1  *  8  =  8\n",
            "1  *  9  =  9\n",
            "2  *  1  =  2\n",
            "2  *  2  =  4\n",
            "2  *  3  =  6\n",
            "2  *  4  =  8\n",
            "2  *  5  =  10\n",
            "2  *  6  =  12\n",
            "2  *  7  =  14\n",
            "2  *  8  =  16\n",
            "2  *  9  =  18\n",
            "3  *  1  =  3\n",
            "3  *  2  =  6\n",
            "3  *  3  =  9\n",
            "3  *  4  =  12\n",
            "3  *  5  =  15\n",
            "3  *  6  =  18\n",
            "3  *  7  =  21\n",
            "3  *  8  =  24\n",
            "3  *  9  =  27\n",
            "4  *  1  =  4\n",
            "4  *  2  =  8\n",
            "4  *  3  =  12\n",
            "4  *  4  =  16\n",
            "4  *  5  =  20\n",
            "4  *  6  =  24\n",
            "4  *  7  =  28\n",
            "4  *  8  =  32\n",
            "4  *  9  =  36\n",
            "5  *  1  =  5\n",
            "5  *  2  =  10\n",
            "5  *  3  =  15\n",
            "5  *  4  =  20\n",
            "5  *  5  =  25\n",
            "5  *  6  =  30\n",
            "5  *  7  =  35\n",
            "5  *  8  =  40\n",
            "5  *  9  =  45\n",
            "6  *  1  =  6\n",
            "6  *  2  =  12\n",
            "6  *  3  =  18\n",
            "6  *  4  =  24\n",
            "6  *  5  =  30\n",
            "6  *  6  =  36\n",
            "6  *  7  =  42\n",
            "6  *  8  =  48\n",
            "6  *  9  =  54\n",
            "7  *  1  =  7\n",
            "7  *  2  =  14\n",
            "7  *  3  =  21\n",
            "7  *  4  =  28\n",
            "7  *  5  =  35\n",
            "7  *  6  =  42\n",
            "7  *  7  =  49\n",
            "7  *  8  =  56\n",
            "7  *  9  =  63\n",
            "8  *  1  =  8\n",
            "8  *  2  =  16\n",
            "8  *  3  =  24\n",
            "8  *  4  =  32\n",
            "8  *  5  =  40\n",
            "8  *  6  =  48\n",
            "8  *  7  =  56\n",
            "8  *  8  =  64\n",
            "8  *  9  =  72\n",
            "9  *  1  =  9\n",
            "9  *  2  =  18\n",
            "9  *  3  =  27\n",
            "9  *  4  =  36\n",
            "9  *  5  =  45\n",
            "9  *  6  =  54\n",
            "9  *  7  =  63\n",
            "9  *  8  =  72\n",
            "9  *  9  =  81\n"
          ]
        }
      ],
      "source": [
        "# for loops\n",
        "for i in range(1,10):\n",
        "    for j in range(1,10):\n",
        "        print(i, ' * ' , j , ' = ', i*j)"
      ]
    },
    {
      "cell_type": "markdown",
      "id": "cc6c915c-b008-45c7-9241-df8566d4891f",
      "metadata": {
        "id": "cc6c915c-b008-45c7-9241-df8566d4891f"
      },
      "source": [
        "## Python while Loops"
      ]
    },
    {
      "cell_type": "code",
      "execution_count": null,
      "id": "12b7bb72-2a46-4cf0-9b77-a1e0309a3769",
      "metadata": {
        "id": "12b7bb72-2a46-4cf0-9b77-a1e0309a3769",
        "outputId": "2e1112ac-e8d3-48ae-de6a-dcb81ab297b7"
      },
      "outputs": [
        {
          "name": "stdout",
          "output_type": "stream",
          "text": [
            "10\n",
            "11\n",
            "12\n",
            "13\n",
            "14\n",
            "15\n",
            "16\n",
            "17\n",
            "18\n",
            "19\n"
          ]
        }
      ],
      "source": [
        "# while loops\n",
        "age = 10\n",
        "while age < 20:\n",
        "    print(age)\n",
        "    age = age + 1"
      ]
    },
    {
      "cell_type": "markdown",
      "id": "841ed4e8-a5ed-4963-9461-5b5733b72635",
      "metadata": {
        "id": "841ed4e8-a5ed-4963-9461-5b5733b72635"
      },
      "source": [
        "# Python Functions"
      ]
    },
    {
      "cell_type": "markdown",
      "id": "6daf4d9e-f75b-4d65-9393-a5af1232c65c",
      "metadata": {
        "id": "6daf4d9e-f75b-4d65-9393-a5af1232c65c"
      },
      "source": [
        "## Python Function def"
      ]
    },
    {
      "cell_type": "code",
      "execution_count": null,
      "id": "8bb17371-a763-4fd4-abc8-d277f8c152c5",
      "metadata": {
        "id": "8bb17371-a763-4fd4-abc8-d277f8c152c5",
        "outputId": "167cb29d-82d3-4eab-84c5-68fd70741989"
      },
      "outputs": [
        {
          "name": "stdout",
          "output_type": "stream",
          "text": [
            "194.87\n"
          ]
        }
      ],
      "source": [
        "# Python Function def\n",
        "# indentation for blocks. four spaces\n",
        "def getfv(pv, r, n):\n",
        "    fv = pv * ((1 + (r)) ** n)\n",
        "    return fv\n",
        "fv = getfv(100, 0.1, 7)\n",
        "print(round(fv, 2))"
      ]
    },
    {
      "cell_type": "markdown",
      "id": "bf40166c-2147-4388-a506-d5006da3f641",
      "metadata": {
        "id": "bf40166c-2147-4388-a506-d5006da3f641"
      },
      "source": [
        "# Future value of a specified principal amount, rate of interest, and a number of years"
      ]
    },
    {
      "cell_type": "markdown",
      "id": "65cc9117-1d2f-4e9e-91ac-8c502b6f9906",
      "metadata": {
        "id": "65cc9117-1d2f-4e9e-91ac-8c502b6f9906"
      },
      "source": [
        "## How much is your $100 worth after 7 years?"
      ]
    },
    {
      "cell_type": "code",
      "execution_count": null,
      "id": "df45266f-e643-4710-9ef7-b3c0b9305a2c",
      "metadata": {
        "id": "df45266f-e643-4710-9ef7-b3c0b9305a2c",
        "outputId": "b1a12ddd-7d5b-4e8a-e60e-c27368776edf"
      },
      "outputs": [
        {
          "name": "stdout",
          "output_type": "stream",
          "text": [
            "fv =  194.87\n"
          ]
        }
      ],
      "source": [
        "# How much is your $100 worth after 7 years?\n",
        "fv = 100 * 1.1 ** 7\n",
        "print('fv = ', round(fv, 2))\n",
        "# output = 194.87"
      ]
    },
    {
      "cell_type": "markdown",
      "id": "1c52843f-1e18-475a-83ac-c2af772ac27e",
      "metadata": {
        "id": "1c52843f-1e18-475a-83ac-c2af772ac27e"
      },
      "source": [
        "## Future Value"
      ]
    },
    {
      "cell_type": "code",
      "execution_count": null,
      "id": "65fc8712-8f2a-4067-a2da-a495f77b6f71",
      "metadata": {
        "id": "65fc8712-8f2a-4067-a2da-a495f77b6f71",
        "outputId": "25e3af0d-c5d5-438a-af81-8c06a9cb65bd"
      },
      "outputs": [
        {
          "name": "stdout",
          "output_type": "stream",
          "text": [
            "194.87\n"
          ]
        }
      ],
      "source": [
        "# Future Value\n",
        "pv = 100\n",
        "r = 0.1\n",
        "n = 7\n",
        "fv = pv * ((1 + (r)) ** n)\n",
        "print(round(fv, 2))"
      ]
    },
    {
      "cell_type": "code",
      "execution_count": null,
      "id": "9d3f386a-3bfe-4f0d-bb64-c2b81557d3d5",
      "metadata": {
        "id": "9d3f386a-3bfe-4f0d-bb64-c2b81557d3d5",
        "outputId": "9684db6f-86ef-4323-94b1-5eb138a6ba2c"
      },
      "outputs": [
        {
          "name": "stdout",
          "output_type": "stream",
          "text": [
            "194.87\n"
          ]
        }
      ],
      "source": [
        "# Future Value\n",
        "amount = 100\n",
        "interest = 10 #10% = 0.01 * 10\n",
        "years = 7\n",
        "\n",
        "future_value = amount * ((1 + (0.01 * interest)) ** years)\n",
        "print(round(future_value, 2))"
      ]
    },
    {
      "cell_type": "markdown",
      "id": "545c79ca-f92f-489b-89b0-dbe11bafad29",
      "metadata": {
        "id": "545c79ca-f92f-489b-89b0-dbe11bafad29"
      },
      "source": [
        "## Python Function"
      ]
    },
    {
      "cell_type": "code",
      "execution_count": null,
      "id": "bed9383d-b257-4066-b030-a52ec1eb6b38",
      "metadata": {
        "id": "bed9383d-b257-4066-b030-a52ec1eb6b38",
        "outputId": "5481ead4-b052-46ce-fa0d-6f975ff1ccdf"
      },
      "outputs": [
        {
          "name": "stdout",
          "output_type": "stream",
          "text": [
            "194.87\n"
          ]
        }
      ],
      "source": [
        "# Python Function def\n",
        "# indentation for blocks. four spaces\n",
        "def getfv(pv, r, n):\n",
        "    fv = pv * ((1 + (r)) ** n)\n",
        "    return fv\n",
        "fv = getfv(100, 0.1, 7)\n",
        "print(round(fv, 2))"
      ]
    },
    {
      "cell_type": "markdown",
      "id": "bddc16f5-1dd3-420a-9c9b-f6109bbfd9a5",
      "metadata": {
        "id": "bddc16f5-1dd3-420a-9c9b-f6109bbfd9a5"
      },
      "source": [
        "# Python Classes/Objects `class MyClass:`"
      ]
    },
    {
      "cell_type": "markdown",
      "id": "205385ed-5d18-4fff-9f59-c1d0c58b3c40",
      "metadata": {
        "id": "205385ed-5d18-4fff-9f59-c1d0c58b3c40"
      },
      "source": [
        "## Python Classes/Objects"
      ]
    },
    {
      "cell_type": "markdown",
      "id": "d8e1cb08-c39d-4c03-a185-b765888c45a5",
      "metadata": {
        "id": "d8e1cb08-c39d-4c03-a185-b765888c45a5"
      },
      "source": [
        "### `class MyClass:`"
      ]
    },
    {
      "cell_type": "code",
      "execution_count": null,
      "id": "7a30a54f-0732-4693-82c5-7038732d43fa",
      "metadata": {
        "id": "7a30a54f-0732-4693-82c5-7038732d43fa",
        "outputId": "30e75f9d-a20d-4941-e8ce-9e41884af69e"
      },
      "outputs": [
        {
          "name": "stdout",
          "output_type": "stream",
          "text": [
            "5\n"
          ]
        }
      ],
      "source": [
        "# Python class\n",
        "class MyClass:\n",
        "    x = 5\n",
        "\n",
        "c1 = MyClass()\n",
        "print(c1.x)"
      ]
    },
    {
      "cell_type": "markdown",
      "id": "32ca5fd3-e318-4685-b2e6-6762c39c6121",
      "metadata": {
        "id": "32ca5fd3-e318-4685-b2e6-6762c39c6121"
      },
      "source": [
        "### `class Person:`"
      ]
    },
    {
      "cell_type": "code",
      "execution_count": null,
      "id": "a573195f-2174-4705-8036-29c95a7f7112",
      "metadata": {
        "id": "a573195f-2174-4705-8036-29c95a7f7112",
        "outputId": "ab6d1be1-7564-4e51-81b6-0f1409976389"
      },
      "outputs": [
        {
          "name": "stdout",
          "output_type": "stream",
          "text": [
            "Alan\n",
            "20\n"
          ]
        }
      ],
      "source": [
        "# Python class\n",
        "class Person:\n",
        "    def __init__(self, name, age):\n",
        "        self.name = name\n",
        "        self.age = age\n",
        "\n",
        "p1 = Person(\"Alan\", 20)\n",
        "\n",
        "print(p1.name)\n",
        "print(p1.age)"
      ]
    },
    {
      "cell_type": "code",
      "execution_count": null,
      "id": "ebe2350d-c64d-46d0-823d-b26a61c4cbf8",
      "metadata": {
        "id": "ebe2350d-c64d-46d0-823d-b26a61c4cbf8",
        "outputId": "54b2d027-a854-4eca-cc9a-b423510e2a06"
      },
      "outputs": [
        {
          "name": "stdout",
          "output_type": "stream",
          "text": [
            "Hello my name is Alan\n"
          ]
        }
      ],
      "source": [
        "# Python class\n",
        "class Person:\n",
        "    def __init__(self, name, age):\n",
        "        self.name = name\n",
        "        self.age = age\n",
        "    def myfunc(self):\n",
        "        print(\"Hello my name is \" + self.name)\n",
        "\n",
        "p1 = Person(\"Alan\", 20)\n",
        "p1.myfunc()"
      ]
    },
    {
      "cell_type": "code",
      "execution_count": null,
      "id": "99cfd677-cb6b-4cd5-aa0a-cc122a7a7f1c",
      "metadata": {
        "id": "99cfd677-cb6b-4cd5-aa0a-cc122a7a7f1c",
        "outputId": "d605a8dc-f218-48b0-c25c-5e4317e2c638"
      },
      "outputs": [
        {
          "name": "stdout",
          "output_type": "stream",
          "text": [
            "Hello my name is Alan\n",
            "Alan\n",
            "20\n"
          ]
        }
      ],
      "source": [
        "# Python class\n",
        "class Person:\n",
        "    def __init__(self, name, age):\n",
        "        self.name = name\n",
        "        self.age = age\n",
        "    def myfunc(self):\n",
        "        print(\"Hello my name is \" + self.name)\n",
        "\n",
        "p1 = Person(\"Alan\", 20)\n",
        "p1.myfunc()\n",
        "print(p1.name)\n",
        "print(p1.age)"
      ]
    },
    {
      "cell_type": "markdown",
      "id": "475cd214-762d-44bd-843b-1000e3d511e6",
      "metadata": {
        "id": "475cd214-762d-44bd-843b-1000e3d511e6"
      },
      "source": [
        "### `class Vehicle:`"
      ]
    },
    {
      "cell_type": "code",
      "execution_count": null,
      "id": "3d50b218-011d-408e-a4f4-17c9b8819592",
      "metadata": {
        "id": "3d50b218-011d-408e-a4f4-17c9b8819592"
      },
      "outputs": [],
      "source": [
        "# Python class\n",
        "class Vehicle:\n",
        "    name = \"\"\n",
        "    kind = \"car\"\n",
        "    color = \"\"\n",
        "    value = 100.00\n",
        "    def description(self):\n",
        "        desc_str = \"%s is a %s %s worth $%.2f.\" %(self.name, self.color, self.kind, self.value)\n",
        "        return desc_str"
      ]
    },
    {
      "cell_type": "code",
      "execution_count": null,
      "id": "794bbc3a-1867-42cc-a9e3-41adb626959e",
      "metadata": {
        "id": "794bbc3a-1867-42cc-a9e3-41adb626959e",
        "outputId": "dea25f0c-fc71-479f-ce36-f5b209bad306"
      },
      "outputs": [
        {
          "name": "stdout",
          "output_type": "stream",
          "text": [
            "Fer is a red convertible worth $60000.00.\n",
            "Fer\n",
            "Jump is a blue van worth $10000.00.\n",
            "Jump\n"
          ]
        }
      ],
      "source": [
        "# Python class\n",
        "class Vehicle:\n",
        "    name = \"\"\n",
        "    kind = \"car\"\n",
        "    color = \"\"\n",
        "    value = 100.00\n",
        "    def description(self):\n",
        "        desc_str = \"%s is a %s %s worth $%.2f.\" % (self.name, self.color, self.kind, self.value)\n",
        "        return desc_str\n",
        "\n",
        "car1 = Vehicle()\n",
        "car1.name = \"Fer\"\n",
        "car1.color = \"red\"\n",
        "car1.kind = \"convertible\"\n",
        "car1.value = 60000.00\n",
        "\n",
        "car2 = Vehicle()\n",
        "car2.name = \"Jump\"\n",
        "car2.color = \"blue\"\n",
        "car2.kind = \"van\"\n",
        "car2.value = 10000.00\n",
        "\n",
        "print(car1.description())\n",
        "print(car1.name)\n",
        "print(car2.description())\n",
        "print(car2.name)"
      ]
    },
    {
      "cell_type": "markdown",
      "id": "4568376e-e6f0-4291-8892-b0b8c7af5959",
      "metadata": {
        "id": "4568376e-e6f0-4291-8892-b0b8c7af5959"
      },
      "source": [
        "# Python Modules"
      ]
    },
    {
      "cell_type": "code",
      "execution_count": null,
      "id": "0a17d4cc-b4f6-472b-875d-018bc7f204da",
      "metadata": {
        "id": "0a17d4cc-b4f6-472b-875d-018bc7f204da",
        "outputId": "14ee6126-99f5-4e31-ca94-2d63e6c5155a"
      },
      "outputs": [
        {
          "name": "stdout",
          "output_type": "stream",
          "text": [
            "Hello, Alan\n"
          ]
        }
      ],
      "source": [
        "# Python Modules\n",
        "import mymodule\n",
        "mymodule.greeting(\"Alan\")"
      ]
    },
    {
      "cell_type": "markdown",
      "id": "25fd869c-6f4b-4d4f-a820-f6221b896b57",
      "metadata": {
        "id": "25fd869c-6f4b-4d4f-a820-f6221b896b57"
      },
      "source": [
        "## Python File Input/Output"
      ]
    },
    {
      "cell_type": "code",
      "execution_count": null,
      "id": "84487ccf-c53a-4e81-aeb0-e865d37a7ea5",
      "metadata": {
        "id": "84487ccf-c53a-4e81-aeb0-e865d37a7ea5",
        "outputId": "08cb55d5-4720-4eee-8fcc-929c77853426"
      },
      "outputs": [
        {
          "name": "stdout",
          "output_type": "stream",
          "text": [
            "Hello World\n",
            "This is Python File Input Output\n"
          ]
        }
      ],
      "source": [
        "# Python File Input / Output\n",
        "with open('myfile.txt', 'w') as file:\n",
        "    file.write('Hello World\\nThis is Python File Input Output')\n",
        "\n",
        "with open('myfile.txt', 'r') as file:\n",
        "    text = file.read()\n",
        "    print(text)"
      ]
    },
    {
      "cell_type": "code",
      "execution_count": 5,
      "id": "40da8c08-8468-48e3-b7d6-f350745200d6",
      "metadata": {
        "id": "40da8c08-8468-48e3-b7d6-f350745200d6",
        "outputId": "fbc6b319-ef2f-47e9-ad7e-c7c254993819",
        "colab": {
          "base_uri": "https://localhost:8080/"
        }
      },
      "outputs": [
        {
          "output_type": "stream",
          "name": "stdout",
          "text": [
            "mymodule.py\n",
            "def greeting(name):\n",
            "    print(\"Hello, \" + name)\n",
            "    \n"
          ]
        }
      ],
      "source": [
        "# Python File Input / Output\n",
        "filename = 'mymodule.py'\n",
        "with open(filename, 'w') as file:\n",
        "    text = '''def greeting(name):\n",
        "    print(\"Hello, \" + name)\n",
        "    '''\n",
        "    file.write(text)\n",
        "\n",
        "with open(filename, 'r') as file:\n",
        "    text = file.read()\n",
        "\n",
        "print(filename)\n",
        "print(text)"
      ]
    },
    {
      "cell_type": "markdown",
      "id": "2ed6aa8d-f13e-462c-831d-6aa3ea850ccb",
      "metadata": {
        "id": "2ed6aa8d-f13e-462c-831d-6aa3ea850ccb"
      },
      "source": [
        "## Python main() function"
      ]
    },
    {
      "cell_type": "code",
      "execution_count": null,
      "id": "a3f30056-518f-474c-9fde-bff71d3149ee",
      "metadata": {
        "id": "a3f30056-518f-474c-9fde-bff71d3149ee",
        "outputId": "fe853def-0c5c-44e1-b4bc-a94144491e9f"
      },
      "outputs": [
        {
          "name": "stdout",
          "output_type": "stream",
          "text": [
            "Hello World!\n"
          ]
        }
      ],
      "source": [
        "#Python main() function\n",
        "def main():\n",
        "    print(\"Hello World!\")\n",
        "if __name__ == \"__main__\":\n",
        "    main()"
      ]
    },
    {
      "cell_type": "markdown",
      "id": "f48f2704-61c3-4993-8eee-d6554fd900bf",
      "metadata": {
        "id": "f48f2704-61c3-4993-8eee-d6554fd900bf"
      },
      "source": [
        "# Files and Exception Handling"
      ]
    },
    {
      "cell_type": "markdown",
      "id": "1afa98ed-2d37-4b65-be78-cbb221ae637b",
      "metadata": {
        "id": "1afa98ed-2d37-4b65-be78-cbb221ae637b"
      },
      "source": [
        "## Python Files (File Handling)"
      ]
    },
    {
      "cell_type": "code",
      "execution_count": 4,
      "id": "78a61c80-ce8c-4508-bd0d-225f287f27ea",
      "metadata": {
        "id": "78a61c80-ce8c-4508-bd0d-225f287f27ea",
        "outputId": "694eb40f-c247-4043-b516-1313b6bf64d7",
        "colab": {
          "base_uri": "https://localhost:8080/"
        }
      },
      "outputs": [
        {
          "output_type": "stream",
          "name": "stdout",
          "text": [
            "Hello World\n"
          ]
        }
      ],
      "source": [
        "f = open(\"myfile.txt\", \"w\")\n",
        "f.write(\"Hello World\")\n",
        "f.close()\n",
        "\n",
        "f = open(\"myfile.txt\", \"r\")\n",
        "text = f.read()\n",
        "print(text)\n",
        "f.close()"
      ]
    },
    {
      "cell_type": "code",
      "execution_count": null,
      "id": "2522a4b2-8a09-44d7-9b94-98f6f534f06e",
      "metadata": {
        "id": "2522a4b2-8a09-44d7-9b94-98f6f534f06e",
        "outputId": "be9d40d6-a548-413f-a357-27aeeb336b42"
      },
      "outputs": [
        {
          "name": "stdout",
          "output_type": "stream",
          "text": [
            "Hello World\n"
          ]
        }
      ],
      "source": [
        "# Python File Input / Output\n",
        "with open('myfile.txt', 'w') as file:\n",
        "    file.write('Hello World')\n",
        "\n",
        "with open('myfile.txt', 'r') as file:\n",
        "    text = file.read()\n",
        "print(text)"
      ]
    },
    {
      "cell_type": "code",
      "execution_count": null,
      "id": "86836914-a415-4844-9cf9-2e8ba710daca",
      "metadata": {
        "id": "86836914-a415-4844-9cf9-2e8ba710daca",
        "outputId": "c85a0eca-b82a-4d0e-cef8-c8f57e8a0a59"
      },
      "outputs": [
        {
          "name": "stdout",
          "output_type": "stream",
          "text": [
            "Hello World\n",
            "Python File IO\n"
          ]
        }
      ],
      "source": [
        "# Python File Input / Output\n",
        "with open('myfile.txt', 'w') as file:\n",
        "    file.write('Hello World\\nPython File IO')\n",
        "\n",
        "with open('myfile.txt', 'r') as file:\n",
        "    text = file.read()\n",
        "print(text)"
      ]
    },
    {
      "cell_type": "code",
      "execution_count": null,
      "id": "955e4be5-a55b-44bc-a4d7-0f2e77d13bf2",
      "metadata": {
        "id": "955e4be5-a55b-44bc-a4d7-0f2e77d13bf2",
        "outputId": "04eb65bd-5381-45b6-db90-56568a64e3cb"
      },
      "outputs": [
        {
          "name": "stdout",
          "output_type": "stream",
          "text": [
            "Hello World\n",
            "Python File IO\n",
            "New line\n"
          ]
        }
      ],
      "source": [
        "# Python File Input / Output\n",
        "with open('myfile.txt', 'a+') as file:\n",
        "    file.write('\\n' + 'New line')\n",
        "\n",
        "with open('myfile.txt', 'r') as file:\n",
        "    text = file.read()\n",
        "print(text)"
      ]
    },
    {
      "cell_type": "code",
      "execution_count": 3,
      "id": "570abed9-7a21-4cdf-81b9-f9e2de357cd1",
      "metadata": {
        "id": "570abed9-7a21-4cdf-81b9-f9e2de357cd1",
        "outputId": "8d278027-8b54-447e-f73d-e38ff9af6844",
        "colab": {
          "base_uri": "https://localhost:8080/"
        }
      },
      "outputs": [
        {
          "output_type": "stream",
          "name": "stdout",
          "text": [
            "sample_data\n"
          ]
        }
      ],
      "source": [
        "# !ls list files\n",
        "!ls"
      ]
    },
    {
      "cell_type": "markdown",
      "id": "d17d73ab-2a5e-43d9-9867-5a35a0284833",
      "metadata": {
        "id": "d17d73ab-2a5e-43d9-9867-5a35a0284833"
      },
      "source": [
        "### Python OS, IO, files, and Google Drive"
      ]
    },
    {
      "cell_type": "code",
      "execution_count": 10,
      "id": "cb75afdd-a998-4871-b18b-9cafe569bf81",
      "metadata": {
        "id": "cb75afdd-a998-4871-b18b-9cafe569bf81",
        "outputId": "89b1d8cf-48ef-4e76-c516-560fa52cdbfc",
        "colab": {
          "base_uri": "https://localhost:8080/"
        }
      },
      "outputs": [
        {
          "output_type": "stream",
          "name": "stdout",
          "text": [
            "/content\n"
          ]
        }
      ],
      "source": [
        "import os\n",
        "cwd = os.getcwd()\n",
        "print(cwd)"
      ]
    },
    {
      "cell_type": "markdown",
      "id": "d94f17ad-74b9-4775-a7e9-d370dcdb9614",
      "metadata": {
        "id": "d94f17ad-74b9-4775-a7e9-d370dcdb9614"
      },
      "source": [
        "### `os.listdir()`"
      ]
    },
    {
      "cell_type": "code",
      "execution_count": 7,
      "id": "31214005-cdcc-4b3a-9b61-7652d69b115f",
      "metadata": {
        "id": "31214005-cdcc-4b3a-9b61-7652d69b115f",
        "outputId": "d2303e22-111b-4809-e8ec-175a0094ddb5",
        "colab": {
          "base_uri": "https://localhost:8080/"
        }
      },
      "outputs": [
        {
          "output_type": "execute_result",
          "data": {
            "text/plain": [
              "['.config', 'myfile.txt', 'mymodule.py', 'sample_data']"
            ]
          },
          "metadata": {},
          "execution_count": 7
        }
      ],
      "source": [
        "# List all files\n",
        "os.listdir(cwd)"
      ]
    },
    {
      "cell_type": "markdown",
      "id": "c36f34cf-9a51-476b-8cb1-2b8b6f335867",
      "metadata": {
        "id": "c36f34cf-9a51-476b-8cb1-2b8b6f335867"
      },
      "source": [
        "### `os.path.join()`"
      ]
    },
    {
      "cell_type": "code",
      "execution_count": 8,
      "id": "2c89a91b-7631-4df5-bb42-f09c23dc1b8f",
      "metadata": {
        "id": "2c89a91b-7631-4df5-bb42-f09c23dc1b8f",
        "outputId": "ed4e6d31-1fc1-4c11-f40d-223474a1dddd",
        "colab": {
          "base_uri": "https://localhost:8080/"
        }
      },
      "outputs": [
        {
          "output_type": "stream",
          "name": "stdout",
          "text": [
            "/content/sample_data\n"
          ]
        },
        {
          "output_type": "execute_result",
          "data": {
            "text/plain": [
              "['anscombe.json',\n",
              " 'README.md',\n",
              " 'mnist_test.csv',\n",
              " 'mnist_train_small.csv',\n",
              " 'california_housing_train.csv',\n",
              " 'california_housing_test.csv']"
            ]
          },
          "metadata": {},
          "execution_count": 8
        }
      ],
      "source": [
        "path = os.path.join(cwd,'sample_data')\n",
        "\n",
        "print(path)\n",
        "os.listdir(path)"
      ]
    },
    {
      "cell_type": "markdown",
      "source": [
        "### `from google.colab import files`"
      ],
      "metadata": {
        "id": "z4l8MgRY2IgM"
      },
      "id": "z4l8MgRY2IgM"
    },
    {
      "cell_type": "code",
      "source": [
        "from google.colab import files\n",
        "\n",
        "with open('io_file_myday.txt', 'w') as f:\n",
        "  f.write('Google Colab File Write Text some content Myday')\n",
        "\n",
        "import time\n",
        "time.sleep(1) # time sleep 1 second\n",
        "\n",
        "files.download('io_file_myday.txt')\n",
        "print('downloaded')"
      ],
      "metadata": {
        "id": "ze-GaTLR2M0g",
        "outputId": "c7b8f76f-c4fe-48e7-ffbe-0ba8e7e969e3",
        "colab": {
          "base_uri": "https://localhost:8080/",
          "height": 34
        }
      },
      "id": "ze-GaTLR2M0g",
      "execution_count": 14,
      "outputs": [
        {
          "output_type": "display_data",
          "data": {
            "text/plain": [
              "<IPython.core.display.Javascript object>"
            ],
            "application/javascript": [
              "\n",
              "    async function download(id, filename, size) {\n",
              "      if (!google.colab.kernel.accessAllowed) {\n",
              "        return;\n",
              "      }\n",
              "      const div = document.createElement('div');\n",
              "      const label = document.createElement('label');\n",
              "      label.textContent = `Downloading \"${filename}\": `;\n",
              "      div.appendChild(label);\n",
              "      const progress = document.createElement('progress');\n",
              "      progress.max = size;\n",
              "      div.appendChild(progress);\n",
              "      document.body.appendChild(div);\n",
              "\n",
              "      const buffers = [];\n",
              "      let downloaded = 0;\n",
              "\n",
              "      const channel = await google.colab.kernel.comms.open(id);\n",
              "      // Send a message to notify the kernel that we're ready.\n",
              "      channel.send({})\n",
              "\n",
              "      for await (const message of channel.messages) {\n",
              "        // Send a message to notify the kernel that we're ready.\n",
              "        channel.send({})\n",
              "        if (message.buffers) {\n",
              "          for (const buffer of message.buffers) {\n",
              "            buffers.push(buffer);\n",
              "            downloaded += buffer.byteLength;\n",
              "            progress.value = downloaded;\n",
              "          }\n",
              "        }\n",
              "      }\n",
              "      const blob = new Blob(buffers, {type: 'application/binary'});\n",
              "      const a = document.createElement('a');\n",
              "      a.href = window.URL.createObjectURL(blob);\n",
              "      a.download = filename;\n",
              "      div.appendChild(a);\n",
              "      a.click();\n",
              "      div.remove();\n",
              "    }\n",
              "  "
            ]
          },
          "metadata": {}
        },
        {
          "output_type": "display_data",
          "data": {
            "text/plain": [
              "<IPython.core.display.Javascript object>"
            ],
            "application/javascript": [
              "download(\"download_e91c2cca-a3a6-4cfa-9733-6b2e7eabf222\", \"io_file_myday.txt\", 47)"
            ]
          },
          "metadata": {}
        },
        {
          "output_type": "stream",
          "name": "stdout",
          "text": [
            "downloaded\n"
          ]
        }
      ]
    },
    {
      "cell_type": "markdown",
      "source": [
        "### `os.remove()`"
      ],
      "metadata": {
        "id": "FpeDpFDI21bs"
      },
      "id": "FpeDpFDI21bs"
    },
    {
      "cell_type": "code",
      "source": [
        "import os\n",
        "if os.path.exists(\"myfile.txt\"):\n",
        "  os.remove(\"myfile.txt\")\n",
        "  print(\"myfile.txt removed\")\n",
        "else:\n",
        "  print(\"The file does not exist\")"
      ],
      "metadata": {
        "id": "p8S2zpsM23kj",
        "outputId": "8d1dc2d6-fb91-404e-e793-acf560a87773",
        "colab": {
          "base_uri": "https://localhost:8080/"
        }
      },
      "id": "p8S2zpsM23kj",
      "execution_count": 13,
      "outputs": [
        {
          "output_type": "stream",
          "name": "stdout",
          "text": [
            "The file does not exist\n"
          ]
        }
      ]
    },
    {
      "cell_type": "markdown",
      "source": [
        "### `os.mkdir(\"myfolder1\")` and `os.rmdir(\"myfolder1\")`\n",
        "\n"
      ],
      "metadata": {
        "id": "a6FuqRV23CPT"
      },
      "id": "a6FuqRV23CPT"
    },
    {
      "cell_type": "code",
      "source": [
        "import os\n",
        "os.listdir()\n",
        "os.mkdir(\"myfolder1\")\n",
        "os.listdir()\n",
        "os.rmdir(\"myfolder1\")\n",
        "os.listdir()"
      ],
      "metadata": {
        "id": "gqTDsr1Y3Egt",
        "outputId": "6a5fd83c-5b9b-4dde-c926-dbe462f3daf1",
        "colab": {
          "base_uri": "https://localhost:8080/"
        }
      },
      "id": "gqTDsr1Y3Egt",
      "execution_count": 12,
      "outputs": [
        {
          "output_type": "execute_result",
          "data": {
            "text/plain": [
              "['.config', 'io_file_myday.txt', 'mymodule.py', 'sample_data']"
            ]
          },
          "metadata": {},
          "execution_count": 12
        }
      ]
    },
    {
      "cell_type": "markdown",
      "source": [
        "## Python Try Except"
      ],
      "metadata": {
        "id": "DAYn2zkA3XSe"
      },
      "id": "DAYn2zkA3XSe"
    },
    {
      "cell_type": "markdown",
      "source": [
        "### Python **try: except:** (Exception Handling)"
      ],
      "metadata": {
        "id": "wGfYjBQJ3xrB"
      },
      "id": "wGfYjBQJ3xrB"
    },
    {
      "cell_type": "code",
      "source": [
        "#Python try except\n",
        "try:\n",
        "  print(x)\n",
        "except:\n",
        "  print(\"Exception Error\")"
      ],
      "metadata": {
        "id": "UqWnu_dR3aDA",
        "outputId": "e64c2433-5112-47c0-d232-d15f2d0cbcc9",
        "colab": {
          "base_uri": "https://localhost:8080/"
        }
      },
      "id": "UqWnu_dR3aDA",
      "execution_count": 15,
      "outputs": [
        {
          "output_type": "stream",
          "name": "stdout",
          "text": [
            "Exception Error\n"
          ]
        }
      ]
    },
    {
      "cell_type": "markdown",
      "source": [
        "### Python **try: except: finally:**"
      ],
      "metadata": {
        "id": "7UWKcuuL4BYU"
      },
      "id": "7UWKcuuL4BYU"
    },
    {
      "cell_type": "code",
      "source": [
        "#Python try except finally\n",
        "try:\n",
        "    print(\"Hello\")\n",
        "except:\n",
        "  print(\"Exception Error\")\n",
        "finally:\n",
        "  print(\"Finally process\")"
      ],
      "metadata": {
        "id": "NrtSTanz4B48",
        "outputId": "8bf1ae89-61ab-44ab-81c7-0f54421f4e86",
        "colab": {
          "base_uri": "https://localhost:8080/"
        }
      },
      "id": "NrtSTanz4B48",
      "execution_count": 17,
      "outputs": [
        {
          "output_type": "stream",
          "name": "stdout",
          "text": [
            "Hello\n",
            "Finally process\n"
          ]
        }
      ]
    },
    {
      "cell_type": "markdown",
      "source": [
        "### Python **try: except: else:**"
      ],
      "metadata": {
        "id": "yaaZvDL54myA"
      },
      "id": "yaaZvDL54myA"
    },
    {
      "cell_type": "code",
      "source": [
        "#Python try except else\n",
        "try:\n",
        "  print(\"Hello\")\n",
        "except:\n",
        "  print(\"Exception Error\")\n",
        "else:\n",
        "  print(\"No exception\")"
      ],
      "metadata": {
        "id": "j7kdFbQU4ot9",
        "outputId": "ad081689-eada-4e73-cbb7-019addd3d8b6",
        "colab": {
          "base_uri": "https://localhost:8080/"
        }
      },
      "id": "j7kdFbQU4ot9",
      "execution_count": 18,
      "outputs": [
        {
          "output_type": "stream",
          "name": "stdout",
          "text": [
            "Hello\n",
            "No exception\n"
          ]
        }
      ]
    },
    {
      "cell_type": "markdown",
      "source": [
        "### Python **try: except: else: finally:**"
      ],
      "metadata": {
        "id": "JHsaIDMg4yH-"
      },
      "id": "JHsaIDMg4yH-"
    },
    {
      "cell_type": "code",
      "source": [
        "# Python try: except: else: finally:\n",
        "try:\n",
        "  print(\"Hello\")\n",
        "except:\n",
        "  print(\"Exception Error\")\n",
        "else:\n",
        "  print(\"No exception\")\n",
        "finally:\n",
        "  print(\"Finally process\")"
      ],
      "metadata": {
        "id": "MICsJlHc40q4",
        "outputId": "0a20c633-4a54-4e16-d978-fabc9ffabc31",
        "colab": {
          "base_uri": "https://localhost:8080/"
        }
      },
      "id": "MICsJlHc40q4",
      "execution_count": 20,
      "outputs": [
        {
          "output_type": "stream",
          "name": "stdout",
          "text": [
            "Hello\n",
            "No exception\n",
            "Finally process\n"
          ]
        }
      ]
    },
    {
      "cell_type": "code",
      "source": [
        "# Python try: except: else: finally:\n",
        "try:\n",
        "  price = float(input(\"Enter the price of the stock (e.g. 10):\"))\n",
        "  shares = int(input(\"Enter the number of shares (e.g. 2):\"))\n",
        "  total = price * shares\n",
        "except Exception as e:\n",
        "  print(\"Exception error:\", str(e))\n",
        "else:\n",
        "  print(\"The total value of the shares is:\", total)\n",
        "finally:\n",
        "  print(\"Thank you.\")"
      ],
      "metadata": {
        "id": "PxkmDpH745ha",
        "outputId": "c61ef6a2-b66e-4906-b440-dec15fbdc682",
        "colab": {
          "base_uri": "https://localhost:8080/"
        }
      },
      "id": "PxkmDpH745ha",
      "execution_count": 22,
      "outputs": [
        {
          "output_type": "stream",
          "name": "stdout",
          "text": [
            "Enter the price of the stock (e.g. 10):10\n",
            "Enter the number of shares (e.g. 2):2\n",
            "The total value of the shares is: 20.0\n",
            "Thank you.\n"
          ]
        }
      ]
    },
    {
      "cell_type": "code",
      "source": [
        "# Python try: except: else: finally:\n",
        "try:\n",
        "  file = open(\"myfile.txt\")\n",
        "  file.write(\"Python write file\")\n",
        "  print(\"file saved\")\n",
        "except:\n",
        "  print(\"Exception file Error\")"
      ],
      "metadata": {
        "id": "6ZNyvveG5AqL",
        "outputId": "65a6b3bf-8c68-49e9-aad5-983716758050",
        "colab": {
          "base_uri": "https://localhost:8080/"
        }
      },
      "id": "6ZNyvveG5AqL",
      "execution_count": 24,
      "outputs": [
        {
          "output_type": "stream",
          "name": "stdout",
          "text": [
            "Exception file Error\n"
          ]
        }
      ]
    },
    {
      "cell_type": "code",
      "source": [
        "# Python try: except: else: finally:\n",
        "try:\n",
        "  file = open(\"myfile.txt\")\n",
        "  file.write(\"Python write file\")\n",
        "  print(\"file saved\")\n",
        "except:\n",
        "  print(\"Exception file Error\")\n",
        "finally:\n",
        "  file.close()\n",
        "  print(\"Finally process\")"
      ],
      "metadata": {
        "id": "glAoLfxI5VNN",
        "outputId": "2ac7f99c-60ce-44e5-eb2d-e5e2c7fa787a",
        "colab": {
          "base_uri": "https://localhost:8080/"
        }
      },
      "id": "glAoLfxI5VNN",
      "execution_count": 26,
      "outputs": [
        {
          "output_type": "stream",
          "name": "stdout",
          "text": [
            "Exception file Error\n",
            "Finally process\n"
          ]
        }
      ]
    },
    {
      "cell_type": "code",
      "source": [
        "# Python try: except: else: finally:\n",
        "try:\n",
        "  file = open(\"myfile.txt\", 'w')\n",
        "  file.write(\"Python write file\")\n",
        "  print(\"file saved\")\n",
        "except:\n",
        "  print(\"Exception file Error\")\n",
        "finally:\n",
        "  file.close()\n",
        "  print(\"Finally process\")"
      ],
      "metadata": {
        "id": "X7yGV9un5keU",
        "outputId": "f43b75ed-dfc6-4d11-e5ae-04cd58130fea",
        "colab": {
          "base_uri": "https://localhost:8080/"
        }
      },
      "id": "X7yGV9un5keU",
      "execution_count": 28,
      "outputs": [
        {
          "output_type": "stream",
          "name": "stdout",
          "text": [
            "file saved\n",
            "Finally process\n"
          ]
        }
      ]
    },
    {
      "cell_type": "markdown",
      "source": [
        "# End"
      ],
      "metadata": {
        "id": "J6HRXh1z5zW-"
      },
      "id": "J6HRXh1z5zW-"
    }
  ],
  "metadata": {
    "kernelspec": {
      "display_name": "Python 3 (ipykernel)",
      "language": "python",
      "name": "python3"
    },
    "language_info": {
      "codemirror_mode": {
        "name": "ipython",
        "version": 3
      },
      "file_extension": ".py",
      "mimetype": "text/x-python",
      "name": "python",
      "nbconvert_exporter": "python",
      "pygments_lexer": "ipython3",
      "version": "3.13.5"
    },
    "colab": {
      "provenance": []
    }
  },
  "nbformat": 4,
  "nbformat_minor": 5
}