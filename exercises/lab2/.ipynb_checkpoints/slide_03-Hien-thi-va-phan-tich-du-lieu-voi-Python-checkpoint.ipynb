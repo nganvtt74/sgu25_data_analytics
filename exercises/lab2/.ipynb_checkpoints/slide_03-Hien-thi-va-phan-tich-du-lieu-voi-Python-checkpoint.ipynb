{
 "cells": [
  {
   "cell_type": "markdown",
   "id": "2bff2c9a-fc9f-4ca9-83a1-c151050008ab",
   "metadata": {},
   "source": [
    "# 03 - Hiển thị và phân tích dữ liệu với Python"
   ]
  },
  {
   "cell_type": "code",
   "execution_count": null,
   "id": "4cb97b71-bf2b-46ea-9b51-6f65a40bc541",
   "metadata": {},
   "outputs": [],
   "source": []
  }
 ],
 "metadata": {
  "kernelspec": {
   "display_name": "Python 3 (ipykernel)",
   "language": "python",
   "name": "python3"
  },
  "language_info": {
   "codemirror_mode": {
    "name": "ipython",
    "version": 3
   },
   "file_extension": ".py",
   "mimetype": "text/x-python",
   "name": "python",
   "nbconvert_exporter": "python",
   "pygments_lexer": "ipython3",
   "version": "3.13.5"
  }
 },
 "nbformat": 4,
 "nbformat_minor": 5
}
